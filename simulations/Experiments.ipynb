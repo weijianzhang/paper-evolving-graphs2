{
 "cells": [
  {
   "cell_type": "code",
   "execution_count": 136,
   "metadata": {
    "collapsed": true
   },
   "outputs": [],
   "source": [
    "workspace()"
   ]
  },
  {
   "cell_type": "code",
   "execution_count": 18,
   "metadata": {
    "collapsed": true
   },
   "outputs": [],
   "source": [
    "using EvolvingGraphs\n",
    "using EvolvingGraphs.Centrality\n",
    "using StatsBase\n",
    "using DataStructures"
   ]
  },
  {
   "cell_type": "markdown",
   "metadata": {},
   "source": [
    "# Katz Motivation exmple "
   ]
  },
  {
   "cell_type": "code",
   "execution_count": 54,
   "metadata": {},
   "outputs": [
    {
     "data": {
      "text/plain": [
       "Directed EvolvingGraph 0 nodes, 0 static edges, 0 timestamps"
      ]
     },
     "execution_count": 54,
     "metadata": {},
     "output_type": "execute_result"
    }
   ],
   "source": [
    "g = EvolvingGraph{Node{String}, Int}()"
   ]
  },
  {
   "cell_type": "code",
   "execution_count": 55,
   "metadata": {},
   "outputs": [
    {
     "data": {
      "text/plain": [
       "Directed EvolvingGraph 3 nodes, 5 static edges, 3 timestamps"
      ]
     },
     "execution_count": 55,
     "metadata": {},
     "output_type": "execute_result"
    }
   ],
   "source": [
    "add_bunch_of_edges!(g, [(\"A\", \"B\", 1), (\"A\", \"C\", 2), (\"A\", \"B\", 2),(\"C\", \"A\", 2),(\"B\", \"C\", 3)])"
   ]
  },
  {
   "cell_type": "code",
   "execution_count": 4,
   "metadata": {},
   "outputs": [
    {
     "data": {
      "text/plain": [
       "5-element Array{EvolvingGraphs.WeightedTimeEdge{EvolvingGraphs.Node{String},Int64,Float64},1}:\n",
       " Node(A)-1.0->Node(B) at time 1\n",
       " Node(A)-1.0->Node(C) at time 2\n",
       " Node(A)-1.0->Node(B) at time 2\n",
       " Node(C)-1.0->Node(A) at time 2\n",
       " Node(B)-1.0->Node(C) at time 3"
      ]
     },
     "execution_count": 4,
     "metadata": {},
     "output_type": "execute_result"
    }
   ],
   "source": [
    "edges(g)"
   ]
  },
  {
   "cell_type": "code",
   "execution_count": 56,
   "metadata": {},
   "outputs": [
    {
     "data": {
      "text/plain": [
       "3-element Array{Tuple{EvolvingGraphs.Node{String},Float64},1}:\n",
       " (Node(A), 0.742301)\n",
       " (Node(B), 0.42943) \n",
       " (Node(C), 0.514373)"
      ]
     },
     "execution_count": 56,
     "metadata": {},
     "output_type": "execute_result"
    }
   ],
   "source": [
    "katz(g)"
   ]
  },
  {
   "cell_type": "code",
   "execution_count": 90,
   "metadata": {},
   "outputs": [
    {
     "data": {
      "text/plain": [
       "Directed EvolvingGraph 3 nodes, 5 static edges, 3 timestamps"
      ]
     },
     "execution_count": 90,
     "metadata": {},
     "output_type": "execute_result"
    }
   ],
   "source": [
    "g2 = EvolvingGraph{Node{String}, Int}()\n",
    "add_bunch_of_edges!(g2, [(\"A\", \"B\", 3), (\"A\", \"C\", 2), (\"A\", \"B\", 2),(\"C\", \"A\", 2),(\"B\", \"C\", 1)])"
   ]
  },
  {
   "cell_type": "code",
   "execution_count": 5,
   "metadata": {},
   "outputs": [
    {
     "data": {
      "text/plain": [
       "3-element Array{Tuple{EvolvingGraphs.Node{String},Float64},1}:\n",
       " (Node(A), 0.687679)\n",
       " (Node(B), 0.490062)\n",
       " (Node(C), 0.535666)"
      ]
     },
     "execution_count": 5,
     "metadata": {},
     "output_type": "execute_result"
    }
   ],
   "source": [
    "katz(g2)"
   ]
  },
  {
   "cell_type": "code",
   "execution_count": 187,
   "metadata": {},
   "outputs": [
    {
     "data": {
      "text/plain": [
       "3-element Array{Tuple{EvolvingGraphs.Node{String},Float64},1}:\n",
       " (Node(A), 0.687679)\n",
       " (Node(B), 0.490062)\n",
       " (Node(C), 0.535666)"
      ]
     },
     "execution_count": 187,
     "metadata": {},
     "output_type": "execute_result"
    }
   ],
   "source": [
    "g3 = EvolvingGraph{Node{String}, Int}()\n",
    "add_bunch_of_edges!(g3, [(\"A\", \"B\", 100), (\"A\", \"C\", 10), (\"A\", \"B\", 10),(\"C\", \"A\", 10),(\"B\", \"C\", 1)])\n",
    "katz(g3)"
   ]
  },
  {
   "cell_type": "code",
   "execution_count": 7,
   "metadata": {},
   "outputs": [
    {
     "data": {
      "text/plain": [
       "3-element Array{Tuple{EvolvingGraphs.Node{String},Float64},1}:\n",
       " (Node(A), 0.64654) \n",
       " (Node(B), 0.604677)\n",
       " (Node(C), 0.465136)"
      ]
     },
     "execution_count": 7,
     "metadata": {},
     "output_type": "execute_result"
    }
   ],
   "source": [
    "g1 = EvolvingGraph{Node{String}, Int}()\n",
    "add_bunch_of_edges!(g1, [(\"A\",\"B\", 1),(\"B\",\"C\", 2)])\n",
    "katz(g1)"
   ]
  },
  {
   "cell_type": "code",
   "execution_count": 146,
   "metadata": {},
   "outputs": [
    {
     "data": {
      "text/plain": [
       "3-element Array{Tuple{EvolvingGraphs.Node{String},Float64},1}:\n",
       " (Node(A), 0.687679)\n",
       " (Node(B), 0.490062)\n",
       " (Node(C), 0.535666)"
      ]
     },
     "execution_count": 146,
     "metadata": {},
     "output_type": "execute_result"
    }
   ],
   "source": [
    "g2 = EvolvingGraph{Node{String}, Int}()\n",
    "add_bunch_of_edges!(g2, [(\"A\", \"B\", 3), (\"A\", \"C\", 2), (\"A\", \"B\", 2),(\"C\", \"A\", 2),(\"B\", \"C\", 1)])\n",
    "katz(g2)"
   ]
  },
  {
   "cell_type": "markdown",
   "metadata": {},
   "source": [
    "# Katz Centrality\n",
    "\n",
    "Each node `v` has forword neighbours. Each forward neighbour has forword neighbour, and so on."
   ]
  },
  {
   "cell_type": "code",
   "execution_count": 30,
   "metadata": {},
   "outputs": [
    {
     "data": {
      "text/plain": [
       "temporal_distance (generic function with 4 methods)"
      ]
     },
     "execution_count": 30,
     "metadata": {},
     "output_type": "execute_result"
    }
   ],
   "source": [
    "\"\"\"\n",
    "distance between two active nodes\n",
    "\n",
    "alpha: time unit parameter\n",
    "\"\"\"\n",
    "function temporal_distance(v1::TimeNode, v2::TimeNode, beta::Real = 0.0)\n",
    "    return beta* abs(node_timestamp(v1) - node_timestamp(v2))\n",
    "end\n",
    "function temporal_distance(v1::Tuple{Int,Int}, v2::Tuple{Int,Int}, beta::Real = 0.0)\n",
    "    return beta * abs(v1[2] - v2[2])\n",
    "end\n"
   ]
  },
  {
   "cell_type": "code",
   "execution_count": 26,
   "metadata": {},
   "outputs": [
    {
     "data": {
      "text/plain": [
       "temporal_katz (generic function with 2 methods)"
      ]
     },
     "execution_count": 26,
     "metadata": {},
     "output_type": "execute_result"
    }
   ],
   "source": [
    "function temporal_katz(g::AbstractEvolvingGraph, start::TimeNode; alpha = 0.1, k = 10)\n",
    "    score = 0.\n",
    "    v = start\n",
    "    fronter = [v]\n",
    "    level = 0\n",
    "    while level < k\n",
    "        next = []\n",
    "        for u in fronter\n",
    "            for v in forward_neighbors(g, u)\n",
    "                push!(next, v)\n",
    "                if node_key(v) != node_key(u)    \n",
    "                    td = temporal_distance(start, u)\n",
    "                    d = td + level\n",
    "                    score += alpha^d\n",
    "                end\n",
    "            end\n",
    "        end\n",
    "        fronter = next\n",
    "        level += 1\n",
    "    end\n",
    "    return score / num_edges(g)\n",
    "end\n",
    "\n",
    "function temporal_katz(g::IntAdjacencyList, start::Tuple{Int,Int}; alpha = 0.1, k = 10)\n",
    "    score = 0.\n",
    "    v = start\n",
    "    fronter = [v]\n",
    "    level = 0\n",
    "    while level < k\n",
    "        next = []\n",
    "        for u in fronter\n",
    "            fn = forward_neighbors(g, u)\n",
    "            for v in fn\n",
    "                push!(next, v)\n",
    "                td = temporal_distance(start, u)\n",
    "                d = td + level\n",
    "                score += alpha^d\n",
    "            end\n",
    "        end\n",
    "        fronter = next\n",
    "        level += 1\n",
    "    end\n",
    "    return score/ num_edges(g)\n",
    "end\n",
    "\n",
    "# Can be done in parallel, focus on useful node at certain time stamp\n"
   ]
  },
  {
   "cell_type": "code",
   "execution_count": 82,
   "metadata": {},
   "outputs": [
    {
     "data": {
      "text/plain": [
       "7-element Array{EvolvingGraphs.TimeNode{String,Int64},1}:\n",
       " TimeNode(A, 3)\n",
       " TimeNode(B, 3)\n",
       " TimeNode(A, 2)\n",
       " TimeNode(C, 2)\n",
       " TimeNode(B, 2)\n",
       " TimeNode(B, 1)\n",
       " TimeNode(C, 1)"
      ]
     },
     "execution_count": 82,
     "metadata": {},
     "output_type": "execute_result"
    }
   ],
   "source": [
    "active_nodes(g2)"
   ]
  },
  {
   "cell_type": "code",
   "execution_count": 83,
   "metadata": {},
   "outputs": [
    {
     "data": {
      "text/plain": [
       "Dict{Any,Any} with 7 entries:\n",
       "  TimeNode(C, 2) => 0.293333\n",
       "  TimeNode(B, 2) => 0.0\n",
       "  TimeNode(A, 3) => 0.2\n",
       "  TimeNode(A, 2) => 0.466667\n",
       "  TimeNode(B, 3) => 0.0\n",
       "  TimeNode(B, 1) => 0.202347\n",
       "  TimeNode(C, 1) => 0.0117333"
      ]
     },
     "execution_count": 83,
     "metadata": {},
     "output_type": "execute_result"
    }
   ],
   "source": [
    "an = active_nodes(g2)\n",
    "\n",
    "scores = Dict()\n",
    "for n in an\n",
    "    scores[n] = temporal_katz(g2, n, alpha = 0.2, k = 10)\n",
    "end\n",
    "scores"
   ]
  },
  {
   "cell_type": "code",
   "execution_count": 153,
   "metadata": {},
   "outputs": [
    {
     "data": {
      "text/plain": [
       "DataStructures.DefaultDict{Any,Any,Float64} with 3 entries:\n",
       "  \"B\" => 1.41227\n",
       "  \"A\" => 0.471678\n",
       "  \"C\" => 0.106402"
      ]
     },
     "execution_count": 153,
     "metadata": {},
     "output_type": "execute_result"
    }
   ],
   "source": [
    "using DataStructures\n",
    "\n",
    "sum_scores = DefaultDict(0.) \n",
    "for (n, v) in scores\n",
    "    sum_scores[node_key(n)] += v\n",
    "end\n",
    "sum_scores "
   ]
  },
  {
   "cell_type": "code",
   "execution_count": 76,
   "metadata": {},
   "outputs": [
    {
     "data": {
      "text/plain": [
       "Dict{Any,Any} with 7 entries:\n",
       "  TimeNode(B, 10)  => 0.0\n",
       "  TimeNode(B, 100) => 0.0\n",
       "  TimeNode(A, 100) => 0.2\n",
       "  TimeNode(C, 10)  => 0.291667\n",
       "  TimeNode(A, 10)  => 0.458333\n",
       "  TimeNode(C, 1)   => 2.98666e-8\n",
       "  TimeNode(B, 1)   => 0.2"
      ]
     },
     "execution_count": 76,
     "metadata": {},
     "output_type": "execute_result"
    }
   ],
   "source": [
    "an = active_nodes(g3)\n",
    "\n",
    "scores = Dict()\n",
    "for n in an\n",
    "    scores[n] = temporal_katz(g3, n, alpha = 0.2, k = 10)\n",
    "end\n",
    "scores"
   ]
  },
  {
   "cell_type": "code",
   "execution_count": 26,
   "metadata": {},
   "outputs": [
    {
     "data": {
      "text/plain": [
       "Dict{Any,Any} with 7 entries:\n",
       "  TimeNode(C, 1)   => 1.06833\n",
       "  TimeNode(B, 100) => 0.0\n",
       "  TimeNode(C, 2)   => 1.70833\n",
       "  TimeNode(B, 2)   => 1.0\n",
       "  TimeNode(B, 1)   => 3.25367\n",
       "  TimeNode(A, 100) => 1.0\n",
       "  TimeNode(A, 2)   => 3.54167"
      ]
     },
     "execution_count": 26,
     "metadata": {},
     "output_type": "execute_result"
    }
   ],
   "source": [
    "an = active_nodes(g3)\n",
    "\n",
    "scores = Dict()\n",
    "for n in an\n",
    "    scores[n] = temporal_katz(g3, n, alpha = 0.2, k = 10)\n",
    "end\n",
    "scores"
   ]
  },
  {
   "cell_type": "markdown",
   "metadata": {},
   "source": [
    "# Communicability Betweenness Centrality "
   ]
  },
  {
   "cell_type": "code",
   "execution_count": 375,
   "metadata": {},
   "outputs": [
    {
     "data": {
      "text/plain": [
       "temporal_resolvent_betweenness (generic function with 1 method)"
      ]
     },
     "execution_count": 375,
     "metadata": {},
     "output_type": "execute_result"
    }
   ],
   "source": [
    "\"\"\"\n",
    "Take account of all forward neighours.\n",
    "\"\"\"\n",
    "\n",
    "function temporal_katz(g::AbstractEvolvingGraph, start_node::TimeNode, end_node::TimeNode; alpha = 0.2, k = 10)\n",
    "    score = 0.\n",
    "    v = start_node\n",
    "    fronter = [v]\n",
    "    level = 0\n",
    "    while level < k\n",
    "        next = []\n",
    "        for u in fronter\n",
    "            for v in forward_neighbors(g, u)\n",
    "                push!(next, v)\n",
    "                if u == end_node\n",
    "                    if node_key(v) != node_key(u) \n",
    "                        td = temporal_distance(start_node, u)\n",
    "                        d = td + level\n",
    "                        score += alpha^d\n",
    "                    end\n",
    "                end\n",
    "            end\n",
    "        end\n",
    "        fronter = next\n",
    "        level += 1\n",
    "    end\n",
    "    return score\n",
    "end\n",
    "\n",
    "\n",
    "function temporal_resolvent_betweenness(g1::EvolvingGraph, g2::EvolvingGraph, v::TimeNode; alpha = 0.2, k = 10)\n",
    "    r = 0.\n",
    "    ns = active_nodes(g1)\n",
    "    for i in ns\n",
    "        for j in ns\n",
    "            if i != j && i != v && j != v\n",
    "\n",
    "                score1 = temporal_katz(g1, i, j, alpha = alpha, k = k)\n",
    "                score2 = temporal_katz(g2, i, j, alpha = alpha, k = k)\n",
    "#                 println(\"From node $i to node $j\")\n",
    "#                 println(\"score1 $score1 -> score2 $score2\")\n",
    "                if score1 != 0.0\n",
    "                    r += (score1 - score2)/score1\n",
    "                end\n",
    "            end\n",
    "        end\n",
    "    end\n",
    "    return r\n",
    "end"
   ]
  },
  {
   "cell_type": "code",
   "execution_count": 116,
   "metadata": {},
   "outputs": [
    {
     "data": {
      "text/plain": [
       "TimeNode(B, 3)"
      ]
     },
     "execution_count": 116,
     "metadata": {},
     "output_type": "execute_result"
    }
   ],
   "source": [
    "g1 = EvolvingGraph{Node{String}, Int}()\n",
    "add_bunch_of_edges!(g1, [(\"A\", \"B\", 3), (\"A\", \"C\", 2), (\"A\", \"B\", 2),(\"C\", \"A\", 2),(\"B\", \"C\", 1)])\n",
    "\n",
    "g2 = EvolvingGraph{Node{String}, Int}()\n",
    "add_bunch_of_edges!(g2, [(\"A\", \"C\", 2), (\"A\", \"B\", 2),(\"C\", \"A\", 2),(\"B\", \"C\", 1)])\n",
    "\n",
    "v = active_nodes(g1)[2]"
   ]
  },
  {
   "cell_type": "code",
   "execution_count": 117,
   "metadata": {},
   "outputs": [
    {
     "data": {
      "text/plain": [
       "4.0"
      ]
     },
     "execution_count": 117,
     "metadata": {},
     "output_type": "execute_result"
    }
   ],
   "source": [
    "temporal_resolvent_betweenness(g1, g2, v; alpha = 0.2, k = 10)"
   ]
  },
  {
   "cell_type": "code",
   "execution_count": 122,
   "metadata": {},
   "outputs": [
    {
     "data": {
      "text/plain": [
       "TimeNode(A, 2)"
      ]
     },
     "execution_count": 122,
     "metadata": {},
     "output_type": "execute_result"
    }
   ],
   "source": [
    "g1 = EvolvingGraph{Node{String}, Int}()\n",
    "add_bunch_of_edges!(g1, [(\"A\", \"B\", 3), (\"A\", \"C\", 2), (\"A\", \"B\", 2),(\"C\", \"A\", 2),(\"B\", \"C\", 1)])\n",
    "\n",
    "g2 = EvolvingGraph{Node{String}, Int}()\n",
    "add_bunch_of_edges!(g2, [(\"A\", \"B\", 3),(\"B\", \"C\", 1)])\n",
    "\n",
    "v = active_nodes(g1)[3]"
   ]
  },
  {
   "cell_type": "code",
   "execution_count": 123,
   "metadata": {},
   "outputs": [
    {
     "data": {
      "text/plain": [
       "5.0"
      ]
     },
     "execution_count": 123,
     "metadata": {},
     "output_type": "execute_result"
    }
   ],
   "source": [
    "temporal_resolvent_betweenness(g1, g2, v; alpha = 0.2, k = 10)"
   ]
  },
  {
   "cell_type": "code",
   "execution_count": 89,
   "metadata": {},
   "outputs": [
    {
     "name": "stdout",
     "output_type": "stream",
     "text": [
      "TimeNode(B, 100)\n"
     ]
    },
    {
     "data": {
      "text/plain": [
       "9.0"
      ]
     },
     "execution_count": 89,
     "metadata": {},
     "output_type": "execute_result"
    }
   ],
   "source": [
    "v = active_nodes(g1)[2]\n",
    "println(v)\n",
    "temporal_resolvent_betweenness(g1, g2, v; alpha = 0.2, k = 10)"
   ]
  },
  {
   "cell_type": "code",
   "execution_count": 14,
   "metadata": {},
   "outputs": [
    {
     "data": {
      "text/plain": [
       "Dict{Any,Any} with 7 entries:\n",
       "  TimeNode(B, 3) => 0.0\n",
       "  TimeNode(A, 2) => 0.0564789\n",
       "  TimeNode(C, 3) => 0\n",
       "  TimeNode(A, 1) => 0.0\n",
       "  TimeNode(B, 2) => 0.0\n",
       "  TimeNode(B, 1) => 0.0\n",
       "  TimeNode(C, 2) => 0.0860369"
      ]
     },
     "execution_count": 14,
     "metadata": {},
     "output_type": "execute_result"
    }
   ],
   "source": [
    "an = active_nodes(g)\n",
    "\n",
    "scores = Dict()\n",
    "for n in an\n",
    "    scores[n] = temporal_communicability(g, n, alpha = 0.1, k = 100)\n",
    "end\n",
    "scores"
   ]
  },
  {
   "cell_type": "code",
   "execution_count": 12,
   "metadata": {},
   "outputs": [
    {
     "data": {
      "text/plain": [
       "NaN"
      ]
     },
     "execution_count": 12,
     "metadata": {},
     "output_type": "execute_result"
    }
   ],
   "source": [
    "0/0"
   ]
  },
  {
   "cell_type": "markdown",
   "metadata": {},
   "source": [
    "# Temporal Betweenness\n",
    "\n",
    "In constrast with Katz and Communicability (which are based on walks), the following centrality algorithms are based on shortest paths."
   ]
  },
  {
   "cell_type": "code",
   "execution_count": 376,
   "metadata": {
    "collapsed": true
   },
   "outputs": [],
   "source": [
    "#TODO later"
   ]
  },
  {
   "cell_type": "markdown",
   "metadata": {},
   "source": [
    "# Temporal Closeness Centrality "
   ]
  },
  {
   "cell_type": "markdown",
   "metadata": {
    "collapsed": true
   },
   "source": [
    "Closeness centrality (or closeness) of a node is a measure of centrality in a network, calculated as the sum of the length of the shortest paths between the node and all other nodes in the graph."
   ]
  },
  {
   "cell_type": "code",
   "execution_count": 29,
   "metadata": {},
   "outputs": [
    {
     "data": {
      "text/plain": [
       "temporal_closeness (generic function with 1 method)"
      ]
     },
     "execution_count": 29,
     "metadata": {},
     "output_type": "execute_result"
    }
   ],
   "source": [
    "function temporal_closeness(g::Union{AbstractEvolvingGraph, IntAdjacencyList}, start::Union{TimeNode,Tuple{Int,Int}})\n",
    "    v = start\n",
    "    level = Dict(v => 0)\n",
    "    i = 1\n",
    "    fronter = [v]\n",
    "    while length(fronter) > 0\n",
    "        next = []\n",
    "        for u in fronter\n",
    "            for v in forward_neighbors(g, u)\n",
    "                if !(v in keys(level))\n",
    "                    if node_key(u) != node_key(v)\n",
    "                        td = temporal_distance(start, u)\n",
    "                        level[v] = i + td\n",
    "                    else\n",
    "                        level[v] = i - 1\n",
    "                    end\n",
    "                    push!(next, v)\n",
    "                end\n",
    "            end\n",
    "        end\n",
    "        fronter = next\n",
    "        i += 1\n",
    "    end\n",
    "    \n",
    "    total_scores = sum(values(level))\n",
    "    return total_scores > 0. ? (length(level) - 1)/total_scores : 0.\n",
    "end"
   ]
  },
  {
   "cell_type": "code",
   "execution_count": 2,
   "metadata": {},
   "outputs": [
    {
     "data": {
      "text/plain": [
       "temporal_closeness (generic function with 1 method)"
      ]
     },
     "execution_count": 2,
     "metadata": {},
     "output_type": "execute_result"
    }
   ],
   "source": [
    "function temporal_closeness(g::IntAdjacencyList, start::Tuple{Int,Int})\n",
    "    v = start\n",
    "    level = Dict(v => 0)\n",
    "    i = 1\n",
    "    fronter = [v]\n",
    "    while length(fronter) > 0\n",
    "        next = []\n",
    "        for u in fronter\n",
    "            for v in forward_neighbors(g, u)\n",
    "                if !(v in keys(level))\n",
    "                    if u[1] != v[1]\n",
    "                        td = temporal_distance(start, u)\n",
    "                        level[v] = i + td\n",
    "                    else\n",
    "                        level[v] = i - 1\n",
    "                    end\n",
    "                    push!(next, v)\n",
    "                end\n",
    "            end\n",
    "        end\n",
    "        fronter = next\n",
    "        i += 1\n",
    "    end\n",
    "    \n",
    "    total_scores = sum(values(level))\n",
    "    return total_scores > 0. ? (length(level) - 1)/total_scores : 0.\n",
    "end"
   ]
  },
  {
   "cell_type": "code",
   "execution_count": 125,
   "metadata": {},
   "outputs": [
    {
     "data": {
      "text/plain": [
       "5-element Array{EvolvingGraphs.WeightedTimeEdge{EvolvingGraphs.Node{String},Int64,Float64},1}:\n",
       " Node(A)-1.0->Node(B) at time 1\n",
       " Node(A)-1.0->Node(C) at time 2\n",
       " Node(A)-1.0->Node(B) at time 2\n",
       " Node(C)-1.0->Node(A) at time 2\n",
       " Node(B)-1.0->Node(C) at time 3"
      ]
     },
     "execution_count": 125,
     "metadata": {},
     "output_type": "execute_result"
    }
   ],
   "source": [
    "edges(g)"
   ]
  },
  {
   "cell_type": "code",
   "execution_count": 131,
   "metadata": {},
   "outputs": [
    {
     "data": {
      "text/plain": [
       "Dict{Any,Any} with 7 entries:\n",
       "  TimeNode(B, 2) => 0.0\n",
       "  TimeNode(A, 3) => 1.0\n",
       "  TimeNode(B, 1) => 0.346154\n",
       "  TimeNode(B, 3) => 0.0\n",
       "  TimeNode(A, 2) => 0.666667\n",
       "  TimeNode(C, 1) => 0.315789\n",
       "  TimeNode(C, 2) => 0.5"
      ]
     },
     "execution_count": 131,
     "metadata": {},
     "output_type": "execute_result"
    }
   ],
   "source": [
    "an = active_nodes(g2)\n",
    "\n",
    "scores = Dict()\n",
    "for n in an\n",
    "    scores[n] = temporal_closeness(g2, n)\n",
    "end\n",
    "scores"
   ]
  },
  {
   "cell_type": "code",
   "execution_count": 133,
   "metadata": {},
   "outputs": [
    {
     "data": {
      "text/plain": [
       "Dict{Any,Any} with 7 entries:\n",
       "  TimeNode(B, 10)  => 0.0\n",
       "  TimeNode(B, 100) => 0.0\n",
       "  TimeNode(A, 100) => 1.0\n",
       "  TimeNode(C, 10)  => 0.0412371\n",
       "  TimeNode(A, 10)  => 0.0707071\n",
       "  TimeNode(C, 1)   => 0.0390625\n",
       "  TimeNode(B, 1)   => 0.0597015"
      ]
     },
     "execution_count": 133,
     "metadata": {},
     "output_type": "execute_result"
    }
   ],
   "source": [
    "an = active_nodes(g3)\n",
    "\n",
    "scores = Dict()\n",
    "for n in an\n",
    "    scores[n] = temporal_closeness(g3, n)\n",
    "end\n",
    "scores"
   ]
  },
  {
   "cell_type": "markdown",
   "metadata": {
    "collapsed": true
   },
   "source": [
    "# Temporal PageRank\n",
    "\n",
    "Random walk interpretation can not travel back in time.\n",
    "\n",
    "* Block matrix version (use reverse pagerank): useful for evolving graph with a small number of timestamps\n",
    "\n",
    "* Probability based (time-stamps based rating): Random walk interpretation. Not fixed probability for all nodes but different probability for each individual node. "
   ]
  },
  {
   "cell_type": "code",
   "execution_count": 30,
   "metadata": {},
   "outputs": [
    {
     "data": {
      "text/plain": [
       "block_google_matrix (generic function with 1 method)"
      ]
     },
     "execution_count": 30,
     "metadata": {},
     "output_type": "execute_result"
    }
   ],
   "source": [
    "function block_google_matrix(g::IntAdjacencyList; alpha = 0.85, balance = 1)\n",
    "    A = full(block_adjacency_matrix(g))\n",
    "    M = balance * A + (1-balance) * A'\n",
    "    N, N = size(M)\n",
    "    p = ones(N)/N\n",
    "    dangling_weights = p\n",
    "    dangling_nodes = find(x->x==0, sum(M,2))\n",
    "    \n",
    "    for node in dangling_nodes\n",
    "        M[node,:] = dangling_weights\n",
    "    end\n",
    "    M ./= sum(M,2)\n",
    "    return alpha * M .+ (1- alpha) * p\n",
    "end"
   ]
  },
  {
   "cell_type": "code",
   "execution_count": 31,
   "metadata": {},
   "outputs": [
    {
     "data": {
      "text/plain": [
       "Directed EvolvingGraph 3 nodes, 3 static edges, 3 timestamps"
      ]
     },
     "execution_count": 31,
     "metadata": {},
     "output_type": "execute_result"
    }
   ],
   "source": [
    "g2 = EvolvingGraph{Node{String}, Int}()\n",
    "add_bunch_of_edges!(g2, [(\"A\", \"B\", 3), (\"A\", \"C\", 2),(\"B\", \"C\", 1)])"
   ]
  },
  {
   "cell_type": "code",
   "execution_count": 35,
   "metadata": {},
   "outputs": [
    {
     "data": {
      "text/plain": [
       "temporal_pagerank (generic function with 1 method)"
      ]
     },
     "execution_count": 35,
     "metadata": {},
     "output_type": "execute_result"
    }
   ],
   "source": [
    "function temporal_pagerank(g::AbstractEvolvingGraph)\n",
    "    A = block_google_matrix(g)\n",
    "    F = eigfact(A')\n",
    "    vals = abs.(F[:values])\n",
    "    _, index = findmax(vals)\n",
    "    return abs.(F[:vectors][:,index])\n",
    "end"
   ]
  },
  {
   "cell_type": "code",
   "execution_count": 36,
   "metadata": {},
   "outputs": [
    {
     "data": {
      "text/plain": [
       "Dict{Any,Any} with 3 entries:\n",
       "  \"B\" => 2\n",
       "  \"A\" => 1\n",
       "  \"C\" => 3"
      ]
     },
     "execution_count": 36,
     "metadata": {},
     "output_type": "execute_result"
    }
   ],
   "source": [
    "node_i = Dict()\n",
    "for n in nodes(g2)\n",
    "    node_i[node_key(n)] = node_index(n)\n",
    "end\n",
    "node_i"
   ]
  },
  {
   "cell_type": "code",
   "execution_count": 40,
   "metadata": {},
   "outputs": [
    {
     "data": {
      "text/plain": [
       "500-element Array{Int64,1}:\n",
       "   1\n",
       "   2\n",
       "   3\n",
       "   4\n",
       "   5\n",
       "   6\n",
       "   7\n",
       "   8\n",
       "   9\n",
       "  10\n",
       "  11\n",
       "  12\n",
       "  13\n",
       "   ⋮\n",
       " 489\n",
       " 490\n",
       " 491\n",
       " 492\n",
       " 493\n",
       " 494\n",
       " 495\n",
       " 496\n",
       " 497\n",
       " 498\n",
       " 499\n",
       " 500"
      ]
     },
     "execution_count": 40,
     "metadata": {},
     "output_type": "execute_result"
    }
   ],
   "source": [
    "nn = num_nodes(g)\n",
    "r = temporal_pagerank(g)\n",
    "ns = nodes(g)\n",
    "#scores = Dict()\n",
    "#for n in ns\n",
    "#    t = node_timestamp(n)\n",
    "#    i = node_i[node_key(n)]\n",
    "#    scores[n] = r[i+(t-1)*nn]\n",
    "#end\n",
    "#scores"
   ]
  },
  {
   "cell_type": "code",
   "execution_count": 42,
   "metadata": {},
   "outputs": [
    {
     "data": {
      "text/plain": [
       "500-element Array{Float64,1}:\n",
       " 0.0111377\n",
       " 0.0114701\n",
       " 0.011841 \n",
       " 0.0121502\n",
       " 0.0118863\n",
       " 0.0122059\n",
       " 0.0125376\n",
       " 0.0139144\n",
       " 0.0123537\n",
       " 0.0114941\n",
       " 0.0132801\n",
       " 0.0108638\n",
       " 0.0139721\n",
       " ⋮        \n",
       " 0.0118571\n",
       " 0.0116247\n",
       " 0.010082 \n",
       " 0.0128428\n",
       " 0.010226 \n",
       " 0.012166 \n",
       " 0.0106454\n",
       " 0.0122471\n",
       " 0.0118073\n",
       " 0.0119758\n",
       " 0.0116085\n",
       " 0.0126577"
      ]
     },
     "execution_count": 42,
     "metadata": {},
     "output_type": "execute_result"
    }
   ],
   "source": [
    "r[1:500]"
   ]
  },
  {
   "cell_type": "code",
   "execution_count": 284,
   "metadata": {},
   "outputs": [
    {
     "data": {
      "text/plain": [
       "DataStructures.DefaultDict{Any,Any,Float64} with 3 entries:\n",
       "  \"B\" => 0.571454\n",
       "  \"A\" => 0.3811\n",
       "  \"C\" => 0.504663"
      ]
     },
     "execution_count": 284,
     "metadata": {},
     "output_type": "execute_result"
    }
   ],
   "source": [
    "using DataStructures\n",
    "\n",
    "sum_scores = DefaultDict(0.) \n",
    "for (n, v) in scores\n",
    "    sum_scores[node_key(n)] += v\n",
    "end\n",
    "sum_scores "
   ]
  },
  {
   "cell_type": "markdown",
   "metadata": {},
   "source": [
    "# Random Evolving Graph Data\n",
    "\n",
    "Start with the original definition and compare the change of ranking of top authors if we vary"
   ]
  },
  {
   "cell_type": "code",
   "execution_count": 3,
   "metadata": {},
   "outputs": [
    {
     "data": {
      "text/plain": [
       "Directed IntAdjacencyList (500 nodes, 499183 static edges, 10 timestamps)"
      ]
     },
     "execution_count": 3,
     "metadata": {},
     "output_type": "execute_result"
    }
   ],
   "source": [
    "srand(1234)\n",
    "g = random_evolving_graph(500, 10, 0.2)"
   ]
  },
  {
   "cell_type": "code",
   "execution_count": 24,
   "metadata": {},
   "outputs": [
    {
     "data": {
      "text/plain": [
       "10-element Array{Tuple{Int64,Float64},1}:\n",
       " (459, 0.126296) \n",
       " (147, 0.116541) \n",
       " (326, 0.113667) \n",
       " (183, 0.108705) \n",
       " (469, 0.0936847)\n",
       " (296, 0.0925748)\n",
       " (424, 0.0921004)\n",
       " (377, 0.091973) \n",
       " (313, 0.0910352)\n",
       " (127, 0.089123) "
      ]
     },
     "execution_count": 24,
     "metadata": {},
     "output_type": "execute_result"
    }
   ],
   "source": [
    "r = katz(g)\n",
    "sorted_top = sort(r, by = x -> x[2], rev = true)[1:10]"
   ]
  },
  {
   "cell_type": "code",
   "execution_count": 6,
   "metadata": {
    "collapsed": true
   },
   "outputs": [],
   "source": [
    "sorted_top_keys = map(x -> x[1], sorted_top);"
   ]
  },
  {
   "cell_type": "code",
   "execution_count": 12,
   "metadata": {},
   "outputs": [
    {
     "data": {
      "text/plain": [
       "100-element Array{Any,1}:\n",
       " ((459, 1), 0.491544) \n",
       " ((459, 2), 0.488173) \n",
       " ((459, 3), 0.493034) \n",
       " ((459, 4), 0.48409)  \n",
       " ((459, 5), 0.492366) \n",
       " ((459, 6), 0.501002) \n",
       " ((459, 7), 0.498379) \n",
       " ((459, 8), 0.496687) \n",
       " ((459, 9), 0.502262) \n",
       " ((459, 10), 0.555061)\n",
       " ((147, 1), 0.479015) \n",
       " ((147, 2), 0.481279) \n",
       " ((147, 3), 0.494375) \n",
       " ⋮                    \n",
       " ((313, 9), 0.515214) \n",
       " ((313, 10), 0.56257) \n",
       " ((127, 1), 0.483135) \n",
       " ((127, 2), 0.484754) \n",
       " ((127, 3), 0.480014) \n",
       " ((127, 4), 0.490331) \n",
       " ((127, 5), 0.497594) \n",
       " ((127, 6), 0.496523) \n",
       " ((127, 7), 0.493946) \n",
       " ((127, 8), 0.499334) \n",
       " ((127, 9), 0.507107) \n",
       " ((127, 10), 0.55692) "
      ]
     },
     "execution_count": 12,
     "metadata": {},
     "output_type": "execute_result"
    }
   ],
   "source": [
    "scores_clo2 = []\n",
    "for n in sorted_top_keys\n",
    "    for t in 1:10\n",
    "        intn = (n, t)\n",
    "        tr = temporal_closeness(g, intn)\n",
    "        push!(scores_clo2, (intn, tr))\n",
    "    end\n",
    "end\n",
    "scores_clo2"
   ]
  },
  {
   "cell_type": "code",
   "execution_count": 37,
   "metadata": {},
   "outputs": [
    {
     "data": {
      "text/plain": [
       "10-element Array{Any,1}:\n",
       " ((296, 1), 0.253937)\n",
       " ((469, 1), 0.248744)\n",
       " ((377, 1), 0.247757)\n",
       " ((459, 1), 0.247512)\n",
       " ((424, 1), 0.247133)\n",
       " ((326, 1), 0.247059)\n",
       " ((127, 1), 0.244593)\n",
       " ((183, 1), 0.242235)\n",
       " ((313, 1), 0.238867)\n",
       " ((147, 1), 0.237313)"
      ]
     },
     "execution_count": 37,
     "metadata": {},
     "output_type": "execute_result"
    }
   ],
   "source": [
    "time_scores = []\n",
    "for (n, v) in scores_clo\n",
    "    if n[2] == 1\n",
    "        push!(time_scores, (n, v))\n",
    "    end\n",
    "end\n",
    "sort(time_scores, by = x -> x[2], rev = true)"
   ]
  },
  {
   "cell_type": "code",
   "execution_count": 19,
   "metadata": {},
   "outputs": [
    {
     "data": {
      "text/plain": [
       "10-element Array{Pair{Any,Any},1}:\n",
       " Pair{Any,Any}(469, 3.5618) \n",
       " Pair{Any,Any}(147, 3.55717)\n",
       " Pair{Any,Any}(183, 3.55485)\n",
       " Pair{Any,Any}(313, 3.54834)\n",
       " Pair{Any,Any}(377, 3.54467)\n",
       " Pair{Any,Any}(296, 3.54125)\n",
       " Pair{Any,Any}(459, 3.54034)\n",
       " Pair{Any,Any}(127, 3.53797)\n",
       " Pair{Any,Any}(424, 3.5353) \n",
       " Pair{Any,Any}(326, 3.53318)"
      ]
     },
     "execution_count": 19,
     "metadata": {},
     "output_type": "execute_result"
    }
   ],
   "source": [
    "sum_scores = DefaultDict(0.) \n",
    "for (n, v) in scores_clo\n",
    "    sum_scores[n[1]] += v\n",
    "end\n",
    "sum_scores\n",
    "sort(collect(sum_scores), by = x -> x[2], rev = true)"
   ]
  },
  {
   "cell_type": "code",
   "execution_count": 39,
   "metadata": {},
   "outputs": [
    {
     "data": {
      "text/plain": [
       "10-element Array{Pair{Any,Any},1}:\n",
       " Pair{Any,Any}(469, 5.04016)\n",
       " Pair{Any,Any}(183, 5.02977)\n",
       " Pair{Any,Any}(313, 5.01658)\n",
       " Pair{Any,Any}(326, 5.00902)\n",
       " Pair{Any,Any}(147, 5.00863)\n",
       " Pair{Any,Any}(459, 5.0026) \n",
       " Pair{Any,Any}(296, 5.00257)\n",
       " Pair{Any,Any}(377, 4.9969) \n",
       " Pair{Any,Any}(127, 4.98966)\n",
       " Pair{Any,Any}(424, 4.98694)"
      ]
     },
     "execution_count": 39,
     "metadata": {},
     "output_type": "execute_result"
    }
   ],
   "source": [
    "sum_scores = DefaultDict(0.) \n",
    "for (n, v) in scores_clo2\n",
    "    sum_scores[n[1]] += v\n",
    "end\n",
    "sum_scores\n",
    "sort(collect(sum_scores), by = x -> x[2], rev = true)"
   ]
  },
  {
   "cell_type": "code",
   "execution_count": 38,
   "metadata": {},
   "outputs": [
    {
     "data": {
      "text/plain": [
       "10-element Array{Any,1}:\n",
       " ((296, 1), 0.493826)\n",
       " ((469, 1), 0.493387)\n",
       " ((459, 1), 0.491544)\n",
       " ((424, 1), 0.488756)\n",
       " ((326, 1), 0.487898)\n",
       " ((377, 1), 0.487184)\n",
       " ((183, 1), 0.485764)\n",
       " ((127, 1), 0.483135)\n",
       " ((147, 1), 0.479015)\n",
       " ((313, 1), 0.477277)"
      ]
     },
     "execution_count": 38,
     "metadata": {},
     "output_type": "execute_result"
    }
   ],
   "source": [
    "time_scores = []\n",
    "for (n, v) in scores_clo2\n",
    "    if n[2] == 1\n",
    "        push!(time_scores, (n, v))\n",
    "    end\n",
    "end\n",
    "sort(time_scores, by = x -> x[2], rev = true)"
   ]
  },
  {
   "cell_type": "code",
   "execution_count": 31,
   "metadata": {},
   "outputs": [
    {
     "data": {
      "text/plain": [
       "100-element Array{Any,1}:\n",
       " ((459, 1), 0.62903)  \n",
       " ((459, 2), 0.579759) \n",
       " ((459, 3), 0.563742) \n",
       " ((459, 4), 0.522358) \n",
       " ((459, 5), 0.548133) \n",
       " ((459, 6), 0.599635) \n",
       " ((459, 7), 0.541802) \n",
       " ((459, 8), 0.47214)  \n",
       " ((459, 9), 0.441643) \n",
       " ((459, 10), 0.502562)\n",
       " ((147, 1), 0.547159) \n",
       " ((147, 2), 0.49845)  \n",
       " ((147, 3), 0.601793) \n",
       " ⋮                    \n",
       " ((313, 9), 0.513323) \n",
       " ((313, 10), 0.557448)\n",
       " ((127, 1), 0.549244) \n",
       " ((127, 2), 0.553146) \n",
       " ((127, 3), 0.46508)  \n",
       " ((127, 4), 0.524687) \n",
       " ((127, 5), 0.606209) \n",
       " ((127, 6), 0.554106) \n",
       " ((127, 7), 0.528815) \n",
       " ((127, 8), 0.503844) \n",
       " ((127, 9), 0.436141) \n",
       " ((127, 10), 0.515292)"
      ]
     },
     "execution_count": 31,
     "metadata": {},
     "output_type": "execute_result"
    }
   ],
   "source": [
    "scores_2 = []\n",
    "\n",
    "for n in sorted_top_keys\n",
    "    for t in 1:10\n",
    "        intn = (n, t)\n",
    "        tr = temporal_katz(g, intn, alpha = 0.5, k = 3)\n",
    "        push!(scores_2, (intn, tr))\n",
    "    end\n",
    "end\n",
    "scores"
   ]
  },
  {
   "cell_type": "code",
   "execution_count": 33,
   "metadata": {},
   "outputs": [
    {
     "data": {
      "text/plain": [
       "10-element Array{Any,1}:\n",
       " ((469, 1), 0.7193)  \n",
       " ((459, 1), 0.718027)\n",
       " ((424, 1), 0.710843)\n",
       " ((296, 1), 0.704199)\n",
       " ((326, 1), 0.685345)\n",
       " ((183, 1), 0.66474) \n",
       " ((377, 1), 0.66221) \n",
       " ((127, 1), 0.631586)\n",
       " ((147, 1), 0.630289)\n",
       " ((313, 1), 0.571531)"
      ]
     },
     "execution_count": 33,
     "metadata": {},
     "output_type": "execute_result"
    }
   ],
   "source": [
    "time_scores = []\n",
    "for (n, v) in scores_2\n",
    "    if n[2] == 1\n",
    "        push!(time_scores, (n, v))\n",
    "    end\n",
    "end\n",
    "sort(time_scores, by = x -> x[2], rev = true)"
   ]
  },
  {
   "cell_type": "code",
   "execution_count": 24,
   "metadata": {},
   "outputs": [
    {
     "data": {
      "text/plain": [
       "10-element Array{Any,1}:\n",
       " ((459, 1), 0.62903) \n",
       " ((469, 1), 0.62809) \n",
       " ((424, 1), 0.623551)\n",
       " ((296, 1), 0.616669)\n",
       " ((326, 1), 0.598365)\n",
       " ((183, 1), 0.577783)\n",
       " ((377, 1), 0.577505)\n",
       " ((127, 1), 0.549244)\n",
       " ((147, 1), 0.547159)\n",
       " ((313, 1), 0.491694)"
      ]
     },
     "execution_count": 24,
     "metadata": {},
     "output_type": "execute_result"
    }
   ],
   "source": [
    "time_scores = []\n",
    "for (n, v) in scores_2\n",
    "    if n[2] == 1\n",
    "        push!(time_scores, (n, v))\n",
    "    end\n",
    "end\n",
    "sort(time_scores, by = x -> x[2], rev = true)"
   ]
  },
  {
   "cell_type": "code",
   "execution_count": 35,
   "metadata": {},
   "outputs": [
    {
     "data": {
      "text/plain": [
       "10-element Array{Any,1}:\n",
       " ((459, 1), 0.62903) \n",
       " ((469, 1), 0.62809) \n",
       " ((424, 1), 0.623551)\n",
       " ((296, 1), 0.616669)\n",
       " ((326, 1), 0.598365)\n",
       " ((183, 1), 0.577783)\n",
       " ((377, 1), 0.577505)\n",
       " ((127, 1), 0.549244)\n",
       " ((147, 1), 0.547159)\n",
       " ((313, 1), 0.491694)"
      ]
     },
     "execution_count": 35,
     "metadata": {},
     "output_type": "execute_result"
    }
   ],
   "source": [
    "time_scores = []\n",
    "for (n, v) in scores\n",
    "    if n[2] == 1\n",
    "        push!(time_scores, (n, v))\n",
    "    end\n",
    "end\n",
    "sort(time_scores, by = x -> x[2], rev = true)"
   ]
  },
  {
   "cell_type": "code",
   "execution_count": 36,
   "metadata": {},
   "outputs": [
    {
     "data": {
      "text/plain": [
       "10-element Array{Pair{Any,Any},1}:\n",
       " Pair{Any,Any}(183, 5.5761) \n",
       " Pair{Any,Any}(469, 5.53313)\n",
       " Pair{Any,Any}(326, 5.41495)\n",
       " Pair{Any,Any}(313, 5.4089) \n",
       " Pair{Any,Any}(459, 5.4008) \n",
       " Pair{Any,Any}(147, 5.3966) \n",
       " Pair{Any,Any}(377, 5.31166)\n",
       " Pair{Any,Any}(296, 5.29904)\n",
       " Pair{Any,Any}(424, 5.25772)\n",
       " Pair{Any,Any}(127, 5.23656)"
      ]
     },
     "execution_count": 36,
     "metadata": {},
     "output_type": "execute_result"
    }
   ],
   "source": [
    "sum_scores = DefaultDict(0.) \n",
    "for (n, v) in scores\n",
    "    sum_scores[n[1]] += v\n",
    "end\n",
    "sort(collect(sum_scores), by = x -> x[2], rev = true)"
   ]
  },
  {
   "cell_type": "code",
   "execution_count": 26,
   "metadata": {},
   "outputs": [
    {
     "data": {
      "text/plain": [
       "10-element Array{Pair{Any,Any},1}:\n",
       " Pair{Any,Any}(183, 5.5761) \n",
       " Pair{Any,Any}(469, 5.53313)\n",
       " Pair{Any,Any}(326, 5.41495)\n",
       " Pair{Any,Any}(313, 5.4089) \n",
       " Pair{Any,Any}(459, 5.4008) \n",
       " Pair{Any,Any}(147, 5.3966) \n",
       " Pair{Any,Any}(377, 5.31166)\n",
       " Pair{Any,Any}(296, 5.29904)\n",
       " Pair{Any,Any}(424, 5.25772)\n",
       " Pair{Any,Any}(127, 5.23656)"
      ]
     },
     "execution_count": 26,
     "metadata": {},
     "output_type": "execute_result"
    }
   ],
   "source": [
    "using DataStructures\n",
    "\n",
    "sum_scores = DefaultDict(0.) \n",
    "for (n, v) in scores_2\n",
    "    sum_scores[n[1]] += v\n",
    "end\n",
    "sum_scores\n",
    "sort(collect(sum_scores), by = x -> x[2], rev = true)"
   ]
  },
  {
   "cell_type": "code",
   "execution_count": 42,
   "metadata": {},
   "outputs": [
    {
     "data": {
      "text/plain": [
       "10-element Array{Pair{Any,Any},1}:\n",
       " Pair{Any,Any}((414, 5), 0.718281)\n",
       " Pair{Any,Any}((334, 5), 0.714431)\n",
       " Pair{Any,Any}((35, 5), 0.71414)  \n",
       " Pair{Any,Any}((9, 5), 0.713123)  \n",
       " Pair{Any,Any}((123, 5), 0.711902)\n",
       " Pair{Any,Any}((428, 5), 0.711783)\n",
       " Pair{Any,Any}((478, 5), 0.711754)\n",
       " Pair{Any,Any}((164, 5), 0.711648)\n",
       " Pair{Any,Any}((291, 5), 0.695053)\n",
       " Pair{Any,Any}((250, 5), 0.657184)"
      ]
     },
     "execution_count": 42,
     "metadata": {},
     "output_type": "execute_result"
    }
   ],
   "source": [
    "using DataStructures\n",
    "\n",
    "sum_scores = DefaultDict(0.) \n",
    "for (n, v) in scores\n",
    "    sum_scores[n] += v\n",
    "end\n",
    "sum_scores\n",
    "sort(collect(sum_scores), by = x -> x[2], rev = true)"
   ]
  },
  {
   "cell_type": "code",
   "execution_count": null,
   "metadata": {
    "collapsed": true
   },
   "outputs": [],
   "source": []
  },
  {
   "cell_type": "code",
   "execution_count": 31,
   "metadata": {},
   "outputs": [
    {
     "name": "stdout",
     "output_type": "stream",
     "text": [
      "node TimeNode(11, 1)\n",
      "value 1224.834899819936\n",
      "node TimeNode(17, 1)\n",
      "value 1163.8518998292761\n",
      "node TimeNode(45, 1)\n",
      "value 1293.5838998093886\n",
      "node TimeNode(52, 1)\n",
      "value 906.0639998690834\n",
      "node TimeNode(25, 1)\n",
      "value 778.2052998885803\n",
      "node TimeNode(34, 1)\n",
      "value 1238.168899817753\n",
      "node TimeNode(36, 1)\n",
      "value 1539.8606997719116\n",
      "node TimeNode(54, 1)\n",
      "value 1144.227099832334\n",
      "node TimeNode(55, 1)\n",
      "value 1169.1183998284694\n",
      "node TimeNode(43, 1)\n",
      "value 1099.1326998390223\n",
      "node TimeNode(80, 1)\n",
      "value 1363.896299798577\n",
      "node TimeNode(23, 1)\n",
      "value 1047.9910998470273\n",
      "node TimeNode(6, 1)\n",
      "value 1296.9582998088517\n",
      "node TimeNode(37, 1)\n",
      "value 1228.5242998193146\n",
      "node TimeNode(46, 1)\n",
      "value 910.8328998682736\n",
      "node TimeNode(60, 1)\n",
      "value 1141.6199998327547\n",
      "node TimeNode(89, 1)\n",
      "value 1341.6504998016464\n",
      "node TimeNode(33, 1)\n",
      "value 922.5920998664808\n",
      "node TimeNode(73, 1)\n",
      "value 900.4506998700047\n",
      "node TimeNode(94, 1)\n",
      "value 1128.5436998347964\n",
      "node TimeNode(11, 2)\n",
      "value 746.1284998952133\n",
      "node TimeNode(17, 2)\n",
      "value 910.4348998706787\n",
      "node TimeNode(25, 2)\n",
      "value 967.3979998618654\n",
      "node TimeNode(33, 2)\n",
      "value 712.4679999003184\n",
      "node TimeNode(73, 2)\n",
      "value 1019.4938998539851\n",
      "node TimeNode(94, 2)\n",
      "value 924.7697998685555\n",
      "node TimeNode(36, 2)\n",
      "value 767.4340998922714\n",
      "node TimeNode(52, 2)\n",
      "value 1071.813899846232\n",
      "node TimeNode(43, 2)\n",
      "value 1230.625199822104\n",
      "node TimeNode(45, 2)\n",
      "value 937.2700998664602\n",
      "node TimeNode(46, 2)\n",
      "value 1116.2263998394246\n",
      "node TimeNode(60, 2)\n",
      "value 1032.5698998520945\n",
      "node TimeNode(80, 2)\n",
      "value 1195.693199827593\n",
      "node TimeNode(55, 2)\n",
      "value 1036.356499851755\n",
      "node TimeNode(6, 2)\n",
      "value 739.1854998963444\n",
      "node TimeNode(23, 2)\n",
      "value 831.8671998823056\n",
      "node TimeNode(89, 2)\n",
      "value 833.4751998820449\n",
      "node TimeNode(34, 2)\n",
      "value 814.6141998849698\n",
      "node TimeNode(37, 2)\n",
      "value 887.2989998739566\n",
      "node TimeNode(54, 2)\n",
      "value 753.0668998946486\n",
      "node TimeNode(17, 3)\n",
      "value 587.0330999199934\n",
      "node TimeNode(25, 3)\n",
      "value 800.5772998879302\n",
      "node TimeNode(34, 3)\n",
      "value 904.5731998723054\n",
      "node TimeNode(11, 3)\n",
      "value 969.3810998626735\n",
      "node TimeNode(23, 3)\n",
      "value 753.8714998949926\n",
      "node TimeNode(52, 3)\n",
      "value 675.6824999067645\n",
      "node TimeNode(80, 3)\n",
      "value 852.8720998802286\n",
      "node TimeNode(33, 3)\n",
      "value 821.3542998848397\n",
      "node TimeNode(37, 3)\n",
      "value 880.4623998757287\n",
      "node TimeNode(54, 3)\n",
      "value 891.796199874199\n",
      "node TimeNode(55, 3)\n",
      "value 1011.1905998564351\n",
      "node TimeNode(60, 3)\n",
      "value 933.1858998679498\n",
      "node TimeNode(6, 3)\n",
      "value 764.9990998931712\n",
      "node TimeNode(45, 3)\n",
      "value 1049.8261998504922\n",
      "node TimeNode(89, 3)\n",
      "value 1060.908199848935\n",
      "node TimeNode(36, 3)\n",
      "value 1001.2650998579329\n",
      "node TimeNode(43, 3)\n",
      "value 1052.2808998499631\n",
      "node TimeNode(73, 3)\n",
      "value 775.2179998918085\n",
      "node TimeNode(46, 3)\n",
      "value 1025.6048998542067\n",
      "node TimeNode(94, 3)\n",
      "value 692.4524999042806\n",
      "node TimeNode(6, 4)\n",
      "value 563.00539992599\n",
      "node TimeNode(11, 4)\n",
      "value 715.3851999036387\n",
      "node TimeNode(60, 4)\n",
      "value 516.8642999355475\n",
      "node TimeNode(94, 4)\n",
      "value 791.037299892969\n",
      "node TimeNode(34, 4)\n",
      "value 642.601199914426\n",
      "node TimeNode(54, 4)\n",
      "value 578.0396999236216\n",
      "node TimeNode(73, 4)\n",
      "value 826.6788998875377\n",
      "node TimeNode(80, 4)\n",
      "value 944.1748998707252\n",
      "node TimeNode(45, 4)\n",
      "value 755.1683998980777\n",
      "node TimeNode(89, 4)\n",
      "value 552.9295999274925\n",
      "node TimeNode(46, 4)\n",
      "value 592.3429999218562\n",
      "node TimeNode(52, 4)\n",
      "value 653.0341999130666\n",
      "node TimeNode(36, 4)\n",
      "value 550.282299927581\n",
      "node TimeNode(23, 4)\n",
      "value 539.2032999295975\n",
      "node TimeNode(25, 4)\n",
      "value 745.1648998996467\n",
      "node TimeNode(43, 4)\n",
      "value 737.9074999006164\n",
      "node TimeNode(37, 4)\n",
      "value 473.7913999469902\n",
      "node TimeNode(33, 4)\n",
      "value 601.5531999201879\n",
      "node TimeNode(55, 4)\n",
      "value 679.619499909027\n",
      "node TimeNode(17, 4)\n",
      "value 881.2423998795907\n",
      "node TimeNode(34, 5)\n",
      "value 569.4614999285731\n",
      "node TimeNode(46, 5)\n",
      "value 759.957099902363\n",
      "node TimeNode(52, 5)\n",
      "value 603.0337999243852\n",
      "node TimeNode(54, 5)\n",
      "value 523.032399935247\n",
      "node TimeNode(6, 5)\n",
      "value 409.99279996353044\n",
      "node TimeNode(11, 5)\n",
      "value 364.39729997570106\n",
      "node TimeNode(23, 5)\n",
      "value 602.9948999239652\n",
      "node TimeNode(33, 5)\n",
      "value 461.8413999497453\n",
      "node TimeNode(36, 5)\n",
      "value 535.9237999332315\n",
      "node TimeNode(45, 5)\n",
      "value 521.4511999353718\n",
      "node TimeNode(55, 5)\n",
      "value 701.1377999104477\n",
      "node TimeNode(80, 5)\n",
      "value 709.0189999095835\n",
      "node TimeNode(43, 5)\n",
      "value 504.20209993843946\n",
      "node TimeNode(37, 5)\n",
      "value 374.0394999730986\n",
      "node TimeNode(94, 5)\n",
      "value 604.2012999240159\n",
      "node TimeNode(89, 5)\n",
      "value 317.0457999882799\n",
      "node TimeNode(60, 5)\n",
      "value 461.5377999497852\n",
      "node TimeNode(73, 5)\n",
      "value 602.7829999241421\n",
      "node TimeNode(25, 5)\n",
      "value 424.00659995980743\n",
      "node TimeNode(17, 5)\n",
      "value 592.9351999254827\n"
     ]
    },
    {
     "data": {
      "text/plain": [
       "DataStructures.DefaultDict{Any,Any,Array{Float64,1}} with 0 entries"
      ]
     },
     "execution_count": 31,
     "metadata": {},
     "output_type": "execute_result"
    }
   ],
   "source": [
    "accu_scores = DefaultDict([0.]) \n",
    "for (n, v) in scores\n",
    "#     println(\"node $n\")\n",
    "#     println(\"value $v\")\n",
    "    push!(accu_scores[node_key(n)], v)\n",
    "#     push!(accu_scores[node_key(n)], accu_scores[node_key(n)][end] + v)\n",
    "end\n",
    "accu_scores"
   ]
  },
  {
   "cell_type": "code",
   "execution_count": 30,
   "metadata": {},
   "outputs": [
    {
     "name": "stderr",
     "output_type": "stream",
     "text": [
      "\u001b[1m\u001b[36mINFO: \u001b[39m\u001b[22m\u001b[36mPrecompiling module Plots.\n",
      "\u001b[39m"
     ]
    }
   ],
   "source": [
    "using Plots"
   ]
  },
  {
   "cell_type": "code",
   "execution_count": 26,
   "metadata": {
    "collapsed": true
   },
   "outputs": [],
   "source": [
    "r2 = collect(sum_scores);"
   ]
  },
  {
   "cell_type": "code",
   "execution_count": 27,
   "metadata": {},
   "outputs": [
    {
     "data": {
      "text/plain": [
       "20-element Array{Pair{Any,Any},1}:\n",
       " Pair{Any,Any}(2, 3596.32)  \n",
       " Pair{Any,Any}(58, 3370.67) \n",
       " Pair{Any,Any}(7, 3226.47)  \n",
       " Pair{Any,Any}(11, 3048.78) \n",
       " Pair{Any,Any}(88, 3047.22) \n",
       " Pair{Any,Any}(18, 2958.37) \n",
       " Pair{Any,Any}(57, 2957.42) \n",
       " Pair{Any,Any}(65, 2942.76) \n",
       " Pair{Any,Any}(32, 2939.11) \n",
       " Pair{Any,Any}(97, 2930.67) \n",
       " Pair{Any,Any}(33, 2926.23) \n",
       " Pair{Any,Any}(45, 2879.59) \n",
       " Pair{Any,Any}(87, 2832.12) \n",
       " Pair{Any,Any}(10, 2771.23) \n",
       " Pair{Any,Any}(100, 2756.39)\n",
       " Pair{Any,Any}(68, 2746.95) \n",
       " Pair{Any,Any}(44, 2738.5)  \n",
       " Pair{Any,Any}(83, 2672.8)  \n",
       " Pair{Any,Any}(74, 2669.7)  \n",
       " Pair{Any,Any}(26, 2452.59) "
      ]
     },
     "execution_count": 27,
     "metadata": {},
     "output_type": "execute_result"
    }
   ],
   "source": [
    "sorted_r2 = sort(r2, by = x -> x[2], rev = true)"
   ]
  },
  {
   "cell_type": "code",
   "execution_count": 28,
   "metadata": {},
   "outputs": [
    {
     "data": {
      "text/plain": [
       "20-element Array{Tuple{EvolvingGraphs.Node{Int64},Float64},1}:\n",
       " (Node(32), 0.320363) \n",
       " (Node(58), 0.244402) \n",
       " (Node(100), 0.235876)\n",
       " (Node(2), 0.199925)  \n",
       " (Node(74), 0.198615) \n",
       " (Node(83), 0.162692) \n",
       " (Node(26), 0.152276) \n",
       " (Node(97), 0.138456) \n",
       " (Node(68), 0.137589) \n",
       " (Node(18), 0.126655) \n",
       " (Node(7), 0.120336)  \n",
       " (Node(57), 0.108358) \n",
       " (Node(10), 0.103718) \n",
       " (Node(44), 0.099909) \n",
       " (Node(45), 0.08922)  \n",
       " (Node(87), 0.0857851)\n",
       " (Node(33), 0.0857679)\n",
       " (Node(88), 0.0825459)\n",
       " (Node(11), 0.0791009)\n",
       " (Node(65), 0.0738873)"
      ]
     },
     "execution_count": 28,
     "metadata": {},
     "output_type": "execute_result"
    }
   ],
   "source": [
    "sorted_top"
   ]
  },
  {
   "cell_type": "code",
   "execution_count": 43,
   "metadata": {},
   "outputs": [
    {
     "data": {
      "text/plain": [
       "Directed EvolvingGraph 3354 nodes, 15654 static edges, 17 timestamps"
      ]
     },
     "execution_count": 43,
     "metadata": {},
     "output_type": "execute_result"
    }
   ],
   "source": [
    "using EvolvingGraphs\n",
    "using EvolvingGraphs.Centrality\n",
    "import EzXML\n",
    "\n",
    "\n",
    "# load graph data at each year\n",
    "# form evolving graph\n",
    "g = EvolvingGraph{Node{String}, Int}()\n",
    "\n",
    "for year in range(2001, 17)\n",
    "    sg = load_graphml(\"jmlr_$(year).graphml\")\n",
    "    add_graph!(g, sg, year)\n",
    "end\n",
    "g"
   ]
  },
  {
   "cell_type": "code",
   "execution_count": 50,
   "metadata": {},
   "outputs": [
    {
     "name": "stdout",
     "output_type": "stream",
     "text": [
      "Top 10 rating authors\n"
     ]
    },
    {
     "data": {
      "text/plain": [
       "3354-element Array{EvolvingGraphs.Node{String},1}:\n",
       " Node(Manevitz, Larry M.)      \n",
       " Node(Yousef, Malik)           \n",
       " Node(Gates, Kevin E.)         \n",
       " Node(Masters, Annette)        \n",
       " Node(Downs, Tom)              \n",
       " Node(Vapnik, Vladimir)        \n",
       " Node(Siegelmann, Hava T.)     \n",
       " Node(Ben-Hur, Asa)            \n",
       " Node(Horn, David)             \n",
       " Node(Singer, Yoram)           \n",
       " Node(Crammer, Koby)           \n",
       " Node(Genton, Marc G.)         \n",
       " Node(Pekalska, Elzbieta)      \n",
       " ⋮                             \n",
       " Node(Paul Rochet)             \n",
       " Node(Hanwen Huang)            \n",
       " Node(Niharika Challapalli)    \n",
       " Node(Mathukumalli Vidyasagar) \n",
       " Node(Deepayan Chakrabarti)    \n",
       " Node(Sofus A. Macskassy)      \n",
       " Node(Jonathan Chang)          \n",
       " Node(Stanislav Funiak)        \n",
       " Node(Federico Ricci-Tersenghi)\n",
       " Node(Jack Raymond)            \n",
       " Node(Martin S. Copenhaver)    \n",
       " Node(Dimitris Bertsimas)      "
      ]
     },
     "execution_count": 50,
     "metadata": {},
     "output_type": "execute_result"
    }
   ],
   "source": [
    "rating = katz(g, 0.2)\n",
    "\n",
    "\n",
    "sorted_authors = sort(rating, by = x -> x[2], rev = true)\n",
    "\n",
    "println(\"Top 10 rating authors\")\n",
    "sorted_authors[1:10]\n",
    "nodes(g)"
   ]
  },
  {
   "cell_type": "code",
   "execution_count": null,
   "metadata": {
    "collapsed": true
   },
   "outputs": [],
   "source": [
    "scores = []\n",
    "\n",
    "for n in 1:10\n",
    "    for t in 1:10\n",
    "        intn = (n, 5)\n",
    "        tr = temporal_katz(g, intn, alpha = 0.2, k = 3)\n",
    "        push!(scores, (intn, tr))\n",
    "    end\n",
    "end\n",
    "scores"
   ]
  }
 ],
 "metadata": {
  "kernelspec": {
   "display_name": "Julia 0.6.2",
   "language": "julia",
   "name": "julia-0.6"
  },
  "language_info": {
   "file_extension": ".jl",
   "mimetype": "application/julia",
   "name": "julia",
   "version": "0.6.2"
  }
 },
 "nbformat": 4,
 "nbformat_minor": 2
}
