{
 "cells": [
  {
   "cell_type": "code",
   "execution_count": 2,
   "metadata": {
    "collapsed": true
   },
   "outputs": [],
   "source": [
    "using EvolvingGraphs\n",
    "using EvolvingGraphs.Centrality"
   ]
  },
  {
   "cell_type": "code",
   "execution_count": 1,
   "metadata": {
    "collapsed": true
   },
   "outputs": [],
   "source": [
    "workspace()"
   ]
  },
  {
   "cell_type": "markdown",
   "metadata": {},
   "source": [
    "# Katz Motivation exmple "
   ]
  },
  {
   "cell_type": "code",
   "execution_count": 7,
   "metadata": {},
   "outputs": [
    {
     "data": {
      "text/plain": [
       "Directed EvolvingGraph 0 nodes, 0 static edges, 0 timestamps"
      ]
     },
     "execution_count": 7,
     "metadata": {},
     "output_type": "execute_result"
    }
   ],
   "source": [
    "g = EvolvingGraph{Node{String}, Int}()"
   ]
  },
  {
   "cell_type": "code",
   "execution_count": 8,
   "metadata": {},
   "outputs": [
    {
     "data": {
      "text/plain": [
       "Directed EvolvingGraph 3 nodes, 5 static edges, 3 timestamps"
      ]
     },
     "execution_count": 8,
     "metadata": {},
     "output_type": "execute_result"
    }
   ],
   "source": [
    "add_bunch_of_edges!(g, [(\"A\", \"B\", 1), (\"A\", \"C\", 2), (\"A\", \"B\", 2),(\"C\", \"A\", 2),(\"B\", \"C\", 3)])"
   ]
  },
  {
   "cell_type": "code",
   "execution_count": 9,
   "metadata": {},
   "outputs": [
    {
     "data": {
      "text/plain": [
       "5-element Array{EvolvingGraphs.WeightedTimeEdge{EvolvingGraphs.Node{String},Int64,Float64},1}:\n",
       " Node(A)-1.0->Node(B) at time 1\n",
       " Node(A)-1.0->Node(C) at time 2\n",
       " Node(A)-1.0->Node(B) at time 2\n",
       " Node(C)-1.0->Node(A) at time 2\n",
       " Node(B)-1.0->Node(C) at time 3"
      ]
     },
     "execution_count": 9,
     "metadata": {},
     "output_type": "execute_result"
    }
   ],
   "source": [
    "edges(g)"
   ]
  },
  {
   "cell_type": "code",
   "execution_count": 10,
   "metadata": {},
   "outputs": [
    {
     "data": {
      "text/plain": [
       "3-element Array{Tuple{EvolvingGraphs.Node{String},Float64},1}:\n",
       " (Node(A), 0.742301)\n",
       " (Node(B), 0.42943) \n",
       " (Node(C), 0.514373)"
      ]
     },
     "execution_count": 10,
     "metadata": {},
     "output_type": "execute_result"
    }
   ],
   "source": [
    "katz(g)"
   ]
  },
  {
   "cell_type": "code",
   "execution_count": 11,
   "metadata": {},
   "outputs": [
    {
     "data": {
      "text/plain": [
       "Directed EvolvingGraph 3 nodes, 5 static edges, 3 timestamps"
      ]
     },
     "execution_count": 11,
     "metadata": {},
     "output_type": "execute_result"
    }
   ],
   "source": [
    "g2 = EvolvingGraph{Node{String}, Int}()\n",
    "add_bunch_of_edges!(g2, [(\"A\", \"B\", 3), (\"A\", \"C\", 2), (\"A\", \"B\", 2),(\"C\", \"A\", 2),(\"B\", \"C\", 1)])"
   ]
  },
  {
   "cell_type": "code",
   "execution_count": 12,
   "metadata": {},
   "outputs": [
    {
     "data": {
      "text/plain": [
       "3-element Array{Tuple{EvolvingGraphs.Node{String},Float64},1}:\n",
       " (Node(A), 0.687679)\n",
       " (Node(B), 0.490062)\n",
       " (Node(C), 0.535666)"
      ]
     },
     "execution_count": 12,
     "metadata": {},
     "output_type": "execute_result"
    }
   ],
   "source": [
    "katz(g2)"
   ]
  },
  {
   "cell_type": "code",
   "execution_count": 13,
   "metadata": {},
   "outputs": [
    {
     "data": {
      "text/plain": [
       "Directed EvolvingGraph 3 nodes, 5 static edges, 3 timestamps"
      ]
     },
     "execution_count": 13,
     "metadata": {},
     "output_type": "execute_result"
    }
   ],
   "source": [
    "g3 = EvolvingGraph{Node{String}, Int}()\n",
    "add_bunch_of_edges!(g3, [(\"A\", \"B\", 100), (\"A\", \"C\", 2), (\"A\", \"B\", 2),(\"C\", \"A\", 2),(\"B\", \"C\", 1)])"
   ]
  },
  {
   "cell_type": "code",
   "execution_count": 14,
   "metadata": {},
   "outputs": [
    {
     "data": {
      "text/plain": [
       "3-element Array{Tuple{EvolvingGraphs.Node{String},Float64},1}:\n",
       " (Node(A), 0.64654) \n",
       " (Node(B), 0.604677)\n",
       " (Node(C), 0.465136)"
      ]
     },
     "execution_count": 14,
     "metadata": {},
     "output_type": "execute_result"
    }
   ],
   "source": [
    "g1 = EvolvingGraph{Node{String}, Int}()\n",
    "add_bunch_of_edges!(g1, [(\"A\",\"B\", 1),(\"B\",\"C\", 2)])\n",
    "katz(g1)"
   ]
  },
  {
   "cell_type": "code",
   "execution_count": 15,
   "metadata": {},
   "outputs": [
    {
     "data": {
      "text/plain": [
       "3-element Array{Tuple{EvolvingGraphs.Node{String},Float64},1}:\n",
       " (Node(A), 0.621164)\n",
       " (Node(B), 0.621164)\n",
       " (Node(C), 0.477818)"
      ]
     },
     "execution_count": 15,
     "metadata": {},
     "output_type": "execute_result"
    }
   ],
   "source": [
    "g2 = EvolvingGraph{Node{String}, Int}()\n",
    "add_bunch_of_edges!(g2, [(\"A\",\"B\", 2),(\"B\",\"C\", 1)])\n",
    "katz(g2)"
   ]
  },
  {
   "cell_type": "markdown",
   "metadata": {},
   "source": [
    "# Katz Centrality\n",
    "\n",
    "Each node `v` has forword neighbours. Each forward neighbour has forword neighbour, and so on."
   ]
  },
  {
   "cell_type": "code",
   "execution_count": 14,
   "metadata": {},
   "outputs": [
    {
     "data": {
      "text/plain": [
       "temporal_distance (generic function with 4 methods)"
      ]
     },
     "execution_count": 14,
     "metadata": {},
     "output_type": "execute_result"
    }
   ],
   "source": [
    "\"\"\"\n",
    "distance between two active nodes\n",
    "\n",
    "alpha: time unit parameter\n",
    "\"\"\"\n",
    "function temporal_distance(v1::TimeNode, v2::TimeNode, beta::Real = 1.)\n",
    "    return node_key(v1) == node_key(v2) ? beta* abs(node_timestamp(v1) - node_timestamp(v2)) : 0\n",
    "end\n",
    "function temporal_distance(v1::Tuple{Int,Int}, v2::Tuple{Int,Int}, alpha::Real = 1.)\n",
    "    return v1[1] == v2[1] ? alpha * abs(v1[2] - v2[2]) : 0\n",
    "end"
   ]
  },
  {
   "cell_type": "code",
   "execution_count": 24,
   "metadata": {},
   "outputs": [
    {
     "data": {
      "text/plain": [
       "temporal_katz (generic function with 1 method)"
      ]
     },
     "execution_count": 24,
     "metadata": {},
     "output_type": "execute_result"
    }
   ],
   "source": [
    "function temporal_katz(g::Union{AbstractEvolvingGraph, IntAdjacencyList}, v::Union{TimeNode, Tuple{Int,Int}}; alpha = 0.1, k = 5)\n",
    "    score = 0.\n",
    "    fronter = [v]\n",
    "    level = 0\n",
    "    println(\"start node $v\")\n",
    "    while level < k\n",
    "        next = []\n",
    "        println(\"at level $level, with $(length(fronter)) nodes\")\n",
    "        for u in fronter\n",
    "            for v in forward_neighbors(g, u)\n",
    "                push!(next, v)\n",
    "                d = temporal_distance(v, u, 0.)\n",
    "                d += level\n",
    "                score += alpha^d\n",
    "            end\n",
    "        end\n",
    "        fronter = next\n",
    "        level += 1\n",
    "    end\n",
    "    return score\n",
    "end\n",
    "\n",
    "# Can be done in parallel, focus on useful node at certain time stamp\n"
   ]
  },
  {
   "cell_type": "code",
   "execution_count": 17,
   "metadata": {},
   "outputs": [
    {
     "data": {
      "text/plain": [
       "7-element Array{EvolvingGraphs.TimeNode{String,Int64},1}:\n",
       " TimeNode(A, 1)\n",
       " TimeNode(B, 1)\n",
       " TimeNode(A, 2)\n",
       " TimeNode(C, 2)\n",
       " TimeNode(B, 2)\n",
       " TimeNode(B, 3)\n",
       " TimeNode(C, 3)"
      ]
     },
     "execution_count": 17,
     "metadata": {},
     "output_type": "execute_result"
    }
   ],
   "source": [
    "active_nodes(g)"
   ]
  },
  {
   "cell_type": "code",
   "execution_count": 19,
   "metadata": {},
   "outputs": [
    {
     "data": {
      "text/plain": [
       "Dict{Any,Any} with 7 entries:\n",
       "  TimeNode(A, 2) => 2.15152\n",
       "  TimeNode(B, 3) => 1.0\n",
       "  TimeNode(C, 3) => 0.0\n",
       "  TimeNode(B, 1) => 0.23\n",
       "  TimeNode(C, 2) => 1.31515\n",
       "  TimeNode(B, 2) => 0.2\n",
       "  TimeNode(A, 1) => 1.33815"
      ]
     },
     "execution_count": 19,
     "metadata": {},
     "output_type": "execute_result"
    }
   ],
   "source": [
    "an = active_nodes(g)\n",
    "\n",
    "scores = Dict()\n",
    "for n in an\n",
    "    scores[n] = temporal_katz(g, n, alpha = 0.1, k = 100)\n",
    "end\n",
    "scores"
   ]
  },
  {
   "cell_type": "code",
   "execution_count": 29,
   "metadata": {},
   "outputs": [
    {
     "data": {
      "text/plain": [
       "Dict{Any,Any} with 7 entries:\n",
       "  TimeNode(B, 3) => 0.0\n",
       "  TimeNode(A, 2) => 2.33333\n",
       "  TimeNode(C, 2) => 1.23333\n",
       "  TimeNode(A, 3) => 1.0\n",
       "  TimeNode(C, 1) => 0.223333\n",
       "  TimeNode(B, 1) => 1.14233\n",
       "  TimeNode(B, 2) => 0.1"
      ]
     },
     "execution_count": 29,
     "metadata": {},
     "output_type": "execute_result"
    }
   ],
   "source": [
    "an = active_nodes(g2)\n",
    "\n",
    "scores = Dict()\n",
    "for n in an\n",
    "    scores[n] = katz_node(g2, n, alpha = 0.1, k = 100)\n",
    "end\n",
    "scores"
   ]
  },
  {
   "cell_type": "code",
   "execution_count": 27,
   "metadata": {},
   "outputs": [
    {
     "data": {
      "text/plain": [
       "Dict{Any,Any} with 7 entries:\n",
       "  TimeNode(A, 100) => 1.0\n",
       "  TimeNode(B, 2)   => 1.0e-98\n",
       "  TimeNode(B, 100) => 0.0\n",
       "  TimeNode(B, 1)   => 1.12222\n",
       "  TimeNode(C, 1)   => 0.222222\n",
       "  TimeNode(A, 2)   => 2.22222\n",
       "  TimeNode(C, 2)   => 1.22222"
      ]
     },
     "execution_count": 27,
     "metadata": {},
     "output_type": "execute_result"
    }
   ],
   "source": [
    "an = active_nodes(g3)\n",
    "\n",
    "scores = Dict()\n",
    "for n in an\n",
    "    scores[n] = katz_node(g3, n, alpha = 0.1, k = 100)\n",
    "end\n",
    "scores"
   ]
  },
  {
   "cell_type": "markdown",
   "metadata": {},
   "source": [
    "# Communicability Betweenness Centrality "
   ]
  },
  {
   "cell_type": "code",
   "execution_count": 13,
   "metadata": {},
   "outputs": [
    {
     "data": {
      "text/plain": [
       "temporal_communicability (generic function with 1 method)"
      ]
     },
     "execution_count": 13,
     "metadata": {},
     "output_type": "execute_result"
    }
   ],
   "source": [
    "\"\"\"\n",
    "Take account of all forward neighours.\n",
    "\"\"\"\n",
    "function temporal_katz_with_v_removed(g::EvolvingGraph, v; alpha = 0.1, k = 5)\n",
    "    score = 0.\n",
    "    fronter = [v]\n",
    "    level = 0\n",
    "    start = v\n",
    "    while level < k\n",
    "        next = []\n",
    "        for u in fronter\n",
    "            for v in forward_neighbors(g, u)\n",
    "                if v != start\n",
    "                    push!(next, v)\n",
    "                    d = temporal_distance(v, u)\n",
    "                    d += level\n",
    "                    score += alpha^d\n",
    "                end\n",
    "            end\n",
    "        end\n",
    "        fronter = next\n",
    "        level += 1\n",
    "    end\n",
    "    return score\n",
    "end\n",
    "\n",
    "\n",
    "\n",
    "function temporal_communicability(g::EvolvingGraph, v::TimeNode; alpha = 0.1, k = 5)\n",
    "    \n",
    "    score = temporal_katz(g, v, alpha = alpha, k = k)\n",
    "    score_with_v_removed = temporal_katz_with_v_removed(g, v, alpha = alpha, k = k)\n",
    "    \n",
    "    r = (score - score_with_v_removed)/ score\n",
    "    isnan(r)? 0 : r\n",
    "end"
   ]
  },
  {
   "cell_type": "code",
   "execution_count": 14,
   "metadata": {},
   "outputs": [
    {
     "data": {
      "text/plain": [
       "Dict{Any,Any} with 7 entries:\n",
       "  TimeNode(B, 3) => 0.0\n",
       "  TimeNode(A, 2) => 0.0564789\n",
       "  TimeNode(C, 3) => 0\n",
       "  TimeNode(A, 1) => 0.0\n",
       "  TimeNode(B, 2) => 0.0\n",
       "  TimeNode(B, 1) => 0.0\n",
       "  TimeNode(C, 2) => 0.0860369"
      ]
     },
     "execution_count": 14,
     "metadata": {},
     "output_type": "execute_result"
    }
   ],
   "source": [
    "an = active_nodes(g)\n",
    "\n",
    "scores = Dict()\n",
    "for n in an\n",
    "    scores[n] = temporal_communicability(g, n, alpha = 0.1, k = 100)\n",
    "end\n",
    "scores"
   ]
  },
  {
   "cell_type": "code",
   "execution_count": 12,
   "metadata": {},
   "outputs": [
    {
     "data": {
      "text/plain": [
       "NaN"
      ]
     },
     "execution_count": 12,
     "metadata": {},
     "output_type": "execute_result"
    }
   ],
   "source": [
    "0/0"
   ]
  },
  {
   "cell_type": "markdown",
   "metadata": {},
   "source": [
    "# Temporal Betweenness\n",
    "\n",
    "In constrast with Katz and Communicability (which are based on walks), the following centrality algorithms are based on shortest paths."
   ]
  },
  {
   "cell_type": "code",
   "execution_count": null,
   "metadata": {
    "collapsed": true
   },
   "outputs": [],
   "source": []
  },
  {
   "cell_type": "markdown",
   "metadata": {},
   "source": [
    "# Temporal Closeness Centrality "
   ]
  },
  {
   "cell_type": "code",
   "execution_count": null,
   "metadata": {
    "collapsed": true
   },
   "outputs": [],
   "source": []
  },
  {
   "cell_type": "markdown",
   "metadata": {
    "collapsed": true
   },
   "source": [
    "# Temporal PageRank\n",
    "\n",
    "Random walk interpretation can not travel back in time.\n",
    "\n",
    "* Block matrix version (use reverse pagerank): useful for evolving graph with a small number of timestamps\n",
    "\n",
    "* Probability based (time-stamps based rating): Random walk interpretation. Not fixed probability for all nodes but different probability for each individual node. "
   ]
  },
  {
   "cell_type": "code",
   "execution_count": null,
   "metadata": {
    "collapsed": true
   },
   "outputs": [],
   "source": []
  },
  {
   "cell_type": "markdown",
   "metadata": {},
   "source": [
    "# JMLR and Random Evolving Graph Data\n",
    "\n",
    "Start with the original definition and compare the change of ranking of top authors if we vary"
   ]
  },
  {
   "cell_type": "code",
   "execution_count": 6,
   "metadata": {},
   "outputs": [
    {
     "data": {
      "text/plain": [
       "Directed EvolvingGraph 100 nodes, 9810 static edges, 5 timestamps"
      ]
     },
     "execution_count": 6,
     "metadata": {},
     "output_type": "execute_result"
    }
   ],
   "source": [
    "g = EvolvingGraph()\n",
    "g = random_evolving_graph(g, 100, 5, 0.2)"
   ]
  },
  {
   "cell_type": "code",
   "execution_count": 7,
   "metadata": {},
   "outputs": [
    {
     "data": {
      "text/plain": [
       "20-element Array{Tuple{EvolvingGraphs.Node{Int64},Float64},1}:\n",
       " (Node(6), 0.229854)  \n",
       " (Node(54), 0.220491) \n",
       " (Node(43), 0.193352) \n",
       " (Node(55), 0.187044) \n",
       " (Node(73), 0.1859)   \n",
       " (Node(80), 0.185528) \n",
       " (Node(33), 0.168963) \n",
       " (Node(37), 0.146367) \n",
       " (Node(94), 0.143335) \n",
       " (Node(17), 0.134177) \n",
       " (Node(45), 0.125457) \n",
       " (Node(52), 0.125012) \n",
       " (Node(11), 0.11887)  \n",
       " (Node(36), 0.114556) \n",
       " (Node(25), 0.10687)  \n",
       " (Node(46), 0.10678)  \n",
       " (Node(89), 0.096828) \n",
       " (Node(23), 0.0874197)\n",
       " (Node(34), 0.077072) \n",
       " (Node(60), 0.0741519)"
      ]
     },
     "execution_count": 7,
     "metadata": {},
     "output_type": "execute_result"
    }
   ],
   "source": [
    "r = katz(g)\n",
    "sorted_top = sort(r, by = x -> x[2], rev = true)[1:20]"
   ]
  },
  {
   "cell_type": "code",
   "execution_count": 8,
   "metadata": {},
   "outputs": [
    {
     "data": {
      "text/plain": [
       "20-element Array{Int64,1}:\n",
       "  6\n",
       " 54\n",
       " 43\n",
       " 55\n",
       " 73\n",
       " 80\n",
       " 33\n",
       " 37\n",
       " 94\n",
       " 17\n",
       " 45\n",
       " 52\n",
       " 11\n",
       " 36\n",
       " 25\n",
       " 46\n",
       " 89\n",
       " 23\n",
       " 34\n",
       " 60"
      ]
     },
     "execution_count": 8,
     "metadata": {},
     "output_type": "execute_result"
    }
   ],
   "source": [
    "sorted_top_keys = map(x -> node_key(x[1]), sorted_top)"
   ]
  },
  {
   "cell_type": "code",
   "execution_count": 9,
   "metadata": {},
   "outputs": [
    {
     "data": {
      "text/plain": [
       "Directed IntAdjacencyList (100 nodes, 9810 static edges, 5 timestamps)"
      ]
     },
     "execution_count": 9,
     "metadata": {},
     "output_type": "execute_result"
    }
   ],
   "source": [
    "intg = evolving_graph_to_adj(g)"
   ]
  },
  {
   "cell_type": "code",
   "execution_count": 25,
   "metadata": {},
   "outputs": [
    {
     "name": "stdout",
     "output_type": "stream",
     "text": [
      "(11, 1)\n",
      "start node (11, 1)\n",
      "at level 0, with 1 nodes\n",
      "at level 1, with 27 nodes\n",
      "at level 2, with 599 nodes\n",
      "at level 3, with 13701 nodes\n",
      "at level 4, with 309374 nodes\n",
      "(17, 1)\n",
      "start node (17, 1)\n",
      "at level 0, with 1 nodes\n",
      "at level 1, with 25 nodes\n",
      "at level 2, with 570 nodes\n",
      "at level 3, with 13042 nodes\n",
      "at level 4, with 294318 nodes\n",
      "(45, 1)\n",
      "start node (45, 1)\n",
      "at level 0, with 1 nodes\n",
      "at level 1, with 28 nodes\n",
      "at level 2, with 633 nodes\n",
      "at level 3, with 14486 nodes\n",
      "at level 4, with 326953 nodes\n",
      "(52, 1)\n",
      "start node (52, 1)\n",
      "at level 0, with 1 nodes\n",
      "at level 1, with 20 nodes\n",
      "at level 2, with 449 nodes\n",
      "at level 3, with 10210 nodes\n",
      "at level 4, with 229036 nodes\n",
      "(25, 1)\n",
      "start node (25, 1)\n",
      "at level 0, with 1 nodes\n",
      "at level 1, with 17 nodes\n",
      "at level 2, with 386 nodes\n",
      "at level 3, with 8759 nodes\n",
      "at level 4, with 196848 nodes\n",
      "(34, 1)\n",
      "start node (34, 1)\n",
      "at level 0, with 1 nodes\n",
      "at level 1, with 26 nodes\n",
      "at level 2, with 605 nodes\n",
      "at level 3, with 13884 nodes\n",
      "at level 4, with 313099 nodes\n",
      "(36, 1)\n",
      "start node (36, 1)\n",
      "at level 0, with 1 nodes\n",
      "at level 1, with 32 nodes\n",
      "at level 2, with 751 nodes\n",
      "at level 3, with 17216 nodes\n",
      "at level 4, with 389126 nodes\n",
      "(54, 1)\n",
      "start node (54, 1)\n",
      "at level 0, with 1 nodes\n",
      "at level 1, with 25 nodes\n",
      "at level 2, with 562 nodes\n",
      "at level 3, with 12819 nodes\n",
      "at level 4, with 289053 nodes\n",
      "(55, 1)\n",
      "start node (55, 1)\n",
      "at level 0, with 1 nodes\n",
      "at level 1, with 24 nodes\n",
      "at level 2, with 578 nodes\n",
      "at level 3, with 13130 nodes\n",
      "at level 4, with 295920 nodes\n",
      "(43, 1)\n",
      "start node (43, 1)\n",
      "at level 0, with 1 nodes\n",
      "at level 1, with 22 nodes\n",
      "at level 2, with 541 nodes\n",
      "at level 3, with 12344 nodes\n",
      "at level 4, with 278275 nodes\n",
      "(80, 1)\n",
      "start node (80, 1)\n",
      "at level 0, with 1 nodes\n",
      "at level 1, with 28 nodes\n",
      "at level 2, with 671 nodes\n",
      "at level 3, with 15317 nodes\n",
      "at level 4, with 345230 nodes\n",
      "(23, 1)\n",
      "start node (23, 1)\n",
      "at level 0, with 1 nodes\n",
      "at level 1, with 22 nodes\n",
      "at level 2, with 516 nodes\n",
      "at level 3, with 11775 nodes\n",
      "at level 4, with 265000 nodes\n",
      "(6, 1)\n",
      "start node (6, 1)\n",
      "at level 0, with 1 nodes\n",
      "at level 1, with 29 nodes\n",
      "at level 2, with 638 nodes\n",
      "at level 3, with 14457 nodes\n",
      "at level 4, with 327141 nodes\n",
      "(37, 1)\n",
      "start node (37, 1)\n",
      "at level 0, with 1 nodes\n",
      "at level 1, with 27 nodes\n",
      "at level 2, with 603 nodes\n",
      "at level 3, with 13730 nodes\n",
      "at level 4, with 310043 nodes\n",
      "(46, 1)\n",
      "start node (46, 1)\n",
      "at level 0, with 1 nodes\n",
      "at level 1, with 19 nodes\n",
      "at level 2, with 451 nodes\n",
      "at level 3, with 10286 nodes\n",
      "at level 4, with 230776 nodes\n",
      "(60, 1)\n",
      "start node (60, 1)\n",
      "at level 0, with 1 nodes\n",
      "at level 1, with 25 nodes\n",
      "at level 2, with 566 nodes\n",
      "at level 3, with 12764 nodes\n",
      "at level 4, with 288172 nodes\n",
      "(89, 1)\n",
      "start node (89, 1)\n",
      "at level 0, with 1 nodes\n",
      "at level 1, with 28 nodes\n",
      "at level 2, with 657 nodes\n",
      "at level 3, with 14967 nodes\n",
      "at level 4, with 338944 nodes\n",
      "(33, 1)\n",
      "start node (33, 1)\n",
      "at level 0, with 1 nodes\n",
      "at level 1, with 21 nodes\n",
      "at level 2, with 454 nodes\n",
      "at level 3, with 10355 nodes\n",
      "at level 4, with 232964 nodes\n",
      "(73, 1)\n",
      "start node (73, 1)\n",
      "at level 0, with 1 nodes\n",
      "at level 1, with 20 nodes\n",
      "at level 2, with 445 nodes\n",
      "at level 3, with 10149 nodes\n",
      "at level 4, with 227874 nodes\n",
      "(94, 1)\n",
      "start node (94, 1)\n",
      "at level 0, with 1 nodes\n",
      "at level 1, with 24 nodes\n",
      "at level 2, with 557 nodes\n",
      "at level 3, with 12691 nodes\n",
      "at level 4, with 285275 nodes\n",
      "(11, 2)\n",
      "start node (11, 2)\n",
      "at level 0, with 1 nodes\n",
      "at level 1, with 18 nodes\n",
      "at level 2, with 391 nodes\n",
      "at level 3, with 8676 nodes\n",
      "at level 4, with 189953 nodes\n",
      "(17, 2)\n",
      "start node (17, 2)\n",
      "at level 0, with 1 nodes\n",
      "at level 1, with 22 nodes\n",
      "at level 2, with 482 nodes\n",
      "at level 3, with 10628 nodes\n",
      "at level 4, with 231648 nodes\n",
      "(25, 2)\n",
      "start node (25, 2)\n",
      "at level 0, with 1 nodes\n",
      "at level 1, with 23 nodes\n",
      "at level 2, with 507 nodes\n",
      "at level 3, with 11255 nodes\n",
      "at level 4, with 246257 nodes\n",
      "(33, 2)\n",
      "start node (33, 2)\n",
      "at level 0, with 1 nodes\n",
      "at level 1, with 17 nodes\n",
      "at level 2, with 374 nodes\n",
      "at level 3, with 8313 nodes\n",
      "at level 4, with 181419 nodes\n",
      "(73, 2)\n",
      "start node (73, 2)\n",
      "at level 0, with 1 nodes\n",
      "at level 1, with 23 nodes\n",
      "at level 2, with 541 nodes\n",
      "at level 3, with 11878 nodes\n",
      "at level 4, with 259732 nodes\n",
      "(94, 2)\n",
      "start node (94, 2)\n",
      "at level 0, with 1 nodes\n",
      "at level 1, with 22 nodes\n",
      "at level 2, with 493 nodes\n",
      "at level 3, with 10812 nodes\n",
      "at level 4, with 235272 nodes\n",
      "(36, 2)\n",
      "start node (36, 2)\n",
      "at level 0, with 1 nodes\n",
      "at level 1, with 19 nodes\n",
      "at level 2, with 410 nodes\n",
      "at level 3, with 8952 nodes\n",
      "at level 4, with 195015 nodes\n",
      "(52, 2)\n",
      "start node (52, 2)\n",
      "at level 0, with 1 nodes\n",
      "at level 1, with 25 nodes\n",
      "at level 2, with 570 nodes\n",
      "at level 3, with 12479 nodes\n",
      "at level 4, with 272770 nodes\n",
      "(43, 2)\n",
      "start node (43, 2)\n",
      "at level 0, with 1 nodes\n",
      "at level 1, with 28 nodes\n",
      "at level 2, with 652 nodes\n",
      "at level 3, with 14312 nodes\n",
      "at level 4, with 313217 nodes\n",
      "(45, 2)\n",
      "start node (45, 2)\n",
      "at level 0, with 1 nodes\n",
      "at level 1, with 22 nodes\n",
      "at level 2, with 496 nodes\n",
      "at level 3, with 10906 nodes\n",
      "at level 4, with 238649 nodes\n",
      "(46, 2)\n",
      "start node (46, 2)\n",
      "at level 0, with 1 nodes\n",
      "at level 1, with 25 nodes\n",
      "at level 2, with 592 nodes\n",
      "at level 3, with 13023 nodes\n",
      "at level 4, with 284419 nodes\n",
      "(60, 2)\n",
      "start node (60, 2)\n",
      "at level 0, with 1 nodes\n",
      "at level 1, with 25 nodes\n",
      "at level 2, with 546 nodes\n",
      "at level 3, with 11981 nodes\n",
      "at level 4, with 262418 nodes\n",
      "(80, 2)\n",
      "start node (80, 2)\n",
      "at level 0, with 1 nodes\n",
      "at level 1, with 28 nodes\n",
      "at level 2, with 631 nodes\n",
      "at level 3, with 13940 nodes\n",
      "at level 4, with 304463 nodes\n",
      "(55, 2)\n",
      "start node (55, 2)\n",
      "at level 0, with 1 nodes\n",
      "at level 1, with 25 nodes\n",
      "at level 2, with 554 nodes\n",
      "at level 3, with 12067 nodes\n",
      "at level 4, with 263488 nodes\n",
      "(6, 2)\n",
      "start node (6, 2)\n",
      "at level 0, with 1 nodes\n",
      "at level 1, with 18 nodes\n",
      "at level 2, with 390 nodes\n",
      "at level 3, with 8608 nodes\n",
      "at level 4, with 188023 nodes\n",
      "(23, 2)\n",
      "start node (23, 2)\n",
      "at level 0, with 1 nodes\n",
      "at level 1, with 19 nodes\n",
      "at level 2, with 440 nodes\n",
      "at level 3, with 9708 nodes\n",
      "at level 4, with 212020 nodes\n",
      "(89, 2)\n",
      "start node (89, 2)\n",
      "at level 0, with 1 nodes\n",
      "at level 1, with 20 nodes\n",
      "at level 2, with 437 nodes\n",
      "at level 3, with 9699 nodes\n",
      "at level 4, with 212053 nodes\n",
      "(34, 2)\n",
      "start node (34, 2)\n",
      "at level 0, with 1 nodes\n",
      "at level 1, with 19 nodes\n",
      "at level 2, with 432 nodes\n",
      "at level 3, with 9509 nodes\n",
      "at level 4, with 207411 nodes\n",
      "(37, 2)\n",
      "start node (37, 2)\n",
      "at level 0, with 1 nodes\n",
      "at level 1, with 21 nodes\n",
      "at level 2, with 473 nodes\n",
      "at level 3, with 10303 nodes\n",
      "at level 4, with 225539 nodes\n",
      "(54, 2)\n",
      "start node (54, 2)\n",
      "at level 0, with 1 nodes\n",
      "at level 1, with 20 nodes\n",
      "at level 2, with 404 nodes\n",
      "at level 3, with 8763 nodes\n",
      "at level 4, with 191061 nodes\n",
      "(17, 3)\n",
      "start node (17, 3)\n",
      "at level 0, with 1 nodes\n",
      "at level 1, with 15 nodes\n",
      "at level 2, with 321 nodes\n",
      "at level 3, with 6961 nodes\n",
      "at level 4, with 149847 nodes\n",
      "(25, 3)\n",
      "start node (25, 3)\n",
      "at level 0, with 1 nodes\n",
      "at level 1, with 20 nodes\n",
      "at level 2, with 436 nodes\n",
      "at level 3, with 9457 nodes\n",
      "at level 4, with 204075 nodes\n",
      "(34, 3)\n",
      "start node (34, 3)\n",
      "at level 0, with 1 nodes\n",
      "at level 1, with 22 nodes\n",
      "at level 2, with 493 nodes\n",
      "at level 3, with 10684 nodes\n",
      "at level 4, with 230715 nodes\n",
      "(11, 3)\n",
      "start node (11, 3)\n",
      "at level 0, with 1 nodes\n",
      "at level 1, with 25 nodes\n",
      "at level 2, with 523 nodes\n",
      "at level 3, with 11412 nodes\n",
      "at level 4, with 246969 nodes\n",
      "(23, 3)\n",
      "start node (23, 3)\n",
      "at level 0, with 1 nodes\n",
      "at level 1, with 19 nodes\n",
      "at level 2, with 411 nodes\n",
      "at level 3, with 8921 nodes\n",
      "at level 4, with 192214 nodes\n",
      "(52, 3)\n",
      "start node (52, 3)\n",
      "at level 0, with 1 nodes\n",
      "at level 1, with 17 nodes\n",
      "at level 2, with 374 nodes\n",
      "at level 3, with 7993 nodes\n",
      "at level 4, with 172278 nodes\n",
      "(80, 3)\n",
      "start node (80, 3)\n",
      "at level 0, with 1 nodes\n",
      "at level 1, with 21 nodes\n",
      "at level 2, with 467 nodes\n",
      "at level 3, with 10101 nodes\n",
      "at level 4, with 217669 nodes\n",
      "(33, 3)\n",
      "start node (33, 3)\n",
      "at level 0, with 1 nodes\n",
      "at level 1, with 21 nodes\n",
      "at level 2, with 446 nodes\n",
      "at level 3, with 9691 nodes\n",
      "at level 4, with 209193 nodes\n",
      "(37, 3)\n",
      "start node (37, 3)\n",
      "at level 0, with 1 nodes\n",
      "at level 1, with 21 nodes\n",
      "at level 2, with 477 nodes\n",
      "at level 3, with 10380 nodes\n",
      "at level 4, with 224645 nodes\n",
      "(54, 3)\n",
      "start node (54, 3)\n",
      "at level 0, with 1 nodes\n",
      "at level 1, with 22 nodes\n",
      "at level 2, with 482 nodes\n",
      "at level 3, with 10539 nodes\n",
      "at level 4, with 227421 nodes\n",
      "(55, 3)\n",
      "start node (55, 3)\n",
      "at level 0, with 1 nodes\n",
      "at level 1, with 25 nodes\n",
      "at level 2, with 549 nodes\n",
      "at level 3, with 11946 nodes\n"
     ]
    },
    {
     "name": "stdout",
     "output_type": "stream",
     "text": [
      "at level 4, with 257955 nodes\n",
      "(60, 3)\n",
      "start node (60, 3)\n",
      "at level 0, with 1 nodes\n",
      "at level 1, with 23 nodes\n",
      "at level 2, with 502 nodes\n",
      "at level 3, with 11021 nodes\n",
      "at level 4, with 238014 nodes\n",
      "(6, 3)\n",
      "start node (6, 3)\n",
      "at level 0, with 1 nodes\n",
      "at level 1, with 19 nodes\n",
      "at level 2, with 415 nodes\n",
      "at level 3, with 9028 nodes\n",
      "at level 4, with 195055 nodes\n",
      "(45, 3)\n",
      "start node (45, 3)\n",
      "at level 0, with 1 nodes\n",
      "at level 1, with 25 nodes\n",
      "at level 2, with 572 nodes\n",
      "at level 3, with 12400 nodes\n",
      "at level 4, with 267808 nodes\n",
      "(89, 3)\n",
      "start node (89, 3)\n",
      "at level 0, with 1 nodes\n",
      "at level 1, with 27 nodes\n",
      "at level 2, with 576 nodes\n",
      "at level 3, with 12478 nodes\n",
      "at level 4, with 270099 nodes\n",
      "(36, 3)\n",
      "start node (36, 3)\n",
      "at level 0, with 1 nodes\n",
      "at level 1, with 25 nodes\n",
      "at level 2, with 544 nodes\n",
      "at level 3, with 11824 nodes\n",
      "at level 4, with 255260 nodes\n",
      "(43, 3)\n",
      "start node (43, 3)\n",
      "at level 0, with 1 nodes\n",
      "at level 1, with 25 nodes\n",
      "at level 2, with 567 nodes\n",
      "at level 3, with 12400 nodes\n",
      "at level 4, with 268677 nodes\n",
      "(73, 3)\n",
      "start node (73, 3)\n",
      "at level 0, with 1 nodes\n",
      "at level 1, with 19 nodes\n",
      "at level 2, with 427 nodes\n",
      "at level 3, with 9163 nodes\n",
      "at level 4, with 197856 nodes\n",
      "(46, 3)\n",
      "start node (46, 3)\n",
      "at level 0, with 1 nodes\n",
      "at level 1, with 25 nodes\n",
      "at level 2, with 553 nodes\n",
      "at level 3, with 12136 nodes\n",
      "at level 4, with 261826 nodes\n",
      "(94, 3)\n",
      "start node (94, 3)\n",
      "at level 0, with 1 nodes\n",
      "at level 1, with 18 nodes\n",
      "at level 2, with 375 nodes\n",
      "at level 3, with 8221 nodes\n",
      "at level 4, with 176571 nodes\n",
      "(6, 4)\n",
      "start node (6, 4)\n",
      "at level 0, with 1 nodes\n",
      "at level 1, with 17 nodes\n",
      "at level 2, with 338 nodes\n",
      "at level 3, with 7096 nodes\n",
      "at level 4, with 144735 nodes\n",
      "(11, 4)\n",
      "start node (11, 4)\n",
      "at level 0, with 1 nodes\n",
      "at level 1, with 20 nodes\n",
      "at level 2, with 432 nodes\n",
      "at level 3, with 8949 nodes\n",
      "at level 4, with 184453 nodes\n",
      "(60, 4)\n",
      "start node (60, 4)\n",
      "at level 0, with 1 nodes\n",
      "at level 1, with 15 nodes\n",
      "at level 2, with 321 nodes\n",
      "at level 3, with 6469 nodes\n",
      "at level 4, with 132964 nodes\n",
      "(94, 4)\n",
      "start node (94, 4)\n",
      "at level 0, with 1 nodes\n",
      "at level 1, with 23 nodes\n",
      "at level 2, with 488 nodes\n",
      "at level 3, with 9900 nodes\n",
      "at level 4, with 203409 nodes\n",
      "(34, 4)\n",
      "start node (34, 4)\n",
      "at level 0, with 1 nodes\n",
      "at level 1, with 19 nodes\n",
      "at level 2, with 390 nodes\n",
      "at level 3, with 8050 nodes\n",
      "at level 4, with 165383 nodes\n",
      "(54, 4)\n",
      "start node (54, 4)\n",
      "at level 0, with 1 nodes\n",
      "at level 1, with 16 nodes\n",
      "at level 2, with 350 nodes\n",
      "at level 3, with 7267 nodes\n",
      "at level 4, with 149042 nodes\n",
      "(73, 4)\n",
      "start node (73, 4)\n",
      "at level 0, with 1 nodes\n",
      "at level 1, with 23 nodes\n",
      "at level 2, with 501 nodes\n",
      "at level 3, with 10370 nodes\n",
      "at level 4, with 213023 nodes\n",
      "(80, 4)\n",
      "start node (80, 4)\n",
      "at level 0, with 1 nodes\n",
      "at level 1, with 28 nodes\n",
      "at level 2, with 572 nodes\n",
      "at level 3, with 11803 nodes\n",
      "at level 4, with 243058 nodes\n",
      "(45, 4)\n",
      "start node (45, 4)\n",
      "at level 0, with 1 nodes\n",
      "at level 1, with 22 nodes\n",
      "at level 2, with 457 nodes\n",
      "at level 3, with 9468 nodes\n",
      "at level 4, with 194477 nodes\n",
      "(89, 4)\n",
      "start node (89, 4)\n",
      "at level 0, with 1 nodes\n",
      "at level 1, with 17 nodes\n",
      "at level 2, with 339 nodes\n",
      "at level 3, with 6918 nodes\n",
      "at level 4, with 141868 nodes\n",
      "(46, 4)\n",
      "start node (46, 4)\n",
      "at level 0, with 1 nodes\n",
      "at level 1, with 18 nodes\n",
      "at level 2, with 362 nodes\n",
      "at level 3, with 7428 nodes\n",
      "at level 4, with 152349 nodes\n",
      "(52, 4)\n",
      "start node (52, 4)\n",
      "at level 0, with 1 nodes\n",
      "at level 1, with 20 nodes\n",
      "at level 2, with 400 nodes\n",
      "at level 3, with 8174 nodes\n",
      "at level 4, with 167761 nodes\n",
      "(36, 4)\n",
      "start node (36, 4)\n",
      "at level 0, with 1 nodes\n",
      "at level 1, with 15 nodes\n",
      "at level 2, with 334 nodes\n",
      "at level 3, with 6904 nodes\n",
      "at level 4, with 141927 nodes\n",
      "(23, 4)\n",
      "start node (23, 4)\n",
      "at level 0, with 1 nodes\n",
      "at level 1, with 17 nodes\n",
      "at level 2, with 331 nodes\n",
      "at level 3, with 6737 nodes\n",
      "at level 4, with 138502 nodes\n",
      "(25, 4)\n",
      "start node (25, 4)\n",
      "at level 0, with 1 nodes\n",
      "at level 1, with 23 nodes\n",
      "at level 2, with 451 nodes\n",
      "at level 3, with 9318 nodes\n",
      "at level 4, with 191407 nodes\n",
      "(43, 4)\n",
      "start node (43, 4)\n",
      "at level 0, with 1 nodes\n",
      "at level 1, with 22 nodes\n",
      "at level 2, with 446 nodes\n",
      "at level 3, with 9240 nodes\n",
      "at level 4, with 189879 nodes\n",
      "(37, 4)\n",
      "start node (37, 4)\n",
      "at level 0, with 1 nodes\n",
      "at level 1, with 14 nodes\n",
      "at level 2, with 286 nodes\n",
      "at level 3, with 5947 nodes\n",
      "at level 4, with 121919 nodes\n",
      "(33, 4)\n",
      "start node (33, 4)\n",
      "at level 0, with 1 nodes\n",
      "at level 1, with 17 nodes\n",
      "at level 2, with 363 nodes\n",
      "at level 3, with 7528 nodes\n",
      "at level 4, with 155083 nodes\n",
      "(55, 4)\n",
      "start node (55, 4)\n",
      "at level 0, with 1 nodes\n",
      "at level 1, with 19 nodes\n",
      "at level 2, with 415 nodes\n",
      "at level 3, with 8558 nodes\n",
      "at level 4, with 175113 nodes\n",
      "(17, 4)\n",
      "start node (17, 4)\n",
      "at level 0, with 1 nodes\n",
      "at level 1, with 24 nodes\n",
      "at level 2, with 535 nodes\n",
      "at level 3, with 11073 nodes\n",
      "at level 4, with 227177 nodes\n",
      "(34, 5)\n",
      "start node (34, 5)\n",
      "at level 0, with 1 nodes\n",
      "at level 1, with 20 nodes\n",
      "at level 2, with 401 nodes\n",
      "at level 3, with 7708 nodes\n",
      "at level 4, with 148141 nodes\n",
      "(46, 5)\n",
      "start node (46, 5)\n",
      "at level 0, with 1 nodes\n",
      "at level 1, with 28 nodes\n",
      "at level 2, with 538 nodes\n",
      "at level 3, with 10274 nodes\n",
      "at level 4, with 197040 nodes\n",
      "(52, 5)\n",
      "start node (52, 5)\n",
      "at level 0, with 1 nodes\n",
      "at level 1, with 25 nodes\n",
      "at level 2, with 423 nodes\n",
      "at level 3, with 8123 nodes\n",
      "at level 4, with 155725 nodes\n",
      "(54, 5)\n",
      "start node (54, 5)\n",
      "at level 0, with 1 nodes\n",
      "at level 1, with 20 nodes\n",
      "at level 2, with 370 nodes\n",
      "at level 3, with 7070 nodes\n",
      "at level 4, with 135483 nodes\n",
      "(6, 5)\n",
      "start node (6, 5)\n",
      "at level 0, with 1 nodes\n",
      "at level 1, with 15 nodes\n",
      "at level 2, with 288 nodes\n",
      "at level 3, with 5561 nodes\n",
      "at level 4, with 106499 nodes\n",
      "(11, 5)\n",
      "start node (11, 5)\n",
      "at level 0, with 1 nodes\n",
      "at level 1, with 12 nodes\n",
      "at level 2, with 255 nodes\n",
      "at level 3, with 4965 nodes\n",
      "at level 4, with 95035 nodes\n",
      "(23, 5)\n",
      "start node (23, 5)\n",
      "at level 0, with 1 nodes\n",
      "at level 1, with 21 nodes\n",
      "at level 2, with 424 nodes\n",
      "at level 3, with 8209 nodes\n",
      "at level 4, with 156791 nodes\n",
      "(33, 5)\n",
      "start node (33, 5)\n",
      "at level 0, with 1 nodes\n",
      "at level 1, with 16 nodes\n",
      "at level 2, with 326 nodes\n",
      "at level 3, with 6258 nodes\n",
      "at level 4, with 120094 nodes\n",
      "(36, 5)\n",
      "start node (36, 5)\n",
      "at level 0, with 1 nodes\n",
      "at level 1, with 19 nodes\n",
      "at level 2, with 377 nodes\n",
      "at level 3, with 7246 nodes\n",
      "at level 4, with 139426 nodes\n",
      "(45, 5)\n",
      "start node (45, 5)\n",
      "at level 0, with 1 nodes\n",
      "at level 1, with 19 nodes\n",
      "at level 2, with 370 nodes\n",
      "at level 3, with 7071 nodes\n",
      "at level 4, with 135259 nodes\n",
      "(55, 5)\n",
      "start node (55, 5)\n",
      "at level 0, with 1 nodes\n",
      "at level 1, with 25 nodes\n",
      "at level 2, with 496 nodes\n",
      "at level 3, with 9504 nodes\n",
      "at level 4, with 182170 nodes\n",
      "(80, 5)\n",
      "start node (80, 5)\n",
      "at level 0, with 1 nodes\n",
      "at level 1, with 27 nodes\n",
      "at level 2, with 505 nodes\n",
      "at level 3, with 9581 nodes\n",
      "at level 4, with 183499 nodes\n",
      "(43, 5)\n",
      "start node (43, 5)\n",
      "at level 0, with 1 nodes\n",
      "at level 1, with 19 nodes\n",
      "at level 2, with 354 nodes\n",
      "at level 3, with 6806 nodes\n",
      "at level 4, with 130825 nodes\n",
      "(37, 5)\n",
      "start node (37, 5)\n",
      "at level 0, with 1 nodes\n",
      "at level 1, with 14 nodes\n",
      "at level 2, with 265 nodes\n",
      "at level 3, with 5056 nodes\n",
      "at level 4, with 96967 nodes\n",
      "(94, 5)\n",
      "start node (94, 5)\n",
      "at level 0, with 1 nodes\n",
      "at level 1, with 22 nodes\n",
      "at level 2, with 437 nodes\n",
      "at level 3, with 8157 nodes\n",
      "at level 4, with 156614 nodes\n",
      "(89, 5)\n",
      "start node (89, 5)\n",
      "at level 0, with 1 nodes\n",
      "at level 1, with 12 nodes\n",
      "at level 2, with 223 nodes\n",
      "at level 3, with 4275 nodes\n",
      "at level 4, with 82257 nodes\n",
      "(60, 5)\n",
      "start node (60, 5)\n",
      "at level 0, with 1 nodes\n",
      "at level 1, with 18 nodes\n",
      "at level 2, with 324 nodes\n",
      "at level 3, with 6238 nodes\n",
      "at level 4, with 119545 nodes\n",
      "(73, 5)\n",
      "start node (73, 5)\n",
      "at level 0, with 1 nodes\n",
      "at level 1, with 23 nodes\n",
      "at level 2, with 419 nodes\n",
      "at level 3, with 8159 nodes\n",
      "at level 4, with 156362 nodes\n",
      "(25, 5)\n",
      "start node (25, 5)\n",
      "at level 0, with 1 nodes\n",
      "at level 1, with 15 nodes\n",
      "at level 2, with 300 nodes\n",
      "at level 3, with 5749 nodes\n",
      "at level 4, with 110189 nodes\n",
      "(17, 5)\n",
      "start node (17, 5)\n",
      "at level 0, with 1 nodes\n",
      "at level 1, with 22 nodes\n",
      "at level 2, with 419 nodes\n",
      "at level 3, with 8000 nodes\n",
      "at level 4, with 153909 nodes\n"
     ]
    },
    {
     "data": {
      "text/plain": [
       "100-element Array{Any,1}:\n",
       " (TimeNode(11, 1), 1224.83)\n",
       " (TimeNode(17, 1), 1163.85)\n",
       " (TimeNode(45, 1), 1293.58)\n",
       " (TimeNode(52, 1), 906.064)\n",
       " (TimeNode(25, 1), 778.205)\n",
       " (TimeNode(34, 1), 1238.17)\n",
       " (TimeNode(36, 1), 1539.86)\n",
       " (TimeNode(54, 1), 1144.23)\n",
       " (TimeNode(55, 1), 1169.12)\n",
       " (TimeNode(43, 1), 1099.13)\n",
       " (TimeNode(80, 1), 1363.9) \n",
       " (TimeNode(23, 1), 1047.99)\n",
       " (TimeNode(6, 1), 1296.96) \n",
       " ⋮                         \n",
       " (TimeNode(36, 5), 535.924)\n",
       " (TimeNode(45, 5), 521.451)\n",
       " (TimeNode(55, 5), 701.138)\n",
       " (TimeNode(80, 5), 709.019)\n",
       " (TimeNode(43, 5), 504.202)\n",
       " (TimeNode(37, 5), 374.039)\n",
       " (TimeNode(94, 5), 604.201)\n",
       " (TimeNode(89, 5), 317.046)\n",
       " (TimeNode(60, 5), 461.538)\n",
       " (TimeNode(73, 5), 602.783)\n",
       " (TimeNode(25, 5), 424.007)\n",
       " (TimeNode(17, 5), 592.935)"
      ]
     },
     "execution_count": 25,
     "metadata": {},
     "output_type": "execute_result"
    }
   ],
   "source": [
    "scores = []\n",
    "for n in active_nodes(g)\n",
    "    if node_key(n) in sorted_top_keys\n",
    "        intn = (node_key(n),node_timestamp(n))\n",
    "        println(intn)\n",
    "        tr = temporal_katz(intg, intn, alpha = 0.1, k = 5)\n",
    "        push!(scores, (n, tr))\n",
    "    end\n",
    "end\n",
    "scores"
   ]
  },
  {
   "cell_type": "code",
   "execution_count": 26,
   "metadata": {},
   "outputs": [
    {
     "data": {
      "text/plain": [
       "DataStructures.DefaultDict{Any,Any,Float64} with 20 entries:\n",
       "  54 => 3890.16\n",
       "  80 => 5065.66\n",
       "  89 => 4106.01\n",
       "  11 => 4020.13\n",
       "  46 => 4404.96\n",
       "  43 => 4624.15\n",
       "  25 => 3715.35\n",
       "  55 => 4597.42\n",
       "  34 => 4169.42\n",
       "  60 => 4085.78\n",
       "  17 => 4135.5\n",
       "  6  => 3774.14\n",
       "  73 => 4124.62\n",
       "  37 => 3844.12\n",
       "  45 => 4557.3\n",
       "  23 => 3775.93\n",
       "  36 => 4394.77\n",
       "  94 => 4141.0\n",
       "  52 => 3909.63\n",
       "  33 => 3519.81"
      ]
     },
     "execution_count": 26,
     "metadata": {},
     "output_type": "execute_result"
    }
   ],
   "source": [
    "using DataStructures\n",
    "\n",
    "sum_scores = DefaultDict(0.) \n",
    "for (n, v) in scores\n",
    "    sum_scores[node_key(n)] += v\n",
    "end\n",
    "sum_scores "
   ]
  },
  {
   "cell_type": "code",
   "execution_count": 31,
   "metadata": {},
   "outputs": [
    {
     "name": "stdout",
     "output_type": "stream",
     "text": [
      "node TimeNode(11, 1)\n",
      "value 1224.834899819936\n",
      "node TimeNode(17, 1)\n",
      "value 1163.8518998292761\n",
      "node TimeNode(45, 1)\n",
      "value 1293.5838998093886\n",
      "node TimeNode(52, 1)\n",
      "value 906.0639998690834\n",
      "node TimeNode(25, 1)\n",
      "value 778.2052998885803\n",
      "node TimeNode(34, 1)\n",
      "value 1238.168899817753\n",
      "node TimeNode(36, 1)\n",
      "value 1539.8606997719116\n",
      "node TimeNode(54, 1)\n",
      "value 1144.227099832334\n",
      "node TimeNode(55, 1)\n",
      "value 1169.1183998284694\n",
      "node TimeNode(43, 1)\n",
      "value 1099.1326998390223\n",
      "node TimeNode(80, 1)\n",
      "value 1363.896299798577\n",
      "node TimeNode(23, 1)\n",
      "value 1047.9910998470273\n",
      "node TimeNode(6, 1)\n",
      "value 1296.9582998088517\n",
      "node TimeNode(37, 1)\n",
      "value 1228.5242998193146\n",
      "node TimeNode(46, 1)\n",
      "value 910.8328998682736\n",
      "node TimeNode(60, 1)\n",
      "value 1141.6199998327547\n",
      "node TimeNode(89, 1)\n",
      "value 1341.6504998016464\n",
      "node TimeNode(33, 1)\n",
      "value 922.5920998664808\n",
      "node TimeNode(73, 1)\n",
      "value 900.4506998700047\n",
      "node TimeNode(94, 1)\n",
      "value 1128.5436998347964\n",
      "node TimeNode(11, 2)\n",
      "value 746.1284998952133\n",
      "node TimeNode(17, 2)\n",
      "value 910.4348998706787\n",
      "node TimeNode(25, 2)\n",
      "value 967.3979998618654\n",
      "node TimeNode(33, 2)\n",
      "value 712.4679999003184\n",
      "node TimeNode(73, 2)\n",
      "value 1019.4938998539851\n",
      "node TimeNode(94, 2)\n",
      "value 924.7697998685555\n",
      "node TimeNode(36, 2)\n",
      "value 767.4340998922714\n",
      "node TimeNode(52, 2)\n",
      "value 1071.813899846232\n",
      "node TimeNode(43, 2)\n",
      "value 1230.625199822104\n",
      "node TimeNode(45, 2)\n",
      "value 937.2700998664602\n",
      "node TimeNode(46, 2)\n",
      "value 1116.2263998394246\n",
      "node TimeNode(60, 2)\n",
      "value 1032.5698998520945\n",
      "node TimeNode(80, 2)\n",
      "value 1195.693199827593\n",
      "node TimeNode(55, 2)\n",
      "value 1036.356499851755\n",
      "node TimeNode(6, 2)\n",
      "value 739.1854998963444\n",
      "node TimeNode(23, 2)\n",
      "value 831.8671998823056\n",
      "node TimeNode(89, 2)\n",
      "value 833.4751998820449\n",
      "node TimeNode(34, 2)\n",
      "value 814.6141998849698\n",
      "node TimeNode(37, 2)\n",
      "value 887.2989998739566\n",
      "node TimeNode(54, 2)\n",
      "value 753.0668998946486\n",
      "node TimeNode(17, 3)\n",
      "value 587.0330999199934\n",
      "node TimeNode(25, 3)\n",
      "value 800.5772998879302\n",
      "node TimeNode(34, 3)\n",
      "value 904.5731998723054\n",
      "node TimeNode(11, 3)\n",
      "value 969.3810998626735\n",
      "node TimeNode(23, 3)\n",
      "value 753.8714998949926\n",
      "node TimeNode(52, 3)\n",
      "value 675.6824999067645\n",
      "node TimeNode(80, 3)\n",
      "value 852.8720998802286\n",
      "node TimeNode(33, 3)\n",
      "value 821.3542998848397\n",
      "node TimeNode(37, 3)\n",
      "value 880.4623998757287\n",
      "node TimeNode(54, 3)\n",
      "value 891.796199874199\n",
      "node TimeNode(55, 3)\n",
      "value 1011.1905998564351\n",
      "node TimeNode(60, 3)\n",
      "value 933.1858998679498\n",
      "node TimeNode(6, 3)\n",
      "value 764.9990998931712\n",
      "node TimeNode(45, 3)\n",
      "value 1049.8261998504922\n",
      "node TimeNode(89, 3)\n",
      "value 1060.908199848935\n",
      "node TimeNode(36, 3)\n",
      "value 1001.2650998579329\n",
      "node TimeNode(43, 3)\n",
      "value 1052.2808998499631\n",
      "node TimeNode(73, 3)\n",
      "value 775.2179998918085\n",
      "node TimeNode(46, 3)\n",
      "value 1025.6048998542067\n",
      "node TimeNode(94, 3)\n",
      "value 692.4524999042806\n",
      "node TimeNode(6, 4)\n",
      "value 563.00539992599\n",
      "node TimeNode(11, 4)\n",
      "value 715.3851999036387\n",
      "node TimeNode(60, 4)\n",
      "value 516.8642999355475\n",
      "node TimeNode(94, 4)\n",
      "value 791.037299892969\n",
      "node TimeNode(34, 4)\n",
      "value 642.601199914426\n",
      "node TimeNode(54, 4)\n",
      "value 578.0396999236216\n",
      "node TimeNode(73, 4)\n",
      "value 826.6788998875377\n",
      "node TimeNode(80, 4)\n",
      "value 944.1748998707252\n",
      "node TimeNode(45, 4)\n",
      "value 755.1683998980777\n",
      "node TimeNode(89, 4)\n",
      "value 552.9295999274925\n",
      "node TimeNode(46, 4)\n",
      "value 592.3429999218562\n",
      "node TimeNode(52, 4)\n",
      "value 653.0341999130666\n",
      "node TimeNode(36, 4)\n",
      "value 550.282299927581\n",
      "node TimeNode(23, 4)\n",
      "value 539.2032999295975\n",
      "node TimeNode(25, 4)\n",
      "value 745.1648998996467\n",
      "node TimeNode(43, 4)\n",
      "value 737.9074999006164\n",
      "node TimeNode(37, 4)\n",
      "value 473.7913999469902\n",
      "node TimeNode(33, 4)\n",
      "value 601.5531999201879\n",
      "node TimeNode(55, 4)\n",
      "value 679.619499909027\n",
      "node TimeNode(17, 4)\n",
      "value 881.2423998795907\n",
      "node TimeNode(34, 5)\n",
      "value 569.4614999285731\n",
      "node TimeNode(46, 5)\n",
      "value 759.957099902363\n",
      "node TimeNode(52, 5)\n",
      "value 603.0337999243852\n",
      "node TimeNode(54, 5)\n",
      "value 523.032399935247\n",
      "node TimeNode(6, 5)\n",
      "value 409.99279996353044\n",
      "node TimeNode(11, 5)\n",
      "value 364.39729997570106\n",
      "node TimeNode(23, 5)\n",
      "value 602.9948999239652\n",
      "node TimeNode(33, 5)\n",
      "value 461.8413999497453\n",
      "node TimeNode(36, 5)\n",
      "value 535.9237999332315\n",
      "node TimeNode(45, 5)\n",
      "value 521.4511999353718\n",
      "node TimeNode(55, 5)\n",
      "value 701.1377999104477\n",
      "node TimeNode(80, 5)\n",
      "value 709.0189999095835\n",
      "node TimeNode(43, 5)\n",
      "value 504.20209993843946\n",
      "node TimeNode(37, 5)\n",
      "value 374.0394999730986\n",
      "node TimeNode(94, 5)\n",
      "value 604.2012999240159\n",
      "node TimeNode(89, 5)\n",
      "value 317.0457999882799\n",
      "node TimeNode(60, 5)\n",
      "value 461.5377999497852\n",
      "node TimeNode(73, 5)\n",
      "value 602.7829999241421\n",
      "node TimeNode(25, 5)\n",
      "value 424.00659995980743\n",
      "node TimeNode(17, 5)\n",
      "value 592.9351999254827\n"
     ]
    },
    {
     "data": {
      "text/plain": [
       "DataStructures.DefaultDict{Any,Any,Array{Float64,1}} with 0 entries"
      ]
     },
     "execution_count": 31,
     "metadata": {},
     "output_type": "execute_result"
    }
   ],
   "source": [
    "accu_scores = DefaultDict([0.]) \n",
    "for (n, v) in scores\n",
    "#     println(\"node $n\")\n",
    "#     println(\"value $v\")\n",
    "    push!(accu_scores[node_key(n)], v)\n",
    "#     push!(accu_scores[node_key(n)], accu_scores[node_key(n)][end] + v)\n",
    "end\n",
    "accu_scores"
   ]
  },
  {
   "cell_type": "code",
   "execution_count": 30,
   "metadata": {},
   "outputs": [
    {
     "name": "stderr",
     "output_type": "stream",
     "text": [
      "\u001b[1m\u001b[36mINFO: \u001b[39m\u001b[22m\u001b[36mPrecompiling module Plots.\n",
      "\u001b[39m"
     ]
    }
   ],
   "source": [
    "using Plots"
   ]
  },
  {
   "cell_type": "code",
   "execution_count": 27,
   "metadata": {},
   "outputs": [],
   "source": [
    "r2 = collect(sum_scores);"
   ]
  },
  {
   "cell_type": "code",
   "execution_count": 28,
   "metadata": {},
   "outputs": [
    {
     "data": {
      "text/plain": [
       "20-element Array{Pair{Any,Any},1}:\n",
       " Pair{Any,Any}(80, 5065.66)\n",
       " Pair{Any,Any}(43, 4624.15)\n",
       " Pair{Any,Any}(55, 4597.42)\n",
       " Pair{Any,Any}(45, 4557.3) \n",
       " Pair{Any,Any}(46, 4404.96)\n",
       " Pair{Any,Any}(36, 4394.77)\n",
       " Pair{Any,Any}(34, 4169.42)\n",
       " Pair{Any,Any}(94, 4141.0) \n",
       " Pair{Any,Any}(17, 4135.5) \n",
       " Pair{Any,Any}(73, 4124.62)\n",
       " Pair{Any,Any}(89, 4106.01)\n",
       " Pair{Any,Any}(60, 4085.78)\n",
       " Pair{Any,Any}(11, 4020.13)\n",
       " Pair{Any,Any}(52, 3909.63)\n",
       " Pair{Any,Any}(54, 3890.16)\n",
       " Pair{Any,Any}(37, 3844.12)\n",
       " Pair{Any,Any}(23, 3775.93)\n",
       " Pair{Any,Any}(6, 3774.14) \n",
       " Pair{Any,Any}(25, 3715.35)\n",
       " Pair{Any,Any}(33, 3519.81)"
      ]
     },
     "execution_count": 28,
     "metadata": {},
     "output_type": "execute_result"
    }
   ],
   "source": [
    "sorted_r2 = sort(r2, by = x -> x[2], rev = true)"
   ]
  },
  {
   "cell_type": "code",
   "execution_count": 17,
   "metadata": {},
   "outputs": [
    {
     "data": {
      "text/plain": [
       "20-element Array{Tuple{EvolvingGraphs.Node{Int64},Float64},1}:\n",
       " (Node(6), 0.229854)  \n",
       " (Node(54), 0.220491) \n",
       " (Node(43), 0.193352) \n",
       " (Node(55), 0.187044) \n",
       " (Node(73), 0.1859)   \n",
       " (Node(80), 0.185528) \n",
       " (Node(33), 0.168963) \n",
       " (Node(37), 0.146367) \n",
       " (Node(94), 0.143335) \n",
       " (Node(17), 0.134177) \n",
       " (Node(45), 0.125457) \n",
       " (Node(52), 0.125012) \n",
       " (Node(11), 0.11887)  \n",
       " (Node(36), 0.114556) \n",
       " (Node(25), 0.10687)  \n",
       " (Node(46), 0.10678)  \n",
       " (Node(89), 0.096828) \n",
       " (Node(23), 0.0874197)\n",
       " (Node(34), 0.077072) \n",
       " (Node(60), 0.0741519)"
      ]
     },
     "execution_count": 17,
     "metadata": {},
     "output_type": "execute_result"
    }
   ],
   "source": [
    "sorted_top"
   ]
  },
  {
   "cell_type": "code",
   "execution_count": 20,
   "metadata": {},
   "outputs": [
    {
     "data": {
      "text/plain": [
       "Directed EvolvingGraph 3354 nodes, 15654 static edges, 17 timestamps"
      ]
     },
     "execution_count": 20,
     "metadata": {},
     "output_type": "execute_result"
    }
   ],
   "source": [
    "using EvolvingGraphs\n",
    "using EvolvingGraphs.Centrality\n",
    "import EzXML\n",
    "\n",
    "\n",
    "# load graph data at each year\n",
    "# form evolving graph\n",
    "g = EvolvingGraph{Node{String}, Int}()\n",
    "\n",
    "for year in range(2001, 17)\n",
    "    sg = load_graphml(\"jmlr_$(year).graphml\")\n",
    "    add_graph!(g, sg, year)\n",
    "end\n",
    "g"
   ]
  },
  {
   "cell_type": "code",
   "execution_count": 6,
   "metadata": {},
   "outputs": [
    {
     "name": "stdout",
     "output_type": "stream",
     "text": [
      "Top 10 rating authors\n",
      "Tuple{EvolvingGraphs.Node{String},Float64}[(Node(Manuel Gomez-Rodriguez), 1.0), (Node(Henry Adams), 0.984369), (Node(Joseph Bradley), 0.972919), (Node(Le Song), 0.959548), (Node(Wei-Sheng Chin), 0.937996), (Node(Zoubin Ghahramani), 0.891851), (Node(Lori Ziegelmeier), 0.885932), (Node(Francis Motta), 0.885932), (Node(Eric Hanson), 0.885932), (Node(Tegan Emerson), 0.885932)]\n",
      "Button 10 rating authors\n",
      "Tuple{EvolvingGraphs.Node{String},Float64}[(Node(Sa, Virginia R. de), 2.49324e-5), (Node(Chapados, Nicolas), 2.49324e-5), (Node(Forman, George), 2.49324e-5), (Node(Pla, Ferran), 2.49299e-5), (Node(Gavinsky, Dmitry), 2.49299e-5), (Node(Zhang, Huajie), 2.49299e-5), (Node(Wrobel, Stefan), 2.49299e-5), (Node(Vempala, Santosh), 2.49299e-5), (Node(Veloso, Manuela), 2.49299e-5), (Node(Struyf, Jan), 2.49299e-5), (Node(Barto, Andrew G.), 2.49299e-5)]\n"
     ]
    }
   ],
   "source": [
    "rating = katz(g, 0.1, 0.01; mode = :receive)\n",
    "\n",
    "\n",
    "sorted_authors = sort(rating, by = x -> x[2], rev = true)\n",
    "\n",
    "println(\"Top 10 rating authors\")\n",
    "println(sorted_authors[1:10])\n",
    "\n",
    "println(\"Button 10 rating authors\")\n",
    "println(sorted_authors[end-10:end])"
   ]
  },
  {
   "cell_type": "code",
   "execution_count": 37,
   "metadata": {},
   "outputs": [
    {
     "name": "stdout",
     "output_type": "stream",
     "text": [
      "start node TimeNode(Manevitz, Larry M., 2001)\n",
      "at level 0, with 1 nodes\n",
      "at level 1, with 2 nodes\n",
      "at level 2, with 3 nodes\n",
      "at level 3, with 5 nodes\n",
      "at level 4, with 8 nodes\n",
      "start node TimeNode(Yousef, Malik, 2001)\n",
      "at level 0, with 1 nodes\n",
      "at level 1, with 1 nodes\n",
      "at level 2, with 2 nodes\n",
      "at level 3, with 3 nodes\n",
      "at level 4, with 5 nodes\n",
      "start node TimeNode(Gates, Kevin E., 2001)\n",
      "at level 0, with 1 nodes\n",
      "at level 1, with 2 nodes\n",
      "at level 2, with 6 nodes\n",
      "at level 3, with 19 nodes\n",
      "at level 4, with 62 nodes\n",
      "start node TimeNode(Masters, Annette, 2001)\n",
      "at level 0, with 1 nodes\n",
      "at level 1, with 2 nodes\n",
      "at level 2, with 6 nodes\n",
      "at level 3, with 19 nodes\n",
      "at level 4, with 62 nodes\n",
      "start node TimeNode(Downs, Tom, 2001)\n",
      "at level 0, with 1 nodes\n",
      "at level 1, with 4 nodes\n",
      "at level 2, with 13 nodes\n",
      "at level 3, with 43 nodes\n",
      "at level 4, with 145 nodes\n",
      "start node TimeNode(Vapnik, Vladimir, 2001)\n",
      "at level 0, with 1 nodes\n",
      "at level 1, with 3 nodes\n",
      "at level 2, with 11 nodes\n",
      "at level 3, with 40 nodes\n",
      "at level 4, with 144 nodes\n",
      "start node TimeNode(Siegelmann, Hava T., 2001)\n",
      "at level 0, with 1 nodes\n",
      "at level 1, with 3 nodes\n",
      "at level 2, with 11 nodes\n",
      "at level 3, with 40 nodes\n",
      "at level 4, with 144 nodes\n",
      "start node TimeNode(Ben-Hur, Asa, 2001)\n",
      "at level 0, with 1 nodes\n",
      "at level 1, with 5 nodes\n",
      "at level 2, with 18 nodes\n",
      "at level 3, with 64 nodes\n",
      "at level 4, with 227 nodes\n",
      "start node TimeNode(Horn, David, 2001)\n",
      "at level 0, with 1 nodes\n",
      "at level 1, with 3 nodes\n",
      "at level 2, with 11 nodes\n",
      "at level 3, with 40 nodes\n",
      "at level 4, with 144 nodes\n",
      "start node TimeNode(Singer, Yoram, 2001)\n",
      "at level 0, with 1 nodes\n",
      "at level 1, with 8 nodes\n",
      "at level 2, with 41 nodes\n",
      "at level 3, with 197 nodes\n",
      "at level 4, with 1001 nodes\n",
      "start node TimeNode(Crammer, Koby, 2001)\n",
      "at level 0, with 1 nodes\n",
      "at level 1, with 6 nodes\n",
      "at level 2, with 37 nodes\n",
      "at level 3, with 197 nodes\n",
      "at level 4, with 990 nodes\n"
     ]
    },
    {
     "data": {
      "text/plain": [
       "Dict{Any,Any} with 11 entries:\n",
       "  TimeNode(Manevitz, Larry M., 2001)  => 2.3593\n",
       "  TimeNode(Singer, Yoram, 2001)       => 4.86033\n",
       "  TimeNode(Downs, Tom, 2001)          => 5.9246\n",
       "  TimeNode(Vapnik, Vladimir, 2001)    => 4.6955\n",
       "  TimeNode(Crammer, Koby, 2001)       => 6.33534\n",
       "  TimeNode(Horn, David, 2001)         => 4.6955\n",
       "  TimeNode(Masters, Annette, 2001)    => 2.8727\n",
       "  TimeNode(Ben-Hur, Asa, 2001)        => 7.7474\n",
       "  TimeNode(Yousef, Malik, 2001)       => 1.2358\n",
       "  TimeNode(Gates, Kevin E., 2001)     => 2.8727\n",
       "  TimeNode(Siegelmann, Hava T., 2001) => 4.6955"
      ]
     },
     "execution_count": 37,
     "metadata": {},
     "output_type": "execute_result"
    }
   ],
   "source": [
    "an = active_nodes(g)[1:11]\n",
    "\n",
    "scores = Dict()\n",
    "for n in an\n",
    "    scores[n] = temporal_katz(g, n, alpha = 0.1, k = 5)\n",
    "end\n",
    "scores"
   ]
  },
  {
   "cell_type": "code",
   "execution_count": null,
   "metadata": {
    "collapsed": true
   },
   "outputs": [],
   "source": []
  }
 ],
 "metadata": {
  "kernelspec": {
   "display_name": "Julia 0.6.2",
   "language": "julia",
   "name": "julia-0.6"
  },
  "language_info": {
   "file_extension": ".jl",
   "mimetype": "application/julia",
   "name": "julia",
   "version": "0.6.2"
  }
 },
 "nbformat": 4,
 "nbformat_minor": 2
}
