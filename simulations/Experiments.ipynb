{
 "cells": [
  {
   "cell_type": "code",
   "execution_count": 17,
   "metadata": {
    "collapsed": true
   },
   "outputs": [],
   "source": [
    "workspace()"
   ]
  },
  {
   "cell_type": "code",
   "execution_count": 18,
   "metadata": {
    "collapsed": true
   },
   "outputs": [],
   "source": [
    "using EvolvingGraphs\n",
    "using EvolvingGraphs.Centrality"
   ]
  },
  {
   "cell_type": "markdown",
   "metadata": {},
   "source": [
    "# Katz Motivation exmple "
   ]
  },
  {
   "cell_type": "code",
   "execution_count": 2,
   "metadata": {},
   "outputs": [
    {
     "data": {
      "text/plain": [
       "Directed EvolvingGraph 0 nodes, 0 static edges, 0 timestamps"
      ]
     },
     "execution_count": 2,
     "metadata": {},
     "output_type": "execute_result"
    }
   ],
   "source": [
    "g = EvolvingGraph{Node{String}, Int}()"
   ]
  },
  {
   "cell_type": "code",
   "execution_count": 3,
   "metadata": {},
   "outputs": [
    {
     "data": {
      "text/plain": [
       "Directed EvolvingGraph 3 nodes, 5 static edges, 3 timestamps"
      ]
     },
     "execution_count": 3,
     "metadata": {},
     "output_type": "execute_result"
    }
   ],
   "source": [
    "add_bunch_of_edges!(g, [(\"A\", \"B\", 1), (\"A\", \"C\", 2), (\"A\", \"B\", 2),(\"C\", \"A\", 2),(\"B\", \"C\", 3)])"
   ]
  },
  {
   "cell_type": "code",
   "execution_count": 4,
   "metadata": {},
   "outputs": [
    {
     "data": {
      "text/plain": [
       "5-element Array{EvolvingGraphs.WeightedTimeEdge{EvolvingGraphs.Node{String},Int64,Float64},1}:\n",
       " Node(A)-1.0->Node(B) at time 1\n",
       " Node(A)-1.0->Node(C) at time 2\n",
       " Node(A)-1.0->Node(B) at time 2\n",
       " Node(C)-1.0->Node(A) at time 2\n",
       " Node(B)-1.0->Node(C) at time 3"
      ]
     },
     "execution_count": 4,
     "metadata": {},
     "output_type": "execute_result"
    }
   ],
   "source": [
    "edges(g)"
   ]
  },
  {
   "cell_type": "code",
   "execution_count": 6,
   "metadata": {},
   "outputs": [
    {
     "data": {
      "text/plain": [
       "3-element Array{Tuple{EvolvingGraphs.Node{String},Float64},1}:\n",
       " (Node(A), 0.742301)\n",
       " (Node(B), 0.42943) \n",
       " (Node(C), 0.514373)"
      ]
     },
     "execution_count": 6,
     "metadata": {},
     "output_type": "execute_result"
    }
   ],
   "source": [
    "katz(g)"
   ]
  },
  {
   "cell_type": "code",
   "execution_count": 8,
   "metadata": {},
   "outputs": [
    {
     "data": {
      "text/plain": [
       "Directed EvolvingGraph 3 nodes, 5 static edges, 3 timestamps"
      ]
     },
     "execution_count": 8,
     "metadata": {},
     "output_type": "execute_result"
    }
   ],
   "source": [
    "g2 = EvolvingGraph{Node{String}, Int}()\n",
    "add_bunch_of_edges!(g2, [(\"A\", \"B\", 3), (\"A\", \"C\", 2), (\"A\", \"B\", 2),(\"C\", \"A\", 2),(\"B\", \"C\", 1)])"
   ]
  },
  {
   "cell_type": "code",
   "execution_count": 9,
   "metadata": {},
   "outputs": [
    {
     "data": {
      "text/plain": [
       "3-element Array{Tuple{EvolvingGraphs.Node{String},Float64},1}:\n",
       " (Node(A), 0.687679)\n",
       " (Node(B), 0.490062)\n",
       " (Node(C), 0.535666)"
      ]
     },
     "execution_count": 9,
     "metadata": {},
     "output_type": "execute_result"
    }
   ],
   "source": [
    "katz(g2)"
   ]
  },
  {
   "cell_type": "code",
   "execution_count": 17,
   "metadata": {},
   "outputs": [
    {
     "data": {
      "text/plain": [
       "3-element Array{Tuple{EvolvingGraphs.Node{String},Float64},1}:\n",
       " (Node(A), 0.687679)\n",
       " (Node(B), 0.490062)\n",
       " (Node(C), 0.535666)"
      ]
     },
     "execution_count": 17,
     "metadata": {},
     "output_type": "execute_result"
    }
   ],
   "source": [
    "g3 = EvolvingGraph{Node{String}, Int}()\n",
    "add_bunch_of_edges!(g3, [(\"A\", \"B\", 100), (\"A\", \"C\", 2), (\"A\", \"B\", 2),(\"C\", \"A\", 2),(\"B\", \"C\", 1)])\n",
    "katz(g3)"
   ]
  },
  {
   "cell_type": "code",
   "execution_count": 11,
   "metadata": {},
   "outputs": [
    {
     "data": {
      "text/plain": [
       "3-element Array{Tuple{EvolvingGraphs.Node{String},Float64},1}:\n",
       " (Node(A), 0.64654) \n",
       " (Node(B), 0.604677)\n",
       " (Node(C), 0.465136)"
      ]
     },
     "execution_count": 11,
     "metadata": {},
     "output_type": "execute_result"
    }
   ],
   "source": [
    "g1 = EvolvingGraph{Node{String}, Int}()\n",
    "add_bunch_of_edges!(g1, [(\"A\",\"B\", 1),(\"B\",\"C\", 2)])\n",
    "katz(g1)"
   ]
  },
  {
   "cell_type": "code",
   "execution_count": 14,
   "metadata": {},
   "outputs": [
    {
     "data": {
      "text/plain": [
       "3-element Array{Tuple{EvolvingGraphs.Node{String},Float64},1}:\n",
       " (Node(A), 0.687679)\n",
       " (Node(B), 0.490062)\n",
       " (Node(C), 0.535666)"
      ]
     },
     "execution_count": 14,
     "metadata": {},
     "output_type": "execute_result"
    }
   ],
   "source": [
    "g2 = EvolvingGraph{Node{String}, Int}()\n",
    "add_bunch_of_edges!(g2, [(\"A\", \"B\", 3), (\"A\", \"C\", 2), (\"A\", \"B\", 2),(\"C\", \"A\", 2),(\"B\", \"C\", 1)])\n",
    "katz(g2)"
   ]
  },
  {
   "cell_type": "markdown",
   "metadata": {},
   "source": [
    "# Katz Centrality\n",
    "\n",
    "Each node `v` has forword neighbours. Each forward neighbour has forword neighbour, and so on."
   ]
  },
  {
   "cell_type": "code",
   "execution_count": 7,
   "metadata": {},
   "outputs": [
    {
     "data": {
      "text/plain": [
       "temporal_distance (generic function with 4 methods)"
      ]
     },
     "execution_count": 7,
     "metadata": {},
     "output_type": "execute_result"
    }
   ],
   "source": [
    "\"\"\"\n",
    "distance between two active nodes\n",
    "\n",
    "alpha: time unit parameter\n",
    "\"\"\"\n",
    "function temporal_distance(v1::TimeNode, v2::TimeNode, beta::Real = 1.)\n",
    "    return beta* abs(node_timestamp(v1) - node_timestamp(v2))\n",
    "end\n",
    "function temporal_distance(v1::Tuple{Int,Int}, v2::Tuple{Int,Int}, beta::Real = 1.)\n",
    "    return beta * abs(v1[2] - v2[2])\n",
    "end\n",
    "\n"
   ]
  },
  {
   "cell_type": "code",
   "execution_count": 7,
   "metadata": {},
   "outputs": [
    {
     "data": {
      "text/plain": [
       "temporal_katz (generic function with 2 methods)"
      ]
     },
     "execution_count": 7,
     "metadata": {},
     "output_type": "execute_result"
    }
   ],
   "source": [
    "function temporal_katz(g::AbstractEvolvingGraph, start::TimeNode; alpha = 0.1, k = 5)\n",
    "    score = 0.\n",
    "    v = start\n",
    "    fronter = [v]\n",
    "    level = 0\n",
    "    while level < k\n",
    "        next = []\n",
    "        for u in fronter\n",
    "            for v in forward_neighbors(g, u)\n",
    "                push!(next, v)\n",
    "                td = temporal_distance(start, u)\n",
    "                d = td + level\n",
    "                score += alpha^d\n",
    "            end\n",
    "        end\n",
    "        fronter = next\n",
    "        level += 1\n",
    "    end\n",
    "    return score\n",
    "end\n",
    "\n",
    "function temporal_katz(g::IntAdjacencyList, start::Tuple{Int,Int}; alpha = 0.1, k = 5)\n",
    "    score = 0.\n",
    "    v = start\n",
    "    fronter = [v]\n",
    "    level = 0\n",
    "    while level < k\n",
    "        next = []\n",
    "        for u in fronter\n",
    "            for v in forward_neighbors(g, u)\n",
    "                push!(next, v)\n",
    "                td = temporal_distance(start, u)\n",
    "                d = td + level\n",
    "                score += alpha^d\n",
    "            end\n",
    "        end\n",
    "        fronter = next\n",
    "        level += 1\n",
    "    end\n",
    "    return score\n",
    "end\n",
    "\n",
    "# Can be done in parallel, focus on useful node at certain time stamp\n"
   ]
  },
  {
   "cell_type": "code",
   "execution_count": 9,
   "metadata": {},
   "outputs": [
    {
     "data": {
      "text/plain": [
       "7-element Array{EvolvingGraphs.TimeNode{String,Int64},1}:\n",
       " TimeNode(A, 1)\n",
       " TimeNode(B, 1)\n",
       " TimeNode(A, 2)\n",
       " TimeNode(C, 2)\n",
       " TimeNode(B, 2)\n",
       " TimeNode(B, 3)\n",
       " TimeNode(C, 3)"
      ]
     },
     "execution_count": 9,
     "metadata": {},
     "output_type": "execute_result"
    }
   ],
   "source": [
    "active_nodes(g)"
   ]
  },
  {
   "cell_type": "code",
   "execution_count": 8,
   "metadata": {},
   "outputs": [
    {
     "data": {
      "text/plain": [
       "Dict{Any,Any} with 7 entries:\n",
       "  TimeNode(A, 1) => 2.22435\n",
       "  TimeNode(A, 2) => 2.32421\n",
       "  TimeNode(B, 1) => 2.0111\n",
       "  TimeNode(B, 2) => 1.01\n",
       "  TimeNode(B, 3) => 1.0\n",
       "  TimeNode(C, 2) => 2.2324\n",
       "  TimeNode(C, 3) => 0.0"
      ]
     },
     "execution_count": 8,
     "metadata": {},
     "output_type": "execute_result"
    }
   ],
   "source": [
    "an = active_nodes(g)\n",
    "\n",
    "scores = Dict()\n",
    "for n in an\n",
    "    scores[n] = temporal_katz(g, n, alpha = 0.1, k = 5)\n",
    "end\n",
    "scores"
   ]
  },
  {
   "cell_type": "code",
   "execution_count": 21,
   "metadata": {},
   "outputs": [
    {
     "data": {
      "text/plain": [
       "DataStructures.DefaultDict{Any,Any,Float64} with 3 entries:\n",
       "  \"B\" => 4.11132\n",
       "  \"A\" => 4.2323\n",
       "  \"C\" => 2.33643"
      ]
     },
     "execution_count": 21,
     "metadata": {},
     "output_type": "execute_result"
    }
   ],
   "source": [
    "using DataStructures\n",
    "\n",
    "sum_scores = DefaultDict(0.) \n",
    "for (n, v) in scores\n",
    "    sum_scores[node_key(n)] += v\n",
    "end\n",
    "sum_scores "
   ]
  },
  {
   "cell_type": "code",
   "execution_count": 15,
   "metadata": {},
   "outputs": [
    {
     "data": {
      "text/plain": [
       "Dict{Any,Any} with 7 entries:\n",
       "  TimeNode(A, 2) => 3.2424\n",
       "  TimeNode(B, 3) => 0.0\n",
       "  TimeNode(B, 1) => 3.11132\n",
       "  TimeNode(C, 1) => 1.01324\n",
       "  TimeNode(A, 3) => 1.0\n",
       "  TimeNode(C, 2) => 1.32421\n",
       "  TimeNode(B, 2) => 1.0"
      ]
     },
     "execution_count": 15,
     "metadata": {},
     "output_type": "execute_result"
    }
   ],
   "source": [
    "an = active_nodes(g2)\n",
    "\n",
    "scores = Dict()\n",
    "for n in an\n",
    "    scores[n] = temporal_katz(g2, n, alpha = 0.1, k = 5)\n",
    "end\n",
    "scores"
   ]
  },
  {
   "cell_type": "code",
   "execution_count": 20,
   "metadata": {},
   "outputs": [
    {
     "data": {
      "text/plain": [
       "Dict{Any,Any} with 7 entries:\n",
       "  TimeNode(C, 2)   => 1.3232\n",
       "  TimeNode(B, 100) => 0.0\n",
       "  TimeNode(B, 1)   => 3.11132\n",
       "  TimeNode(C, 1)   => 1.01323\n",
       "  TimeNode(B, 2)   => 1.0\n",
       "  TimeNode(A, 100) => 1.0\n",
       "  TimeNode(A, 2)   => 3.2323"
      ]
     },
     "execution_count": 20,
     "metadata": {},
     "output_type": "execute_result"
    }
   ],
   "source": [
    "an = active_nodes(g3)\n",
    "\n",
    "scores = Dict()\n",
    "for n in an\n",
    "    scores[n] = temporal_katz(g3, n, alpha = 0.1, k = 5)\n",
    "end\n",
    "scores"
   ]
  },
  {
   "cell_type": "markdown",
   "metadata": {},
   "source": [
    "# Communicability Betweenness Centrality "
   ]
  },
  {
   "cell_type": "code",
   "execution_count": 13,
   "metadata": {},
   "outputs": [
    {
     "data": {
      "text/plain": [
       "temporal_communicability (generic function with 1 method)"
      ]
     },
     "execution_count": 13,
     "metadata": {},
     "output_type": "execute_result"
    }
   ],
   "source": [
    "\"\"\"\n",
    "Take account of all forward neighours.\n",
    "\"\"\"\n",
    "function temporal_katz_with_v_removed(g::EvolvingGraph, v; alpha = 0.1, k = 5)\n",
    "    score = 0.\n",
    "    fronter = [v]\n",
    "    level = 0\n",
    "    start = v\n",
    "    while level < k\n",
    "        next = []\n",
    "        for u in fronter\n",
    "            for v in forward_neighbors(g, u)\n",
    "                if v != start\n",
    "                    push!(next, v)\n",
    "                    d = temporal_distance(v, u)\n",
    "                    d += level\n",
    "                    score += alpha^d\n",
    "                end\n",
    "            end\n",
    "        end\n",
    "        fronter = next\n",
    "        level += 1\n",
    "    end\n",
    "    return score\n",
    "end\n",
    "\n",
    "\n",
    "\n",
    "function temporal_communicability(g::EvolvingGraph, v::TimeNode; alpha = 0.1, k = 5)\n",
    "    \n",
    "    score = temporal_katz(g, v, alpha = alpha, k = k)\n",
    "    score_with_v_removed = temporal_katz_with_v_removed(g, v, alpha = alpha, k = k)\n",
    "    \n",
    "    r = (score - score_with_v_removed)/ score\n",
    "    isnan(r)? 0 : r\n",
    "end"
   ]
  },
  {
   "cell_type": "code",
   "execution_count": 14,
   "metadata": {},
   "outputs": [
    {
     "data": {
      "text/plain": [
       "Dict{Any,Any} with 7 entries:\n",
       "  TimeNode(B, 3) => 0.0\n",
       "  TimeNode(A, 2) => 0.0564789\n",
       "  TimeNode(C, 3) => 0\n",
       "  TimeNode(A, 1) => 0.0\n",
       "  TimeNode(B, 2) => 0.0\n",
       "  TimeNode(B, 1) => 0.0\n",
       "  TimeNode(C, 2) => 0.0860369"
      ]
     },
     "execution_count": 14,
     "metadata": {},
     "output_type": "execute_result"
    }
   ],
   "source": [
    "an = active_nodes(g)\n",
    "\n",
    "scores = Dict()\n",
    "for n in an\n",
    "    scores[n] = temporal_communicability(g, n, alpha = 0.1, k = 100)\n",
    "end\n",
    "scores"
   ]
  },
  {
   "cell_type": "code",
   "execution_count": 12,
   "metadata": {},
   "outputs": [
    {
     "data": {
      "text/plain": [
       "NaN"
      ]
     },
     "execution_count": 12,
     "metadata": {},
     "output_type": "execute_result"
    }
   ],
   "source": [
    "0/0"
   ]
  },
  {
   "cell_type": "markdown",
   "metadata": {},
   "source": [
    "# Temporal Betweenness\n",
    "\n",
    "In constrast with Katz and Communicability (which are based on walks), the following centrality algorithms are based on shortest paths."
   ]
  },
  {
   "cell_type": "code",
   "execution_count": null,
   "metadata": {
    "collapsed": true
   },
   "outputs": [],
   "source": [
    "#TODO later"
   ]
  },
  {
   "cell_type": "markdown",
   "metadata": {},
   "source": [
    "# Temporal Closeness Centrality "
   ]
  },
  {
   "cell_type": "markdown",
   "metadata": {
    "collapsed": true
   },
   "source": [
    "Closeness centrality (or closeness) of a node is a measure of centrality in a network, calculated as the sum of the length of the shortest paths between the node and all other nodes in the graph."
   ]
  },
  {
   "cell_type": "code",
   "execution_count": 18,
   "metadata": {},
   "outputs": [
    {
     "data": {
      "text/plain": [
       "temporal_closeness (generic function with 1 method)"
      ]
     },
     "execution_count": 18,
     "metadata": {},
     "output_type": "execute_result"
    }
   ],
   "source": [
    "function temporal_closeness(g::Union{AbstractEvolvingGraph, IntAdjacencyList}, start::Union{TimeNode,Tuple{Int,Int}})\n",
    "    v = start\n",
    "    level = Dict(v => 0)\n",
    "    i = 1\n",
    "    fronter = [v]\n",
    "    while length(fronter) > 0\n",
    "        next = []\n",
    "        for u in fronter\n",
    "            for v in forward_neighbors(g, u)\n",
    "                if !(v in keys(level))\n",
    "                    td = temporal_distance(start, u)\n",
    "                    level[v] = i + td\n",
    "                    push!(next, v)\n",
    "                end\n",
    "            end\n",
    "        end\n",
    "        fronter = next\n",
    "        i += 1\n",
    "    end\n",
    "    \n",
    "    total_scores = sum(values(level))\n",
    "    return total_scores > 0. ? (length(level) - 1)/total_scores : 0.\n",
    "end"
   ]
  },
  {
   "cell_type": "code",
   "execution_count": 16,
   "metadata": {},
   "outputs": [
    {
     "data": {
      "text/plain": [
       "5-element Array{EvolvingGraphs.WeightedTimeEdge{EvolvingGraphs.Node{String},Int64,Float64},1}:\n",
       " Node(A)-1.0->Node(B) at time 1\n",
       " Node(A)-1.0->Node(C) at time 2\n",
       " Node(A)-1.0->Node(B) at time 2\n",
       " Node(C)-1.0->Node(A) at time 2\n",
       " Node(B)-1.0->Node(C) at time 3"
      ]
     },
     "execution_count": 16,
     "metadata": {},
     "output_type": "execute_result"
    }
   ],
   "source": [
    "edges(g)"
   ]
  },
  {
   "cell_type": "code",
   "execution_count": 19,
   "metadata": {},
   "outputs": [
    {
     "data": {
      "text/plain": [
       "Dict{Any,Any} with 7 entries:\n",
       "  TimeNode(A, 1) => 0.344828\n",
       "  TimeNode(A, 2) => 0.625\n",
       "  TimeNode(C, 2) => 0.416667\n",
       "  TimeNode(C, 3) => 0.0\n",
       "  TimeNode(B, 1) => 0.5\n",
       "  TimeNode(B, 2) => 0.5\n",
       "  TimeNode(B, 3) => 1.0"
      ]
     },
     "execution_count": 19,
     "metadata": {},
     "output_type": "execute_result"
    }
   ],
   "source": [
    "an = active_nodes(g)\n",
    "\n",
    "scores = Dict()\n",
    "for n in an\n",
    "    scores[n] = temporal_closeness(g, n)\n",
    "end\n",
    "scores"
   ]
  },
  {
   "cell_type": "markdown",
   "metadata": {
    "collapsed": true
   },
   "source": [
    "# Temporal PageRank\n",
    "\n",
    "Random walk interpretation can not travel back in time.\n",
    "\n",
    "* Block matrix version (use reverse pagerank): useful for evolving graph with a small number of timestamps\n",
    "\n",
    "* Probability based (time-stamps based rating): Random walk interpretation. Not fixed probability for all nodes but different probability for each individual node. "
   ]
  },
  {
   "cell_type": "code",
   "execution_count": 48,
   "metadata": {},
   "outputs": [
    {
     "data": {
      "text/plain": [
       "google_matrix (generic function with 1 method)"
      ]
     },
     "execution_count": 48,
     "metadata": {},
     "output_type": "execute_result"
    }
   ],
   "source": [
    "function block_google_matrix(g::IntAdjacencyList; alpha = 0.85, balance = 0.75)\n",
    "    A = full(block_adjacency_matrix(g))\n",
    "    AT = A.T\n",
    "    N, N = size(A)\n",
    "    p = ones(N)/N\n",
    "    dangling_weights = p\n",
    "    dangling_nodes = find(x->x==0, sum(A,2))\n",
    "    for node in dangling_nodes\n",
    "        A[node,:] = dangling_weights\n",
    "    end\n",
    "    A ./= sum(A,2)\n",
    "    return alpha * A .+ (1- alpha) * p\n",
    "end\n",
    "\n",
    "function google_matrix(g::AbstractEvolvingGraph)\n",
    "    \n",
    "end"
   ]
  },
  {
   "cell_type": "code",
   "execution_count": 49,
   "metadata": {},
   "outputs": [
    {
     "data": {
      "text/plain": [
       "Directed IntAdjacencyList (4 nodes, 3 static edges, 3 timestamps)"
      ]
     },
     "execution_count": 49,
     "metadata": {},
     "output_type": "execute_result"
    }
   ],
   "source": [
    "g = IntAdjacencyList(4,3)\n",
    "add_edge!(g, 1, 2, 1)\n",
    "add_edge!(g, 2, 3, 1)\n",
    "add_edge!(g, 1, 4, 2)"
   ]
  },
  {
   "cell_type": "code",
   "execution_count": 57,
   "metadata": {},
   "outputs": [
    {
     "data": {
      "text/plain": [
       "12×1 Array{Float64,2}:\n",
       " 1.0\n",
       " 1.0\n",
       " 1.0\n",
       " 1.0\n",
       " 1.0\n",
       " 1.0\n",
       " 1.0\n",
       " 1.0\n",
       " 1.0\n",
       " 1.0\n",
       " 1.0\n",
       " 1.0"
      ]
     },
     "execution_count": 57,
     "metadata": {},
     "output_type": "execute_result"
    }
   ],
   "source": [
    "A = google_matrix_block(g)\n",
    "sum(A, 2)"
   ]
  },
  {
   "cell_type": "code",
   "execution_count": 60,
   "metadata": {},
   "outputs": [
    {
     "data": {
      "text/plain": [
       "temporal_pagerank (generic function with 1 method)"
      ]
     },
     "execution_count": 60,
     "metadata": {},
     "output_type": "execute_result"
    }
   ],
   "source": [
    "function temporal_pagerank(g::AbstractEvolvingGraph)\n",
    "    A = block_google_matrix(g)\n",
    "    F = eigfact(A')\n",
    "    println(\"F values $(F[:values])\")\n",
    "    return F[:vectors][:,4]\n",
    "end"
   ]
  },
  {
   "cell_type": "code",
   "execution_count": 61,
   "metadata": {},
   "outputs": [
    {
     "name": "stdout",
     "output_type": "stream",
     "text": [
      "F values Complex{Float64}[-0.10625+0.221177im, -0.10625-0.221177im, -6.49827e-16+0.0im, 1.0+0.0im, -1.46263e-17+7.29755e-10im, -1.46263e-17-7.29755e-10im, 3.35485e-18+0.0im, 1.38933e-17+0.0im, 0.0+0.0im, 4.53455e-33+0.0im, 0.0+0.0im, 0.0+0.0im]\n"
     ]
    },
    {
     "data": {
      "text/plain": [
       "12-element Array{Complex{Float64},1}:\n",
       " 0.213978+0.0im\n",
       " 0.304918+0.0im\n",
       " 0.473158+0.0im\n",
       " 0.213978+0.0im\n",
       " 0.304918+0.0im\n",
       " 0.213978+0.0im\n",
       " 0.213978+0.0im\n",
       " 0.473158+0.0im\n",
       " 0.213978+0.0im\n",
       " 0.213978+0.0im\n",
       " 0.213978+0.0im\n",
       " 0.213978+0.0im"
      ]
     },
     "execution_count": 61,
     "metadata": {},
     "output_type": "execute_result"
    }
   ],
   "source": [
    "temporal_pagerank(g)"
   ]
  },
  {
   "cell_type": "markdown",
   "metadata": {},
   "source": [
    "# JMLR and Random Evolving Graph Data\n",
    "\n",
    "Start with the original definition and compare the change of ranking of top authors if we vary"
   ]
  },
  {
   "cell_type": "code",
   "execution_count": 17,
   "metadata": {},
   "outputs": [
    {
     "data": {
      "text/plain": [
       "Directed EvolvingGraph 100 nodes, 9771 static edges, 5 timestamps"
      ]
     },
     "execution_count": 17,
     "metadata": {},
     "output_type": "execute_result"
    }
   ],
   "source": [
    "g = EvolvingGraph()\n",
    "g = random_evolving_graph(g, 100, 5, 0.2)"
   ]
  },
  {
   "cell_type": "code",
   "execution_count": 18,
   "metadata": {},
   "outputs": [
    {
     "data": {
      "text/plain": [
       "20-element Array{Tuple{EvolvingGraphs.Node{Int64},Float64},1}:\n",
       " (Node(32), 0.320363) \n",
       " (Node(58), 0.244402) \n",
       " (Node(100), 0.235876)\n",
       " (Node(2), 0.199925)  \n",
       " (Node(74), 0.198615) \n",
       " (Node(83), 0.162692) \n",
       " (Node(26), 0.152276) \n",
       " (Node(97), 0.138456) \n",
       " (Node(68), 0.137589) \n",
       " (Node(18), 0.126655) \n",
       " (Node(7), 0.120336)  \n",
       " (Node(57), 0.108358) \n",
       " (Node(10), 0.103718) \n",
       " (Node(44), 0.099909) \n",
       " (Node(45), 0.08922)  \n",
       " (Node(87), 0.0857851)\n",
       " (Node(33), 0.0857679)\n",
       " (Node(88), 0.0825459)\n",
       " (Node(11), 0.0791009)\n",
       " (Node(65), 0.0738873)"
      ]
     },
     "execution_count": 18,
     "metadata": {},
     "output_type": "execute_result"
    }
   ],
   "source": [
    "r = katz(g)\n",
    "sorted_top = sort(r, by = x -> x[2], rev = true)[1:20]"
   ]
  },
  {
   "cell_type": "code",
   "execution_count": 19,
   "metadata": {
    "collapsed": true
   },
   "outputs": [],
   "source": [
    "sorted_top_keys = map(x -> node_key(x[1]), sorted_top);"
   ]
  },
  {
   "cell_type": "code",
   "execution_count": 20,
   "metadata": {},
   "outputs": [
    {
     "data": {
      "text/plain": [
       "Directed IntAdjacencyList (100 nodes, 9771 static edges, 5 timestamps)"
      ]
     },
     "execution_count": 20,
     "metadata": {},
     "output_type": "execute_result"
    }
   ],
   "source": [
    "intg = evolving_graph_to_adj(g)"
   ]
  },
  {
   "cell_type": "code",
   "execution_count": 23,
   "metadata": {},
   "outputs": [
    {
     "name": "stdout",
     "output_type": "stream",
     "text": [
      "(33, 1)\n",
      "(83, 1)\n",
      "(87, 1)\n",
      "(100, 1)\n",
      "(2, 1)\n",
      "(11, 1)\n",
      "(26, 1)\n",
      "(58, 1)\n",
      "(74, 1)\n",
      "(18, 1)\n",
      "(65, 1)\n",
      "(10, 1)\n",
      "(32, 1)\n",
      "(68, 1)\n",
      "(44, 1)\n",
      "(45, 1)\n",
      "(7, 1)\n",
      "(88, 1)\n",
      "(97, 1)\n",
      "(57, 1)\n",
      "(2, 2)\n",
      "(26, 2)\n",
      "(32, 2)\n",
      "(33, 2)\n",
      "(45, 2)\n",
      "(68, 2)\n",
      "(87, 2)\n",
      "(7, 2)\n",
      "(10, 2)\n",
      "(18, 2)\n",
      "(74, 2)\n",
      "(11, 2)\n",
      "(58, 2)\n",
      "(100, 2)\n",
      "(57, 2)\n",
      "(65, 2)\n",
      "(83, 2)\n",
      "(44, 2)\n",
      "(88, 2)\n",
      "(97, 2)\n",
      "(10, 3)\n",
      "(100, 3)\n",
      "(2, 3)\n",
      "(32, 3)\n",
      "(44, 3)\n",
      "(7, 3)\n",
      "(18, 3)\n",
      "(74, 3)\n",
      "(26, 3)\n",
      "(45, 3)\n",
      "(97, 3)\n",
      "(33, 3)\n",
      "(83, 3)\n",
      "(88, 3)\n",
      "(87, 3)\n",
      "(57, 3)\n",
      "(58, 3)\n",
      "(11, 3)\n",
      "(65, 3)\n",
      "(68, 3)\n",
      "(2, 4)\n",
      "(11, 4)\n",
      "(32, 4)\n",
      "(65, 4)\n",
      "(74, 4)\n",
      "(87, 4)\n",
      "(97, 4)\n",
      "(10, 4)\n",
      "(45, 4)\n",
      "(57, 4)\n",
      "(18, 4)\n",
      "(83, 4)\n",
      "(88, 4)\n",
      "(7, 4)\n",
      "(26, 4)\n",
      "(100, 4)\n",
      "(44, 4)\n",
      "(33, 4)\n",
      "(58, 4)\n",
      "(68, 4)\n",
      "(7, 5)\n",
      "(26, 5)\n",
      "(83, 5)\n",
      "(2, 5)\n",
      "(33, 5)\n",
      "(45, 5)\n",
      "(74, 5)\n",
      "(44, 5)\n",
      "(58, 5)\n",
      "(100, 5)\n",
      "(65, 5)\n",
      "(87, 5)\n",
      "(97, 5)\n",
      "(57, 5)\n",
      "(68, 5)\n",
      "(88, 5)\n",
      "(18, 5)\n",
      "(10, 5)\n",
      "(11, 5)\n",
      "(32, 5)\n"
     ]
    },
    {
     "data": {
      "text/plain": [
       "100-element Array{Any,1}:\n",
       " (TimeNode(33, 1), 533.44)  \n",
       " (TimeNode(83, 1), 455.689) \n",
       " (TimeNode(87, 1), 499.32)  \n",
       " (TimeNode(100, 1), 662.418)\n",
       " (TimeNode(2, 1), 981.951)  \n",
       " (TimeNode(11, 1), 756.512) \n",
       " (TimeNode(26, 1), 441.032) \n",
       " (TimeNode(58, 1), 738.887) \n",
       " (TimeNode(74, 1), 519.039) \n",
       " (TimeNode(18, 1), 708.973) \n",
       " (TimeNode(65, 1), 469.141) \n",
       " (TimeNode(10, 1), 738.041) \n",
       " (TimeNode(32, 1), 687.148) \n",
       " ⋮                          \n",
       " (TimeNode(58, 5), 638.927) \n",
       " (TimeNode(100, 5), 337.539)\n",
       " (TimeNode(65, 5), 669.189) \n",
       " (TimeNode(87, 5), 647.304) \n",
       " (TimeNode(97, 5), 590.473) \n",
       " (TimeNode(57, 5), 877.297) \n",
       " (TimeNode(68, 5), 853.998) \n",
       " (TimeNode(88, 5), 751.361) \n",
       " (TimeNode(18, 5), 502.457) \n",
       " (TimeNode(10, 5), 424.658) \n",
       " (TimeNode(11, 5), 699.687) \n",
       " (TimeNode(32, 5), 706.903) "
      ]
     },
     "execution_count": 23,
     "metadata": {},
     "output_type": "execute_result"
    }
   ],
   "source": [
    "scores = []\n",
    "for n in active_nodes(g)\n",
    "    if node_key(n) in sorted_top_keys\n",
    "        intn = (node_key(n),node_timestamp(n))\n",
    "        println(intn)\n",
    "        tr = temporal_katz(intg, intn, alpha = 0.1, k = 5)\n",
    "        push!(scores, (n, tr))\n",
    "    end\n",
    "end\n",
    "scores"
   ]
  },
  {
   "cell_type": "code",
   "execution_count": 25,
   "metadata": {
    "collapsed": true
   },
   "outputs": [],
   "source": [
    "using DataStructures\n",
    "\n",
    "sum_scores = DefaultDict(0.) \n",
    "for (n, v) in scores\n",
    "    sum_scores[node_key(n)] += v\n",
    "end\n",
    "sum_scores;"
   ]
  },
  {
   "cell_type": "code",
   "execution_count": 31,
   "metadata": {},
   "outputs": [
    {
     "name": "stdout",
     "output_type": "stream",
     "text": [
      "node TimeNode(11, 1)\n",
      "value 1224.834899819936\n",
      "node TimeNode(17, 1)\n",
      "value 1163.8518998292761\n",
      "node TimeNode(45, 1)\n",
      "value 1293.5838998093886\n",
      "node TimeNode(52, 1)\n",
      "value 906.0639998690834\n",
      "node TimeNode(25, 1)\n",
      "value 778.2052998885803\n",
      "node TimeNode(34, 1)\n",
      "value 1238.168899817753\n",
      "node TimeNode(36, 1)\n",
      "value 1539.8606997719116\n",
      "node TimeNode(54, 1)\n",
      "value 1144.227099832334\n",
      "node TimeNode(55, 1)\n",
      "value 1169.1183998284694\n",
      "node TimeNode(43, 1)\n",
      "value 1099.1326998390223\n",
      "node TimeNode(80, 1)\n",
      "value 1363.896299798577\n",
      "node TimeNode(23, 1)\n",
      "value 1047.9910998470273\n",
      "node TimeNode(6, 1)\n",
      "value 1296.9582998088517\n",
      "node TimeNode(37, 1)\n",
      "value 1228.5242998193146\n",
      "node TimeNode(46, 1)\n",
      "value 910.8328998682736\n",
      "node TimeNode(60, 1)\n",
      "value 1141.6199998327547\n",
      "node TimeNode(89, 1)\n",
      "value 1341.6504998016464\n",
      "node TimeNode(33, 1)\n",
      "value 922.5920998664808\n",
      "node TimeNode(73, 1)\n",
      "value 900.4506998700047\n",
      "node TimeNode(94, 1)\n",
      "value 1128.5436998347964\n",
      "node TimeNode(11, 2)\n",
      "value 746.1284998952133\n",
      "node TimeNode(17, 2)\n",
      "value 910.4348998706787\n",
      "node TimeNode(25, 2)\n",
      "value 967.3979998618654\n",
      "node TimeNode(33, 2)\n",
      "value 712.4679999003184\n",
      "node TimeNode(73, 2)\n",
      "value 1019.4938998539851\n",
      "node TimeNode(94, 2)\n",
      "value 924.7697998685555\n",
      "node TimeNode(36, 2)\n",
      "value 767.4340998922714\n",
      "node TimeNode(52, 2)\n",
      "value 1071.813899846232\n",
      "node TimeNode(43, 2)\n",
      "value 1230.625199822104\n",
      "node TimeNode(45, 2)\n",
      "value 937.2700998664602\n",
      "node TimeNode(46, 2)\n",
      "value 1116.2263998394246\n",
      "node TimeNode(60, 2)\n",
      "value 1032.5698998520945\n",
      "node TimeNode(80, 2)\n",
      "value 1195.693199827593\n",
      "node TimeNode(55, 2)\n",
      "value 1036.356499851755\n",
      "node TimeNode(6, 2)\n",
      "value 739.1854998963444\n",
      "node TimeNode(23, 2)\n",
      "value 831.8671998823056\n",
      "node TimeNode(89, 2)\n",
      "value 833.4751998820449\n",
      "node TimeNode(34, 2)\n",
      "value 814.6141998849698\n",
      "node TimeNode(37, 2)\n",
      "value 887.2989998739566\n",
      "node TimeNode(54, 2)\n",
      "value 753.0668998946486\n",
      "node TimeNode(17, 3)\n",
      "value 587.0330999199934\n",
      "node TimeNode(25, 3)\n",
      "value 800.5772998879302\n",
      "node TimeNode(34, 3)\n",
      "value 904.5731998723054\n",
      "node TimeNode(11, 3)\n",
      "value 969.3810998626735\n",
      "node TimeNode(23, 3)\n",
      "value 753.8714998949926\n",
      "node TimeNode(52, 3)\n",
      "value 675.6824999067645\n",
      "node TimeNode(80, 3)\n",
      "value 852.8720998802286\n",
      "node TimeNode(33, 3)\n",
      "value 821.3542998848397\n",
      "node TimeNode(37, 3)\n",
      "value 880.4623998757287\n",
      "node TimeNode(54, 3)\n",
      "value 891.796199874199\n",
      "node TimeNode(55, 3)\n",
      "value 1011.1905998564351\n",
      "node TimeNode(60, 3)\n",
      "value 933.1858998679498\n",
      "node TimeNode(6, 3)\n",
      "value 764.9990998931712\n",
      "node TimeNode(45, 3)\n",
      "value 1049.8261998504922\n",
      "node TimeNode(89, 3)\n",
      "value 1060.908199848935\n",
      "node TimeNode(36, 3)\n",
      "value 1001.2650998579329\n",
      "node TimeNode(43, 3)\n",
      "value 1052.2808998499631\n",
      "node TimeNode(73, 3)\n",
      "value 775.2179998918085\n",
      "node TimeNode(46, 3)\n",
      "value 1025.6048998542067\n",
      "node TimeNode(94, 3)\n",
      "value 692.4524999042806\n",
      "node TimeNode(6, 4)\n",
      "value 563.00539992599\n",
      "node TimeNode(11, 4)\n",
      "value 715.3851999036387\n",
      "node TimeNode(60, 4)\n",
      "value 516.8642999355475\n",
      "node TimeNode(94, 4)\n",
      "value 791.037299892969\n",
      "node TimeNode(34, 4)\n",
      "value 642.601199914426\n",
      "node TimeNode(54, 4)\n",
      "value 578.0396999236216\n",
      "node TimeNode(73, 4)\n",
      "value 826.6788998875377\n",
      "node TimeNode(80, 4)\n",
      "value 944.1748998707252\n",
      "node TimeNode(45, 4)\n",
      "value 755.1683998980777\n",
      "node TimeNode(89, 4)\n",
      "value 552.9295999274925\n",
      "node TimeNode(46, 4)\n",
      "value 592.3429999218562\n",
      "node TimeNode(52, 4)\n",
      "value 653.0341999130666\n",
      "node TimeNode(36, 4)\n",
      "value 550.282299927581\n",
      "node TimeNode(23, 4)\n",
      "value 539.2032999295975\n",
      "node TimeNode(25, 4)\n",
      "value 745.1648998996467\n",
      "node TimeNode(43, 4)\n",
      "value 737.9074999006164\n",
      "node TimeNode(37, 4)\n",
      "value 473.7913999469902\n",
      "node TimeNode(33, 4)\n",
      "value 601.5531999201879\n",
      "node TimeNode(55, 4)\n",
      "value 679.619499909027\n",
      "node TimeNode(17, 4)\n",
      "value 881.2423998795907\n",
      "node TimeNode(34, 5)\n",
      "value 569.4614999285731\n",
      "node TimeNode(46, 5)\n",
      "value 759.957099902363\n",
      "node TimeNode(52, 5)\n",
      "value 603.0337999243852\n",
      "node TimeNode(54, 5)\n",
      "value 523.032399935247\n",
      "node TimeNode(6, 5)\n",
      "value 409.99279996353044\n",
      "node TimeNode(11, 5)\n",
      "value 364.39729997570106\n",
      "node TimeNode(23, 5)\n",
      "value 602.9948999239652\n",
      "node TimeNode(33, 5)\n",
      "value 461.8413999497453\n",
      "node TimeNode(36, 5)\n",
      "value 535.9237999332315\n",
      "node TimeNode(45, 5)\n",
      "value 521.4511999353718\n",
      "node TimeNode(55, 5)\n",
      "value 701.1377999104477\n",
      "node TimeNode(80, 5)\n",
      "value 709.0189999095835\n",
      "node TimeNode(43, 5)\n",
      "value 504.20209993843946\n",
      "node TimeNode(37, 5)\n",
      "value 374.0394999730986\n",
      "node TimeNode(94, 5)\n",
      "value 604.2012999240159\n",
      "node TimeNode(89, 5)\n",
      "value 317.0457999882799\n",
      "node TimeNode(60, 5)\n",
      "value 461.5377999497852\n",
      "node TimeNode(73, 5)\n",
      "value 602.7829999241421\n",
      "node TimeNode(25, 5)\n",
      "value 424.00659995980743\n",
      "node TimeNode(17, 5)\n",
      "value 592.9351999254827\n"
     ]
    },
    {
     "data": {
      "text/plain": [
       "DataStructures.DefaultDict{Any,Any,Array{Float64,1}} with 0 entries"
      ]
     },
     "execution_count": 31,
     "metadata": {},
     "output_type": "execute_result"
    }
   ],
   "source": [
    "accu_scores = DefaultDict([0.]) \n",
    "for (n, v) in scores\n",
    "#     println(\"node $n\")\n",
    "#     println(\"value $v\")\n",
    "    push!(accu_scores[node_key(n)], v)\n",
    "#     push!(accu_scores[node_key(n)], accu_scores[node_key(n)][end] + v)\n",
    "end\n",
    "accu_scores"
   ]
  },
  {
   "cell_type": "code",
   "execution_count": 30,
   "metadata": {},
   "outputs": [
    {
     "name": "stderr",
     "output_type": "stream",
     "text": [
      "\u001b[1m\u001b[36mINFO: \u001b[39m\u001b[22m\u001b[36mPrecompiling module Plots.\n",
      "\u001b[39m"
     ]
    }
   ],
   "source": [
    "using Plots"
   ]
  },
  {
   "cell_type": "code",
   "execution_count": 26,
   "metadata": {
    "collapsed": true
   },
   "outputs": [],
   "source": [
    "r2 = collect(sum_scores);"
   ]
  },
  {
   "cell_type": "code",
   "execution_count": 27,
   "metadata": {},
   "outputs": [
    {
     "data": {
      "text/plain": [
       "20-element Array{Pair{Any,Any},1}:\n",
       " Pair{Any,Any}(2, 3596.32)  \n",
       " Pair{Any,Any}(58, 3370.67) \n",
       " Pair{Any,Any}(7, 3226.47)  \n",
       " Pair{Any,Any}(11, 3048.78) \n",
       " Pair{Any,Any}(88, 3047.22) \n",
       " Pair{Any,Any}(18, 2958.37) \n",
       " Pair{Any,Any}(57, 2957.42) \n",
       " Pair{Any,Any}(65, 2942.76) \n",
       " Pair{Any,Any}(32, 2939.11) \n",
       " Pair{Any,Any}(97, 2930.67) \n",
       " Pair{Any,Any}(33, 2926.23) \n",
       " Pair{Any,Any}(45, 2879.59) \n",
       " Pair{Any,Any}(87, 2832.12) \n",
       " Pair{Any,Any}(10, 2771.23) \n",
       " Pair{Any,Any}(100, 2756.39)\n",
       " Pair{Any,Any}(68, 2746.95) \n",
       " Pair{Any,Any}(44, 2738.5)  \n",
       " Pair{Any,Any}(83, 2672.8)  \n",
       " Pair{Any,Any}(74, 2669.7)  \n",
       " Pair{Any,Any}(26, 2452.59) "
      ]
     },
     "execution_count": 27,
     "metadata": {},
     "output_type": "execute_result"
    }
   ],
   "source": [
    "sorted_r2 = sort(r2, by = x -> x[2], rev = true)"
   ]
  },
  {
   "cell_type": "code",
   "execution_count": 28,
   "metadata": {},
   "outputs": [
    {
     "data": {
      "text/plain": [
       "20-element Array{Tuple{EvolvingGraphs.Node{Int64},Float64},1}:\n",
       " (Node(32), 0.320363) \n",
       " (Node(58), 0.244402) \n",
       " (Node(100), 0.235876)\n",
       " (Node(2), 0.199925)  \n",
       " (Node(74), 0.198615) \n",
       " (Node(83), 0.162692) \n",
       " (Node(26), 0.152276) \n",
       " (Node(97), 0.138456) \n",
       " (Node(68), 0.137589) \n",
       " (Node(18), 0.126655) \n",
       " (Node(7), 0.120336)  \n",
       " (Node(57), 0.108358) \n",
       " (Node(10), 0.103718) \n",
       " (Node(44), 0.099909) \n",
       " (Node(45), 0.08922)  \n",
       " (Node(87), 0.0857851)\n",
       " (Node(33), 0.0857679)\n",
       " (Node(88), 0.0825459)\n",
       " (Node(11), 0.0791009)\n",
       " (Node(65), 0.0738873)"
      ]
     },
     "execution_count": 28,
     "metadata": {},
     "output_type": "execute_result"
    }
   ],
   "source": [
    "sorted_top"
   ]
  },
  {
   "cell_type": "code",
   "execution_count": 20,
   "metadata": {},
   "outputs": [
    {
     "data": {
      "text/plain": [
       "Directed EvolvingGraph 3354 nodes, 15654 static edges, 17 timestamps"
      ]
     },
     "execution_count": 20,
     "metadata": {},
     "output_type": "execute_result"
    }
   ],
   "source": [
    "using EvolvingGraphs\n",
    "using EvolvingGraphs.Centrality\n",
    "import EzXML\n",
    "\n",
    "\n",
    "# load graph data at each year\n",
    "# form evolving graph\n",
    "g = EvolvingGraph{Node{String}, Int}()\n",
    "\n",
    "for year in range(2001, 17)\n",
    "    sg = load_graphml(\"jmlr_$(year).graphml\")\n",
    "    add_graph!(g, sg, year)\n",
    "end\n",
    "g"
   ]
  },
  {
   "cell_type": "code",
   "execution_count": 6,
   "metadata": {},
   "outputs": [
    {
     "name": "stdout",
     "output_type": "stream",
     "text": [
      "Top 10 rating authors\n",
      "Tuple{EvolvingGraphs.Node{String},Float64}[(Node(Manuel Gomez-Rodriguez), 1.0), (Node(Henry Adams), 0.984369), (Node(Joseph Bradley), 0.972919), (Node(Le Song), 0.959548), (Node(Wei-Sheng Chin), 0.937996), (Node(Zoubin Ghahramani), 0.891851), (Node(Lori Ziegelmeier), 0.885932), (Node(Francis Motta), 0.885932), (Node(Eric Hanson), 0.885932), (Node(Tegan Emerson), 0.885932)]\n",
      "Button 10 rating authors\n",
      "Tuple{EvolvingGraphs.Node{String},Float64}[(Node(Sa, Virginia R. de), 2.49324e-5), (Node(Chapados, Nicolas), 2.49324e-5), (Node(Forman, George), 2.49324e-5), (Node(Pla, Ferran), 2.49299e-5), (Node(Gavinsky, Dmitry), 2.49299e-5), (Node(Zhang, Huajie), 2.49299e-5), (Node(Wrobel, Stefan), 2.49299e-5), (Node(Vempala, Santosh), 2.49299e-5), (Node(Veloso, Manuela), 2.49299e-5), (Node(Struyf, Jan), 2.49299e-5), (Node(Barto, Andrew G.), 2.49299e-5)]\n"
     ]
    }
   ],
   "source": [
    "rating = katz(g, 0.1, 0.01; mode = :receive)\n",
    "\n",
    "\n",
    "sorted_authors = sort(rating, by = x -> x[2], rev = true)\n",
    "\n",
    "println(\"Top 10 rating authors\")\n",
    "println(sorted_authors[1:10])\n",
    "\n",
    "println(\"Button 10 rating authors\")\n",
    "println(sorted_authors[end-10:end])"
   ]
  },
  {
   "cell_type": "code",
   "execution_count": 37,
   "metadata": {},
   "outputs": [
    {
     "name": "stdout",
     "output_type": "stream",
     "text": [
      "start node TimeNode(Manevitz, Larry M., 2001)\n",
      "at level 0, with 1 nodes\n",
      "at level 1, with 2 nodes\n",
      "at level 2, with 3 nodes\n",
      "at level 3, with 5 nodes\n",
      "at level 4, with 8 nodes\n",
      "start node TimeNode(Yousef, Malik, 2001)\n",
      "at level 0, with 1 nodes\n",
      "at level 1, with 1 nodes\n",
      "at level 2, with 2 nodes\n",
      "at level 3, with 3 nodes\n",
      "at level 4, with 5 nodes\n",
      "start node TimeNode(Gates, Kevin E., 2001)\n",
      "at level 0, with 1 nodes\n",
      "at level 1, with 2 nodes\n",
      "at level 2, with 6 nodes\n",
      "at level 3, with 19 nodes\n",
      "at level 4, with 62 nodes\n",
      "start node TimeNode(Masters, Annette, 2001)\n",
      "at level 0, with 1 nodes\n",
      "at level 1, with 2 nodes\n",
      "at level 2, with 6 nodes\n",
      "at level 3, with 19 nodes\n",
      "at level 4, with 62 nodes\n",
      "start node TimeNode(Downs, Tom, 2001)\n",
      "at level 0, with 1 nodes\n",
      "at level 1, with 4 nodes\n",
      "at level 2, with 13 nodes\n",
      "at level 3, with 43 nodes\n",
      "at level 4, with 145 nodes\n",
      "start node TimeNode(Vapnik, Vladimir, 2001)\n",
      "at level 0, with 1 nodes\n",
      "at level 1, with 3 nodes\n",
      "at level 2, with 11 nodes\n",
      "at level 3, with 40 nodes\n",
      "at level 4, with 144 nodes\n",
      "start node TimeNode(Siegelmann, Hava T., 2001)\n",
      "at level 0, with 1 nodes\n",
      "at level 1, with 3 nodes\n",
      "at level 2, with 11 nodes\n",
      "at level 3, with 40 nodes\n",
      "at level 4, with 144 nodes\n",
      "start node TimeNode(Ben-Hur, Asa, 2001)\n",
      "at level 0, with 1 nodes\n",
      "at level 1, with 5 nodes\n",
      "at level 2, with 18 nodes\n",
      "at level 3, with 64 nodes\n",
      "at level 4, with 227 nodes\n",
      "start node TimeNode(Horn, David, 2001)\n",
      "at level 0, with 1 nodes\n",
      "at level 1, with 3 nodes\n",
      "at level 2, with 11 nodes\n",
      "at level 3, with 40 nodes\n",
      "at level 4, with 144 nodes\n",
      "start node TimeNode(Singer, Yoram, 2001)\n",
      "at level 0, with 1 nodes\n",
      "at level 1, with 8 nodes\n",
      "at level 2, with 41 nodes\n",
      "at level 3, with 197 nodes\n",
      "at level 4, with 1001 nodes\n",
      "start node TimeNode(Crammer, Koby, 2001)\n",
      "at level 0, with 1 nodes\n",
      "at level 1, with 6 nodes\n",
      "at level 2, with 37 nodes\n",
      "at level 3, with 197 nodes\n",
      "at level 4, with 990 nodes\n"
     ]
    },
    {
     "data": {
      "text/plain": [
       "Dict{Any,Any} with 11 entries:\n",
       "  TimeNode(Manevitz, Larry M., 2001)  => 2.3593\n",
       "  TimeNode(Singer, Yoram, 2001)       => 4.86033\n",
       "  TimeNode(Downs, Tom, 2001)          => 5.9246\n",
       "  TimeNode(Vapnik, Vladimir, 2001)    => 4.6955\n",
       "  TimeNode(Crammer, Koby, 2001)       => 6.33534\n",
       "  TimeNode(Horn, David, 2001)         => 4.6955\n",
       "  TimeNode(Masters, Annette, 2001)    => 2.8727\n",
       "  TimeNode(Ben-Hur, Asa, 2001)        => 7.7474\n",
       "  TimeNode(Yousef, Malik, 2001)       => 1.2358\n",
       "  TimeNode(Gates, Kevin E., 2001)     => 2.8727\n",
       "  TimeNode(Siegelmann, Hava T., 2001) => 4.6955"
      ]
     },
     "execution_count": 37,
     "metadata": {},
     "output_type": "execute_result"
    }
   ],
   "source": [
    "an = active_nodes(g)[1:11]\n",
    "\n",
    "scores = Dict()\n",
    "for n in an\n",
    "    scores[n] = temporal_katz(g, n, alpha = 0.1, k = 5)\n",
    "end\n",
    "scores"
   ]
  },
  {
   "cell_type": "code",
   "execution_count": null,
   "metadata": {
    "collapsed": true
   },
   "outputs": [],
   "source": []
  }
 ],
 "metadata": {
  "kernelspec": {
   "display_name": "Julia 0.6.2",
   "language": "julia",
   "name": "julia-0.6"
  },
  "language_info": {
   "file_extension": ".jl",
   "mimetype": "application/julia",
   "name": "julia",
   "version": "0.6.2"
  }
 },
 "nbformat": 4,
 "nbformat_minor": 2
}
