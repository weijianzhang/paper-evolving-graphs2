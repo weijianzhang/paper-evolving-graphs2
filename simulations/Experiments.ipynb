{
 "cells": [
  {
   "cell_type": "code",
   "execution_count": 1,
   "metadata": {
    "collapsed": true
   },
   "outputs": [],
   "source": [
    "using EvolvingGraphs\n",
    "using EvolvingGraphs.Centrality"
   ]
  },
  {
   "cell_type": "code",
   "execution_count": 56,
   "metadata": {
    "collapsed": true
   },
   "outputs": [],
   "source": [
    "workspace()"
   ]
  },
  {
   "cell_type": "markdown",
   "metadata": {},
   "source": [
    "# Katz Motivation exmple "
   ]
  },
  {
   "cell_type": "markdown",
   "metadata": {},
   "source": [
    "We "
   ]
  },
  {
   "cell_type": "code",
   "execution_count": 58,
   "metadata": {},
   "outputs": [
    {
     "data": {
      "text/plain": [
       "Directed EvolvingGraph 0 nodes, 0 static edges, 0 timestamps"
      ]
     },
     "execution_count": 58,
     "metadata": {},
     "output_type": "execute_result"
    }
   ],
   "source": [
    "g = EvolvingGraph{Node{String}, Int}()"
   ]
  },
  {
   "cell_type": "code",
   "execution_count": 59,
   "metadata": {},
   "outputs": [
    {
     "data": {
      "text/plain": [
       "Directed EvolvingGraph 3 nodes, 5 static edges, 3 timestamps"
      ]
     },
     "execution_count": 59,
     "metadata": {},
     "output_type": "execute_result"
    }
   ],
   "source": [
    "add_bunch_of_edges!(g, [(\"A\", \"B\", 1), (\"A\", \"C\", 2), (\"A\", \"B\", 2),(\"C\", \"A\", 2),(\"B\", \"C\", 3)])"
   ]
  },
  {
   "cell_type": "code",
   "execution_count": 60,
   "metadata": {},
   "outputs": [
    {
     "data": {
      "text/plain": [
       "5-element Array{EvolvingGraphs.WeightedTimeEdge{EvolvingGraphs.Node{String},Int64,Float64},1}:\n",
       " Node(A)-1.0->Node(B) at time 1\n",
       " Node(A)-1.0->Node(C) at time 2\n",
       " Node(A)-1.0->Node(B) at time 2\n",
       " Node(C)-1.0->Node(A) at time 2\n",
       " Node(B)-1.0->Node(C) at time 3"
      ]
     },
     "execution_count": 60,
     "metadata": {},
     "output_type": "execute_result"
    }
   ],
   "source": [
    "edges(g)"
   ]
  },
  {
   "cell_type": "code",
   "execution_count": 61,
   "metadata": {},
   "outputs": [
    {
     "data": {
      "text/plain": [
       "3-element Array{Tuple{EvolvingGraphs.Node{String},Float64},1}:\n",
       " (Node(A), 0.742301)\n",
       " (Node(B), 0.42943) \n",
       " (Node(C), 0.514373)"
      ]
     },
     "execution_count": 61,
     "metadata": {},
     "output_type": "execute_result"
    }
   ],
   "source": [
    "katz(g)"
   ]
  },
  {
   "cell_type": "code",
   "execution_count": 62,
   "metadata": {},
   "outputs": [
    {
     "data": {
      "text/plain": [
       "Directed EvolvingGraph 3 nodes, 5 static edges, 3 timestamps"
      ]
     },
     "execution_count": 62,
     "metadata": {},
     "output_type": "execute_result"
    }
   ],
   "source": [
    "g2 = EvolvingGraph{Node{String}, Int}()\n",
    "add_bunch_of_edges!(g2, [(\"A\", \"B\", 3), (\"A\", \"C\", 2), (\"A\", \"B\", 2),(\"C\", \"A\", 2),(\"B\", \"C\", 1)])"
   ]
  },
  {
   "cell_type": "code",
   "execution_count": 63,
   "metadata": {},
   "outputs": [
    {
     "data": {
      "text/plain": [
       "3-element Array{Tuple{EvolvingGraphs.Node{String},Float64},1}:\n",
       " (Node(A), 0.687679)\n",
       " (Node(B), 0.490062)\n",
       " (Node(C), 0.535666)"
      ]
     },
     "execution_count": 63,
     "metadata": {},
     "output_type": "execute_result"
    }
   ],
   "source": [
    "katz(g2)"
   ]
  },
  {
   "cell_type": "code",
   "execution_count": 27,
   "metadata": {},
   "outputs": [
    {
     "data": {
      "text/plain": [
       "3-element Array{Tuple{EvolvingGraphs.Node{String},Float64},1}:\n",
       " (Node(A), 0.621164)\n",
       " (Node(B), 0.621164)\n",
       " (Node(C), 0.477818)"
      ]
     },
     "execution_count": 27,
     "metadata": {},
     "output_type": "execute_result"
    }
   ],
   "source": [
    "g1 = EvolvingGraph{Node{String}, Int}()\n",
    "add_bunch_of_edges!(g1, [(\"A\",\"B\", 1),(\"B\",\"C\", 2)])\n",
    "katz(g1)"
   ]
  },
  {
   "cell_type": "code",
   "execution_count": 31,
   "metadata": {},
   "outputs": [
    {
     "data": {
      "text/plain": [
       "3-element Array{Tuple{EvolvingGraphs.Node{String},Float64},1}:\n",
       " (Node(A), 0.621164)\n",
       " (Node(B), 0.621164)\n",
       " (Node(C), 0.477818)"
      ]
     },
     "execution_count": 31,
     "metadata": {},
     "output_type": "execute_result"
    }
   ],
   "source": [
    "g2 = EvolvingGraph{Node{String}, Int}()\n",
    "add_bunch_of_edges!(g2, [(\"A\",\"B\", 2),(\"B\",\"C\", 1)])\n",
    "katz(g2)"
   ]
  },
  {
   "cell_type": "code",
   "execution_count": 32,
   "metadata": {},
   "outputs": [
    {
     "data": {
      "text/plain": [
       "3-element Array{EvolvingGraphs.Node{String},1}:\n",
       " Node(A)\n",
       " Node(B)\n",
       " Node(C)"
      ]
     },
     "execution_count": 32,
     "metadata": {},
     "output_type": "execute_result"
    }
   ],
   "source": [
    "nodes(g1)"
   ]
  },
  {
   "cell_type": "code",
   "execution_count": 33,
   "metadata": {},
   "outputs": [
    {
     "data": {
      "text/plain": [
       "3×3 Array{Float64,2}:\n",
       " 0.0  0.0  0.0\n",
       " 0.0  0.0  1.0\n",
       " 0.0  0.0  0.0"
      ]
     },
     "execution_count": 33,
     "metadata": {},
     "output_type": "execute_result"
    }
   ],
   "source": [
    "A1 = adjacency_matrix(g1, 1)"
   ]
  },
  {
   "cell_type": "code",
   "execution_count": 34,
   "metadata": {},
   "outputs": [
    {
     "data": {
      "text/plain": [
       "3×3 Array{Float64,2}:\n",
       " 0.0  1.0  0.0\n",
       " 0.0  0.0  0.0\n",
       " 0.0  0.0  0.0"
      ]
     },
     "execution_count": 34,
     "metadata": {},
     "output_type": "execute_result"
    }
   ],
   "source": [
    "A2 = adjacency_matrix(g1, 2)"
   ]
  },
  {
   "cell_type": "code",
   "execution_count": 44,
   "metadata": {},
   "outputs": [
    {
     "data": {
      "text/plain": [
       "([0.0, 0.0, 0.0], [1.0 0.0 0.0; 0.0 1.0 -1.0; 0.0 0.0 3.00625e-292])"
      ]
     },
     "execution_count": 44,
     "metadata": {},
     "output_type": "execute_result"
    }
   ],
   "source": [
    "eig(A1)"
   ]
  },
  {
   "cell_type": "code",
   "execution_count": 35,
   "metadata": {},
   "outputs": [
    {
     "data": {
      "text/plain": [
       "3-element Array{Float64,1}:\n",
       " 1.01\n",
       " 1.01\n",
       " 1.0 "
      ]
     },
     "execution_count": 35,
     "metadata": {},
     "output_type": "execute_result"
    }
   ],
   "source": [
    "alpha = 0.01\n",
    "C = inv(I - alpha*A1)*inv(I - alpha*A2)\n",
    "C*ones(3)"
   ]
  },
  {
   "cell_type": "code",
   "execution_count": 36,
   "metadata": {},
   "outputs": [
    {
     "data": {
      "text/plain": [
       "3-element Array{Float64,1}:\n",
       " 1.0101\n",
       " 1.01  \n",
       " 1.0   "
      ]
     },
     "execution_count": 36,
     "metadata": {},
     "output_type": "execute_result"
    }
   ],
   "source": [
    "alpha = 0.01\n",
    "C2 = inv(I - alpha*A2)*inv(I - alpha*A1)\n",
    "C2*ones(3)"
   ]
  },
  {
   "cell_type": "code",
   "execution_count": 37,
   "metadata": {},
   "outputs": [
    {
     "data": {
      "text/plain": [
       "3-element Array{Float64,1}:\n",
       " 1.01\n",
       " 1.01\n",
       " 1.0 "
      ]
     },
     "execution_count": 37,
     "metadata": {},
     "output_type": "execute_result"
    }
   ],
   "source": [
    "X = (I - alpha*A2)*(I - alpha*A1)\n",
    "X\\ones(3)"
   ]
  },
  {
   "cell_type": "code",
   "execution_count": 38,
   "metadata": {},
   "outputs": [
    {
     "data": {
      "text/plain": [
       "3-element Array{Float64,1}:\n",
       " 1.0101\n",
       " 1.01  \n",
       " 1.0   "
      ]
     },
     "execution_count": 38,
     "metadata": {},
     "output_type": "execute_result"
    }
   ],
   "source": [
    "X2 = (I - alpha*A1)*(I - alpha*A2)\n",
    "X2\\ones(3)"
   ]
  },
  {
   "cell_type": "code",
   "execution_count": 41,
   "metadata": {},
   "outputs": [
    {
     "data": {
      "text/plain": [
       "3-element Array{Float64,1}:\n",
       " 1.01\n",
       " 1.01\n",
       " 1.0 "
      ]
     },
     "execution_count": 41,
     "metadata": {},
     "output_type": "execute_result"
    }
   ],
   "source": [
    "v = ones(3)\n",
    "x = (I -alpha*A2)\\v\n",
    "(I -alpha*A1)\\x"
   ]
  },
  {
   "cell_type": "code",
   "execution_count": 49,
   "metadata": {},
   "outputs": [
    {
     "data": {
      "text/plain": [
       "3-element Array{Float64,1}:\n",
       "  1.0\n",
       " -1.0\n",
       "  0.0"
      ]
     },
     "execution_count": 49,
     "metadata": {},
     "output_type": "execute_result"
    }
   ],
   "source": [
    "B = [0 1 1; 0 0 0; 1 0 0]\n",
    "eigvals(B)"
   ]
  },
  {
   "cell_type": "markdown",
   "metadata": {},
   "source": [
    "# Katz"
   ]
  },
  {
   "cell_type": "code",
   "execution_count": 23,
   "metadata": {},
   "outputs": [
    {
     "data": {
      "text/plain": [
       "Undirected EvolvingGraph 7 nodes, 24 static edges, 3 timestamps"
      ]
     },
     "execution_count": 23,
     "metadata": {},
     "output_type": "execute_result"
    }
   ],
   "source": [
    "# using the Figure 1 from Paper: Communicability across evolving networks\n",
    "simple_g_i = [\"A\", \"B\", \"B\", \"C\", \"E\", \"A\", \"B\", \"F\", \"C\", \"F\", \"E\", \"A\"]\n",
    "simple_g_j = [\"B\", \"F\", \"G\", \"E\", \"G\", \"B\", \"F\", \"D\", \"F\", \"G\", \"G\", \"B\"]\n",
    "simple_g_t = [1, 1, 1, 2, 2, 2, 2, 2, 3, 3, 3, 3]\n",
    "simple_g = evolving_graph_from_arrays(simple_g_i, simple_g_j, simple_g_t, is_directed = false)"
   ]
  },
  {
   "cell_type": "code",
   "execution_count": 14,
   "metadata": {},
   "outputs": [
    {
     "data": {
      "text/plain": [
       "Directed EvolvingGraph 3 nodes, 3 static edges, 3 timestamps"
      ]
     },
     "execution_count": 14,
     "metadata": {},
     "output_type": "execute_result"
    }
   ],
   "source": [
    "g_i = [1, 1, 2]\n",
    "g_j = [2, 3, 3]\n",
    "t_1 = [1, 2, 3]\n",
    "g = evolving_graph_from_arrays(g_i, g_j ,t_1)"
   ]
  },
  {
   "cell_type": "code",
   "execution_count": 21,
   "metadata": {},
   "outputs": [
    {
     "data": {
      "text/plain": [
       "Directed EvolvingGraph 3 nodes, 3 static edges, 3 timestamps"
      ]
     },
     "execution_count": 21,
     "metadata": {},
     "output_type": "execute_result"
    }
   ],
   "source": [
    "t_2 = [3, 2, 1]\n",
    "g2 = evolving_graph_from_arrays(g_i, g_j, t_2)"
   ]
  },
  {
   "cell_type": "code",
   "execution_count": 4,
   "metadata": {},
   "outputs": [
    {
     "data": {
      "text/plain": [
       "3-element Array{Tuple{EvolvingGraphs.Node{Int64},Float64},1}:\n",
       " (Node(1), 0.717069)\n",
       " (Node(2), 0.567174)\n",
       " (Node(3), 0.405124)"
      ]
     },
     "execution_count": 4,
     "metadata": {},
     "output_type": "execute_result"
    }
   ],
   "source": [
    "katz_rates = katz(g, 0.2)"
   ]
  },
  {
   "cell_type": "code",
   "execution_count": 22,
   "metadata": {},
   "outputs": [
    {
     "data": {
      "text/plain": [
       "3-element Array{Tuple{EvolvingGraphs.Node{Int64},Float64},1}:\n",
       " (Node(1), 0.667424)\n",
       " (Node(2), 0.572078)\n",
       " (Node(3), 0.476731)"
      ]
     },
     "execution_count": 22,
     "metadata": {},
     "output_type": "execute_result"
    }
   ],
   "source": [
    "katz_rates = katz(g2, 0.2)"
   ]
  },
  {
   "cell_type": "code",
   "execution_count": null,
   "metadata": {
    "collapsed": true
   },
   "outputs": [],
   "source": [
    "# being a fussy person, 1 decided to remind 2 again at timestamp t_2.\n",
    "g_i = [1, 1, 2]\n",
    "g_j = [2, 3, 3]\n",
    "t_1 = [1, 2, 3]\n",
    "g = evolving_graph_from_arrays(g_i, g_j ,t_1)"
   ]
  },
  {
   "cell_type": "code",
   "execution_count": 9,
   "metadata": {},
   "outputs": [
    {
     "data": {
      "text/plain": [
       "3-element Array{Tuple{EvolvingGraphs.Node{Int64},Float64},1}:\n",
       " (Node(1), 0.717069)\n",
       " (Node(2), 0.567174)\n",
       " (Node(3), 0.405124)"
      ]
     },
     "execution_count": 9,
     "metadata": {},
     "output_type": "execute_result"
    }
   ],
   "source": [
    "sorted_katz_rates = sort(katz_rates, by = x -> x[2], rev = true)"
   ]
  },
  {
   "cell_type": "code",
   "execution_count": 6,
   "metadata": {},
   "outputs": [
    {
     "data": {
      "text/plain": [
       "path_length"
      ]
     },
     "execution_count": 6,
     "metadata": {},
     "output_type": "execute_result"
    }
   ],
   "source": [
    "\"\"\"\n",
    "mode can be :static, :temporal,or :both\n",
    "\"\"\"\n",
    "function path_length(p::TemporalPath; mode::Symbol = :static)\n",
    "    t_l = 0 #temporal length\n",
    "    s_l = 0 #spaical length\n",
    "\n",
    "\n",
    "    pairs = zip(p.nodes[1:end-1], p.nodes[2:end])\n",
    "    for (n1, n2) in pairs\n",
    "        k1 = node_key(n1)\n",
    "        k2 = node_key(n2)\n",
    "        t1 = node_timestamp(n1)\n",
    "        t2 = node_timestamp(n2)\n",
    "\n",
    "        s_l += k1 != k2 ? 1 : 0\n",
    "        \n",
    "        t_l += abs(t2 - t1)\n",
    "    end\n",
    "    switch_mode = Dict(:static => s_l,\n",
    "                       :temporal => t_l,\n",
    "                       :both => s_l + t_l)\n",
    "    return Int(switch_mode[mode])\n",
    "end"
   ]
  },
  {
   "cell_type": "code",
   "execution_count": 150,
   "metadata": {},
   "outputs": [
    {
     "data": {
      "text/plain": [
       "6-element Array{EvolvingGraphs.TimeNode,1}:\n",
       " TimeNode(a, 2001)\n",
       " TimeNode(b, 2001)\n",
       " TimeNode(b, 2008)\n",
       " TimeNode(a, 2008)\n",
       " TimeNode(c, 2008)\n",
       " TimeNode(b, 2009)"
      ]
     },
     "execution_count": 150,
     "metadata": {},
     "output_type": "execute_result"
    }
   ],
   "source": [
    "p = TemporalPath()\n",
    "push!(p, TimeNode(1, \"a\", 2001))\n",
    "push!(p, TimeNode(2, \"b\", 2001))\n",
    "push!(p, TimeNode(3, \"b\", 2008))\n",
    "push!(p, TimeNode(4, \"a\", 2008))\n",
    "push!(p, TimeNode(5, \"c\", 2008))\n",
    "push!(p, TimeNode(6, \"b\", 2009))"
   ]
  },
  {
   "cell_type": "code",
   "execution_count": 151,
   "metadata": {},
   "outputs": [
    {
     "data": {
      "text/plain": [
       "TimeNode(a, 2001)->TimeNode(b, 2001)->TimeNode(b, 2008)->TimeNode(a, 2008)->TimeNode(c, 2008)->TimeNode(b, 2009)"
      ]
     },
     "execution_count": 151,
     "metadata": {},
     "output_type": "execute_result"
    }
   ],
   "source": [
    "q = deepcopy(p)"
   ]
  },
  {
   "cell_type": "code",
   "execution_count": 5,
   "metadata": {},
   "outputs": [
    {
     "data": {
      "text/plain": [
       "depth_first_impl (generic function with 4 methods)"
      ]
     },
     "execution_count": 5,
     "metadata": {},
     "output_type": "execute_result"
    }
   ],
   "source": [
    "function depth_first_impl(g::EvolvingGraph, i::TimeNode, j::TimeNode, p = TemporalPath(), shortest = TemporalPath(), all_paths = [])\n",
    "    \n",
    "    p = deepcopy(p)\n",
    "    push!(p, i)\n",
    "    #println(\"Current path: $(p)\")\n",
    "    \n",
    "    \n",
    "    if i == j\n",
    "        return p, all_paths\n",
    "    end\n",
    "    \n",
    "    for n in forward_neighbors(g, i)\n",
    "        if !(n in p)\n",
    "            if node_timestamp(n) <= node_timestamp(j)\n",
    "                if shortest == TemporalPath() || (length(p) < length(shortest))\n",
    "                    new_p, new_all_paths = depth_first_impl(g, n, j, p, shortest, all_paths)\n",
    "                    if !(new_p in all_paths)\n",
    "                        push!(all_paths, new_p)\n",
    "                    end\n",
    "                    if new_p != TemporalPath()\n",
    "                        shortest = new_p\n",
    "                    end\n",
    "                end\n",
    "            end\n",
    "        end\n",
    "    end\n",
    "    return shortest, all_paths\n",
    "\n",
    "end"
   ]
  },
  {
   "cell_type": "code",
   "execution_count": 152,
   "metadata": {},
   "outputs": [
    {
     "data": {
      "text/plain": [
       "single_source_shortest_path (generic function with 1 method)"
      ]
     },
     "execution_count": 152,
     "metadata": {},
     "output_type": "execute_result"
    }
   ],
   "source": [
    "function single_source_shortest_path(g, i)\n",
    "    \n",
    "end"
   ]
  },
  {
   "cell_type": "code",
   "execution_count": 153,
   "metadata": {},
   "outputs": [
    {
     "name": "stdout",
     "output_type": "stream",
     "text": [
      "TimeNode(A, 1)\n",
      "TimeNode(F, 2)\n"
     ]
    }
   ],
   "source": [
    "n1 = active_nodes(simple_g)[1]\n",
    "n2 = active_nodes(simple_g)[10]\n",
    "println(n1)\n",
    "println(n2)"
   ]
  },
  {
   "cell_type": "code",
   "execution_count": 165,
   "metadata": {},
   "outputs": [
    {
     "name": "stdout",
     "output_type": "stream",
     "text": [
      "Current path: TimeNode(A, 1)\n",
      "Current path: TimeNode(A, 1)->TimeNode(B, 1)\n",
      "Current path: TimeNode(A, 1)->TimeNode(B, 1)->TimeNode(F, 1)\n",
      "Current path: TimeNode(A, 1)->TimeNode(B, 1)->TimeNode(F, 1)->TimeNode(F, 2)\n",
      "Current path: TimeNode(A, 1)->TimeNode(B, 1)->TimeNode(G, 1)\n",
      "Current path: TimeNode(A, 1)->TimeNode(B, 1)->TimeNode(G, 1)->TimeNode(G, 2)\n",
      "Current path: TimeNode(A, 1)->TimeNode(B, 1)->TimeNode(B, 2)\n",
      "Current path: TimeNode(A, 1)->TimeNode(B, 1)->TimeNode(B, 2)->TimeNode(F, 2)\n",
      "Current path: TimeNode(A, 1)->TimeNode(A, 2)\n",
      "Current path: TimeNode(A, 1)->TimeNode(A, 2)->TimeNode(B, 2)\n",
      "Current path: TimeNode(A, 1)->TimeNode(A, 2)->TimeNode(B, 2)->TimeNode(F, 2)\n"
     ]
    },
    {
     "data": {
      "text/plain": [
       "(TimeNode(A, 1)->TimeNode(A, 2)->TimeNode(B, 2)->TimeNode(F, 2), Any[TimeNode(A, 1)->TimeNode(B, 1)->TimeNode(F, 1)->TimeNode(F, 2), TimeNode(A, 1)->TimeNode(B, 1)->TimeNode(B, 2)->TimeNode(F, 2), TimeNode(A, 1)->TimeNode(A, 2)->TimeNode(B, 2)->TimeNode(F, 2)])"
      ]
     },
     "execution_count": 165,
     "metadata": {},
     "output_type": "execute_result"
    }
   ],
   "source": [
    "p, all_p = depth_first_impl(simple_g, n1, n2)"
   ]
  },
  {
   "cell_type": "code",
   "execution_count": 166,
   "metadata": {},
   "outputs": [
    {
     "data": {
      "text/plain": [
       "TimeNode(A, 1)->TimeNode(A, 2)->TimeNode(B, 2)->TimeNode(F, 2)"
      ]
     },
     "execution_count": 166,
     "metadata": {},
     "output_type": "execute_result"
    }
   ],
   "source": [
    "p"
   ]
  },
  {
   "cell_type": "code",
   "execution_count": 167,
   "metadata": {},
   "outputs": [
    {
     "data": {
      "text/plain": [
       "3-element Array{Any,1}:\n",
       " TimeNode(A, 1)->TimeNode(B, 1)->TimeNode(F, 1)->TimeNode(F, 2)\n",
       " TimeNode(A, 1)->TimeNode(B, 1)->TimeNode(B, 2)->TimeNode(F, 2)\n",
       " TimeNode(A, 1)->TimeNode(A, 2)->TimeNode(B, 2)->TimeNode(F, 2)"
      ]
     },
     "execution_count": 167,
     "metadata": {},
     "output_type": "execute_result"
    }
   ],
   "source": [
    "all_p"
   ]
  },
  {
   "cell_type": "code",
   "execution_count": 25,
   "metadata": {},
   "outputs": [
    {
     "data": {
      "text/plain": [
       "simulated_katz (generic function with 1 method)"
      ]
     },
     "execution_count": 25,
     "metadata": {},
     "output_type": "execute_result"
    }
   ],
   "source": [
    "# Let α be a number between 0 and 1. \n",
    "# We consider 3 cases:\n",
    "# 1: only count static edges (1 static edge has length 1)\n",
    "# 2: only conut causal edges (1 causal edge has length 1)\n",
    "# 3. both\n",
    "\n",
    "function simulated_katz(g::AbstractEvolvingGraph, alpha::Real)\n",
    "    n = num_nodes(g)\n",
    "    ans = active_nodes(g)\n",
    "    ns = nodes(g)\n",
    "    A = spzeros(Float64, n, n)\n",
    "    \n",
    "    for i in ans\n",
    "        for j in ans\n",
    "            v = 0.\n",
    "            s, ps = depth_first_impl(g, i,j)\n",
    "            for p in ps\n",
    "                if length(p) > 0\n",
    "                    v += alpha^(- path_length(p, mode = :static))\n",
    "                end\n",
    "            end\n",
    "            i_index = g.node_indexof[node_key(i)]\n",
    "            j_index = g.node_indexof[node_key(j)]\n",
    "            A[i_index,j_index] += v\n",
    "        end\n",
    "    end\n",
    "    rates = A*ones(n)\n",
    "    r = [(node, rates[node.index]) for node in ns]\n",
    "    # \n",
    "end"
   ]
  },
  {
   "cell_type": "code",
   "execution_count": 26,
   "metadata": {},
   "outputs": [
    {
     "data": {
      "text/plain": [
       "3-element Array{Tuple{EvolvingGraphs.Node{Int64},Float64},1}:\n",
       " (Node(1), 16.0)\n",
       " (Node(2), 11.0)\n",
       " (Node(3), 1.0) "
      ]
     },
     "execution_count": 26,
     "metadata": {},
     "output_type": "execute_result"
    }
   ],
   "source": [
    "r = simulated_katz(g, 0.2)"
   ]
  },
  {
   "cell_type": "code",
   "execution_count": 16,
   "metadata": {},
   "outputs": [
    {
     "data": {
      "text/plain": [
       "6-element Array{EvolvingGraphs.TimeNode{Int64,Int64},1}:\n",
       " TimeNode(1, 1)\n",
       " TimeNode(2, 1)\n",
       " TimeNode(1, 2)\n",
       " TimeNode(3, 2)\n",
       " TimeNode(2, 3)\n",
       " TimeNode(3, 3)"
      ]
     },
     "execution_count": 16,
     "metadata": {},
     "output_type": "execute_result"
    }
   ],
   "source": [
    "active_nodes(g)"
   ]
  },
  {
   "cell_type": "code",
   "execution_count": 19,
   "metadata": {
    "scrolled": false
   },
   "outputs": [
    {
     "data": {
      "text/plain": [
       "3-element Array{Tuple{EvolvingGraphs.Node{Int64},Float64},1}:\n",
       " (Node(1), 2.24)\n",
       " (Node(2), 1.4) \n",
       " (Node(3), 1.0) "
      ]
     },
     "execution_count": 19,
     "metadata": {},
     "output_type": "execute_result"
    }
   ],
   "source": [
    "sorted = sort(r, by = x -> x[2], rev = true)"
   ]
  },
  {
   "cell_type": "code",
   "execution_count": null,
   "metadata": {
    "collapsed": true
   },
   "outputs": [],
   "source": [
    "function shortest_temporal_path(i::TimeNode, j::TimeNode)\n",
    "    \n",
    "end"
   ]
  },
  {
   "cell_type": "code",
   "execution_count": null,
   "metadata": {
    "collapsed": true
   },
   "outputs": [],
   "source": [
    "function simulated_betweeness(g::AbstractEvolvingGraph)\n",
    "    \n",
    "end"
   ]
  },
  {
   "cell_type": "markdown",
   "metadata": {
    "collapsed": true
   },
   "source": [
    "# PageRank\n",
    "\n",
    "We use "
   ]
  },
  {
   "cell_type": "code",
   "execution_count": null,
   "metadata": {
    "collapsed": true
   },
   "outputs": [],
   "source": []
  },
  {
   "cell_type": "markdown",
   "metadata": {},
   "source": [
    "# Measure\n",
    "\n",
    "Can compare changes in edges, and changes in rating. Match expectency."
   ]
  }
 ],
 "metadata": {
  "kernelspec": {
   "display_name": "Julia 0.6.2",
   "language": "julia",
   "name": "julia-0.6"
  },
  "language_info": {
   "file_extension": ".jl",
   "mimetype": "application/julia",
   "name": "julia",
   "version": "0.6.2"
  }
 },
 "nbformat": 4,
 "nbformat_minor": 2
}
